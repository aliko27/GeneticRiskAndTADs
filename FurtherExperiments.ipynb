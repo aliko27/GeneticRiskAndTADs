{
 "cells": [
  {
   "cell_type": "code",
   "execution_count": null,
   "metadata": {},
   "outputs": [],
   "source": [
    "%matplotlib inline"
   ]
  },
  {
   "cell_type": "code",
   "execution_count": null,
   "metadata": {},
   "outputs": [],
   "source": [
    "import os\n",
    "\n",
    "import numpy as np\n",
    "import pandas as pd\n",
    "\n",
    "import seaborn as sns\n",
    "import matplotlib.pyplot as plt\n",
    "\n",
    "from tqdm import tqdm_notebook as tqdm"
   ]
  },
  {
   "cell_type": "code",
   "execution_count": null,
   "metadata": {},
   "outputs": [],
   "source": [
    "sns.set_context('talk')"
   ]
  },
  {
   "cell_type": "markdown",
   "metadata": {},
   "source": [
    "## GWAS history"
   ]
  },
  {
   "cell_type": "markdown",
   "metadata": {},
   "source": [
    "### Acquire data"
   ]
  },
  {
   "cell_type": "code",
   "execution_count": null,
   "metadata": {},
   "outputs": [],
   "source": [
    "gwashist_dir = './cache/gwas_history/'\n",
    "\n",
    "if not os.path.isdir(gwashist_dir):\n",
    "    # download all versions\n",
    "    !wget -m -A \"gwas-catalog-associations.tsv\" ftp://ftp.ebi.ac.uk/pub/databases/gwas/releases -P $gwashist_dir\n",
    "else:\n",
    "    print('Cached', gwashist_dir)"
   ]
  },
  {
   "cell_type": "code",
   "execution_count": null,
   "metadata": {},
   "outputs": [],
   "source": [
    "# parse data\n",
    "data = []\n",
    "for year in os.scandir(f'{gwashist_dir}/ftp.ebi.ac.uk/pub/databases/gwas/releases/'):\n",
    "    if not year.is_dir():\n",
    "        continue\n",
    "    for month in os.scandir(year.path):\n",
    "        if not month.is_dir():\n",
    "            continue\n",
    "        for day in os.scandir(month.path):\n",
    "            if not day.is_dir():\n",
    "                continue\n",
    "            for entry in os.scandir(day.path):\n",
    "                if not entry.name.endswith('.tsv'):\n",
    "                    continue\n",
    "\n",
    "                timestamp = f'{year.name}.{month.name}.{day.name}'\n",
    "                data.append((timestamp, entry.path, pd.read_table(entry.path, low_memory=False)))\n",
    "                \n",
    "df_gwashist = pd.DataFrame(data, columns=['timestamp', 'path', 'dataframe'])\n",
    "df_gwashist['timestamp'] = pd.to_datetime(df_gwashist['timestamp'])\n",
    "df_gwashist.set_index('timestamp', inplace=True)"
   ]
  },
  {
   "cell_type": "code",
   "execution_count": null,
   "metadata": {},
   "outputs": [],
   "source": [
    "df_gwashist.sample(5)"
   ]
  },
  {
   "cell_type": "markdown",
   "metadata": {},
   "source": [
    "### Plot size development"
   ]
  },
  {
   "cell_type": "code",
   "execution_count": null,
   "metadata": {},
   "outputs": [],
   "source": [
    "df_gwashist['size'] = df_gwashist['dataframe'].apply(lambda x: x.shape[0])"
   ]
  },
  {
   "cell_type": "code",
   "execution_count": null,
   "metadata": {},
   "outputs": [],
   "source": [
    "plt.figure()\n",
    "\n",
    "df_gwashist['size'].plot()\n",
    "plt.xlabel('Release date')\n",
    "plt.ylabel('GWAS-Catalog size [#entries]')\n",
    "\n",
    "plt.tight_layout()\n",
    "plt.savefig('images/gwas_history.pdf')"
   ]
  },
  {
   "cell_type": "markdown",
   "metadata": {},
   "source": [
    "## Old enrichments vs new enrichments"
   ]
  },
  {
   "cell_type": "markdown",
   "metadata": {},
   "source": [
    "### Read data"
   ]
  },
  {
   "cell_type": "code",
   "execution_count": null,
   "metadata": {},
   "outputs": [],
   "source": [
    "df_enr_old = pd.read_csv('results/TAD_enrichment__old_version.csv')\n",
    "df_enr_new = pd.read_csv('results/TAD_enrichment.csv')\n",
    "\n",
    "print('#diseases (old):', df_enr_old['disease'].unique().size)\n",
    "print('#diseases (new):', df_enr_new['disease'].unique().size)"
   ]
  },
  {
   "cell_type": "code",
   "execution_count": null,
   "metadata": {},
   "outputs": [],
   "source": [
    "shared_diseases = list(set(df_enr_new['disease'].tolist()) & set(df_enr_old['disease'].tolist()))\n",
    "\n",
    "df_enr_old = df_enr_old[df_enr_old['disease'].isin(shared_diseases)].set_index('disease')\n",
    "df_enr_new = df_enr_new[df_enr_new['disease'].isin(shared_diseases)].set_index('disease')"
   ]
  },
  {
   "cell_type": "markdown",
   "metadata": {},
   "source": [
    "### Plot result"
   ]
  },
  {
   "cell_type": "code",
   "execution_count": null,
   "metadata": {},
   "outputs": [],
   "source": [
    "### Plot result"
   ]
  },
  {
   "cell_type": "code",
   "execution_count": null,
   "metadata": {},
   "outputs": [],
   "source": [
    "pval_cols = [c for c in df_enr_new.columns if c.startswith('pval')]\n",
    "mylog = np.vectorize(lambda x: np.log10(x) if x > 0 else np.nan)\n",
    "\n",
    "for pcol in pval_cols:\n",
    "    fig, ax_arr = plt.subplots(\n",
    "        2, len(df_enr_new['TAD_type'].unique())//2,\n",
    "        figsize=(20,8))\n",
    "    for (tad_type, group_new), ax in zip(df_enr_new.groupby('TAD_type'), ax_arr.flatten()):\n",
    "        group_old = df_enr_old[df_enr_old['TAD_type'] == tad_type].reindex(shared_diseases)\n",
    "        group_new = group_new.reindex(shared_diseases)\n",
    "\n",
    "        ax.set_title(tad_type)\n",
    "        lbl = '-log(p_value)'\n",
    "        df_tmp = pd.DataFrame({\n",
    "            f'{lbl} (old)': -mylog(group_old[pcol]),\n",
    "            f'{lbl} (new)': -mylog(group_new[pcol]),\n",
    "            'log(#snp diff)': mylog(abs(group_old['gene_num'] - group_new['#snp']))\n",
    "        })\n",
    "        df_tmp.plot(\n",
    "            x=f'{lbl} (old)', y=f'{lbl} (new)', c='log(#snp diff)',\n",
    "            colormap='viridis', kind='scatter', ax=ax, loglog=True)\n",
    "        ax.set_aspect('equal')\n",
    "\n",
    "    plt.suptitle(pcol)\n",
    "    plt.tight_layout(rect=[0, 0.03, 1, 0.95])\n",
    "    plt.savefig(f'images/enrichment_comparison_oldnew_{pcol}.pdf')"
   ]
  }
 ],
 "metadata": {
  "kernelspec": {
   "display_name": "Python 3",
   "language": "python",
   "name": "python3"
  },
  "language_info": {
   "codemirror_mode": {
    "name": "ipython",
    "version": 3
   },
   "file_extension": ".py",
   "mimetype": "text/x-python",
   "name": "python",
   "nbconvert_exporter": "python",
   "pygments_lexer": "ipython3",
   "version": "3.6.5"
  }
 },
 "nbformat": 4,
 "nbformat_minor": 2
}

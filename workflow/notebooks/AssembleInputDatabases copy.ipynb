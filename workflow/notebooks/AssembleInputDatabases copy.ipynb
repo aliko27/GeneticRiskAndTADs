{
 "cells": [
  {
   "cell_type": "code",
   "execution_count": null,
   "metadata": {},
   "outputs": [],
   "source": [
    "%load_ext ipy_pdcache"
   ]
  },
  {
   "cell_type": "code",
   "execution_count": 2,
   "metadata": {},
   "outputs": [],
   "source": [
    "import os\n",
    "import time\n",
    "from io import StringIO\n",
    "\n",
    "import numpy as np\n",
    "import pandas as pd\n",
    "\n",
    "import networkx as nx\n",
    "\n",
    "#import onto2nx\n",
    "import obonet\n",
    "import pybiomart\n",
    "\n",
    "import requests\n",
    "import zstandard as zstd\n",
    "from bs4 import BeautifulSoup\n",
    "from tqdm.auto import tqdm\n",
    "\n",
    "from gene_map import GeneMapper"
   ]
  },
  {
   "cell_type": "markdown",
   "metadata": {},
   "source": [
    "# Parameters"
   ]
  },
  {
   "cell_type": "code",
   "execution_count": 3,
   "metadata": {
    "tags": [
     "parameters"
    ]
   },
   "outputs": [],
   "source": [
    "disgenet_fname = '../../results/input/disgenet.tsv'\n",
    "gwascatalog_fname = '../../results/input/gwas_catalog.tsv'\n",
    "efo_fname = '../../results/input/efo.obo'\n",
    "so_fname = '../../results/input/so.obo'\n",
    "\n",
    "db_out_fname = '../../results/databases/initial.csv'\n",
    "raw_veps_fname = '../../results/databases/vep.csv'\n",
    "\n",
    "gwas_gene_source = 'mapped'\n",
    "annotation_sources = {'hg19': '../../resources/vep_cache_hg19.csv.zst', 'hg38': '../../resources/vep_cache_hg38.csv.zst'}\n",
    "#snp_filters = snakemake.config['snp_filters']"
   ]
  },
  {
   "cell_type": "markdown",
   "metadata": {},
   "source": [
    "# Load DisGeNET"
   ]
  },
  {
   "cell_type": "code",
   "execution_count": 4,
   "id": "bored-manufacturer",
   "metadata": {},
   "outputs": [],
   "source": [
    "df_disgenet = pd.read_table(\n",
    "    disgenet_fname, usecols=['snpId', 'diseaseId', 'diseaseName', 'source']\n",
    ")\n",
    "\n",
    "df_disgenet['snp_source'] = 'disgenet'\n",
    "df_disgenet['diseaseIdType'] = 'UMLS_CUI'"
   ]
  },
  {
   "cell_type": "code",
   "execution_count": 5,
   "metadata": {},
   "outputs": [
    {
     "data": {
      "text/html": [
       "<div>\n",
       "<style scoped>\n",
       "    .dataframe tbody tr th:only-of-type {\n",
       "        vertical-align: middle;\n",
       "    }\n",
       "\n",
       "    .dataframe tbody tr th {\n",
       "        vertical-align: top;\n",
       "    }\n",
       "\n",
       "    .dataframe thead th {\n",
       "        text-align: right;\n",
       "    }\n",
       "</style>\n",
       "<table border=\"1\" class=\"dataframe\">\n",
       "  <thead>\n",
       "    <tr style=\"text-align: right;\">\n",
       "      <th></th>\n",
       "      <th>snpId</th>\n",
       "      <th>diseaseId</th>\n",
       "      <th>diseaseName</th>\n",
       "      <th>source</th>\n",
       "      <th>snp_source</th>\n",
       "      <th>diseaseIdType</th>\n",
       "    </tr>\n",
       "  </thead>\n",
       "  <tbody>\n",
       "    <tr>\n",
       "      <th>0</th>\n",
       "      <td>rs1000005</td>\n",
       "      <td>C0200638</td>\n",
       "      <td>Eosinophil count procedure</td>\n",
       "      <td>GWASCAT</td>\n",
       "      <td>disgenet</td>\n",
       "      <td>UMLS_CUI</td>\n",
       "    </tr>\n",
       "    <tr>\n",
       "      <th>1</th>\n",
       "      <td>rs10000770</td>\n",
       "      <td>C0023467</td>\n",
       "      <td>Leukemia, Myelocytic, Acute</td>\n",
       "      <td>GWASCAT</td>\n",
       "      <td>disgenet</td>\n",
       "      <td>UMLS_CUI</td>\n",
       "    </tr>\n",
       "    <tr>\n",
       "      <th>2</th>\n",
       "      <td>rs1000091588</td>\n",
       "      <td>C1858517</td>\n",
       "      <td>SPINAL MUSCULAR ATROPHY WITH RESPIRATORY DISTR...</td>\n",
       "      <td>CLINVAR</td>\n",
       "      <td>disgenet</td>\n",
       "      <td>UMLS_CUI</td>\n",
       "    </tr>\n",
       "    <tr>\n",
       "      <th>3</th>\n",
       "      <td>rs1000096</td>\n",
       "      <td>C1305855</td>\n",
       "      <td>Body mass index</td>\n",
       "      <td>GWASCAT</td>\n",
       "      <td>disgenet</td>\n",
       "      <td>UMLS_CUI</td>\n",
       "    </tr>\n",
       "    <tr>\n",
       "      <th>4</th>\n",
       "      <td>rs10001106</td>\n",
       "      <td>C0003868</td>\n",
       "      <td>Arthritis, Gouty</td>\n",
       "      <td>GWASDB</td>\n",
       "      <td>disgenet</td>\n",
       "      <td>UMLS_CUI</td>\n",
       "    </tr>\n",
       "  </tbody>\n",
       "</table>\n",
       "</div>"
      ],
      "text/plain": [
       "          snpId diseaseId                                        diseaseName  \\\n",
       "0     rs1000005  C0200638                         Eosinophil count procedure   \n",
       "1    rs10000770  C0023467                        Leukemia, Myelocytic, Acute   \n",
       "2  rs1000091588  C1858517  SPINAL MUSCULAR ATROPHY WITH RESPIRATORY DISTR...   \n",
       "3     rs1000096  C1305855                                    Body mass index   \n",
       "4    rs10001106  C0003868                                   Arthritis, Gouty   \n",
       "\n",
       "    source snp_source diseaseIdType  \n",
       "0  GWASCAT   disgenet      UMLS_CUI  \n",
       "1  GWASCAT   disgenet      UMLS_CUI  \n",
       "2  CLINVAR   disgenet      UMLS_CUI  \n",
       "3  GWASCAT   disgenet      UMLS_CUI  \n",
       "4   GWASDB   disgenet      UMLS_CUI  "
      ]
     },
     "execution_count": 5,
     "metadata": {},
     "output_type": "execute_result"
    }
   ],
   "source": [
    "df_disgenet.head()"
   ]
  },
  {
   "cell_type": "markdown",
   "metadata": {},
   "source": [
    "# Load GWAS catalog"
   ]
  },
  {
   "cell_type": "markdown",
   "metadata": {},
   "source": [
    "## Parse input"
   ]
  },
  {
   "cell_type": "code",
   "execution_count": 6,
   "id": "decimal-package",
   "metadata": {},
   "outputs": [
    {
     "data": {
      "text/html": [
       "<div>\n",
       "<style scoped>\n",
       "    .dataframe tbody tr th:only-of-type {\n",
       "        vertical-align: middle;\n",
       "    }\n",
       "\n",
       "    .dataframe tbody tr th {\n",
       "        vertical-align: top;\n",
       "    }\n",
       "\n",
       "    .dataframe thead th {\n",
       "        text-align: right;\n",
       "    }\n",
       "</style>\n",
       "<table border=\"1\" class=\"dataframe\">\n",
       "  <thead>\n",
       "    <tr style=\"text-align: right;\">\n",
       "      <th></th>\n",
       "      <th>DATE ADDED TO CATALOG</th>\n",
       "      <th>PUBMEDID</th>\n",
       "      <th>FIRST AUTHOR</th>\n",
       "      <th>DATE</th>\n",
       "      <th>JOURNAL</th>\n",
       "      <th>LINK</th>\n",
       "      <th>STUDY</th>\n",
       "      <th>DISEASE/TRAIT</th>\n",
       "      <th>INITIAL SAMPLE SIZE</th>\n",
       "      <th>REPLICATION SAMPLE SIZE</th>\n",
       "      <th>...</th>\n",
       "      <th>95% CI (TEXT)</th>\n",
       "      <th>PLATFORM [SNPS PASSING QC]</th>\n",
       "      <th>CNV</th>\n",
       "      <th>diseaseName</th>\n",
       "      <th>diseaseId</th>\n",
       "      <th>STUDY ACCESSION</th>\n",
       "      <th>GENOTYPING TECHNOLOGY</th>\n",
       "      <th>snp_source</th>\n",
       "      <th>diseaseIdType</th>\n",
       "      <th>odds_ratio</th>\n",
       "    </tr>\n",
       "  </thead>\n",
       "  <tbody>\n",
       "    <tr>\n",
       "      <th>0</th>\n",
       "      <td>2011-07-20</td>\n",
       "      <td>21658281</td>\n",
       "      <td>Aouizerat BE</td>\n",
       "      <td>2011-06-10</td>\n",
       "      <td>BMC Cardiovasc Disord</td>\n",
       "      <td>www.ncbi.nlm.nih.gov/pubmed/21658281</td>\n",
       "      <td>GWAS for discovery and replication of genetic ...</td>\n",
       "      <td>Sudden cardiac arrest</td>\n",
       "      <td>88 European ancestry cases, 517 European ances...</td>\n",
       "      <td>NaN</td>\n",
       "      <td>...</td>\n",
       "      <td>[1.06-1.16]</td>\n",
       "      <td>Affymetrix [319222]</td>\n",
       "      <td>N</td>\n",
       "      <td>sudden cardiac arrest</td>\n",
       "      <td>EFO_0004278</td>\n",
       "      <td>GCST001102</td>\n",
       "      <td>Genome-wide genotyping array</td>\n",
       "      <td>gwas_catalog</td>\n",
       "      <td>EFO</td>\n",
       "      <td>1.11</td>\n",
       "    </tr>\n",
       "  </tbody>\n",
       "</table>\n",
       "<p>1 rows × 41 columns</p>\n",
       "</div>"
      ],
      "text/plain": [
       "  DATE ADDED TO CATALOG  PUBMEDID  FIRST AUTHOR        DATE  \\\n",
       "0            2011-07-20  21658281  Aouizerat BE  2011-06-10   \n",
       "\n",
       "                 JOURNAL                                  LINK  \\\n",
       "0  BMC Cardiovasc Disord  www.ncbi.nlm.nih.gov/pubmed/21658281   \n",
       "\n",
       "                                               STUDY          DISEASE/TRAIT  \\\n",
       "0  GWAS for discovery and replication of genetic ...  Sudden cardiac arrest   \n",
       "\n",
       "                                 INITIAL SAMPLE SIZE REPLICATION SAMPLE SIZE  \\\n",
       "0  88 European ancestry cases, 517 European ances...                     NaN   \n",
       "\n",
       "   ... 95% CI (TEXT) PLATFORM [SNPS PASSING QC] CNV            diseaseName  \\\n",
       "0  ...   [1.06-1.16]        Affymetrix [319222]   N  sudden cardiac arrest   \n",
       "\n",
       "     diseaseId STUDY ACCESSION         GENOTYPING TECHNOLOGY    snp_source  \\\n",
       "0  EFO_0004278      GCST001102  Genome-wide genotyping array  gwas_catalog   \n",
       "\n",
       "   diseaseIdType  odds_ratio  \n",
       "0            EFO        1.11  \n",
       "\n",
       "[1 rows x 41 columns]"
      ]
     },
     "execution_count": 6,
     "metadata": {},
     "output_type": "execute_result"
    }
   ],
   "source": [
    "df_gwascat = pd.read_table(gwascatalog_fname, low_memory=False)\n",
    "\n",
    "# df_gwascat = df_gwascat[['SNP_ID_CURRENT', 'MAPPED_TRAIT_URI', 'MAPPED_TRAIT']]\n",
    "df_gwascat.dropna(\n",
    "    subset=['SNP_ID_CURRENT', 'MAPPED_TRAIT_URI', 'MAPPED_TRAIT'], inplace=True\n",
    ")\n",
    "df_gwascat.rename(\n",
    "    columns={\n",
    "        'SNP_ID_CURRENT': 'snpId',\n",
    "        'MAPPED_TRAIT_URI': 'diseaseId',\n",
    "        'MAPPED_TRAIT': 'diseaseName',\n",
    "    },\n",
    "    inplace=True,\n",
    ")\n",
    "\n",
    "df_gwascat['snpId'] = df_gwascat['snpId'].apply(lambda x: f'rs{x}')\n",
    "df_gwascat['snp_source'] = 'gwas_catalog'\n",
    "\n",
    "df_gwascat['diseaseId'] = df_gwascat['diseaseId'].str.split(',')\n",
    "df_gwascat = df_gwascat.explode('diseaseId')\n",
    "\n",
    "df_gwascat['diseaseId'] = df_gwascat['diseaseId'].apply(lambda x: x.split('/')[-1])\n",
    "df_gwascat['diseaseIdType'] = df_gwascat['diseaseId'].apply(lambda x: x.split('_')[0])\n",
    "\n",
    "# convert BETA to odds ratio\n",
    "df_gwascat['odds_ratio'] = df_gwascat['OR or BETA'].apply(\n",
    "    lambda x: np.exp(x) if x < 1 else x\n",
    ")\n",
    "\n",
    "df_gwascat.head(1)"
   ]
  },
  {
   "cell_type": "markdown",
   "metadata": {},
   "source": [
    "## Infer associated gene(s)\n",
    "\n",
    "Possible columns:\n",
    "* REPORTED GENE(S): gene reported by author\n",
    "* MAPPED GENE: Gene(s) mapped to the strongest SNP (if SNP is intergenic uses upstream and downstream genes)\n",
    "* SNP_GENE_IDS: Entrez Gene ID"
   ]
  },
  {
   "cell_type": "code",
   "execution_count": 7,
   "metadata": {},
   "outputs": [
    {
     "data": {
      "text/html": [
       "<div>\n",
       "<style scoped>\n",
       "    .dataframe tbody tr th:only-of-type {\n",
       "        vertical-align: middle;\n",
       "    }\n",
       "\n",
       "    .dataframe tbody tr th {\n",
       "        vertical-align: top;\n",
       "    }\n",
       "\n",
       "    .dataframe thead th {\n",
       "        text-align: right;\n",
       "    }\n",
       "</style>\n",
       "<table border=\"1\" class=\"dataframe\">\n",
       "  <thead>\n",
       "    <tr style=\"text-align: right;\">\n",
       "      <th></th>\n",
       "      <th>REPORTED GENE(S)</th>\n",
       "      <th>MAPPED_GENE</th>\n",
       "      <th>SNP_GENE_IDS</th>\n",
       "    </tr>\n",
       "  </thead>\n",
       "  <tbody>\n",
       "    <tr>\n",
       "      <th>0</th>\n",
       "      <td>intergenic</td>\n",
       "      <td>FTH1P5 - AL158050.2</td>\n",
       "      <td>NaN</td>\n",
       "    </tr>\n",
       "    <tr>\n",
       "      <th>1</th>\n",
       "      <td>intergenic</td>\n",
       "      <td>LINC02376 - AC073913.1</td>\n",
       "      <td>NaN</td>\n",
       "    </tr>\n",
       "    <tr>\n",
       "      <th>2</th>\n",
       "      <td>CHRNB4</td>\n",
       "      <td>CHRNB4</td>\n",
       "      <td>ENSG00000117971</td>\n",
       "    </tr>\n",
       "    <tr>\n",
       "      <th>3</th>\n",
       "      <td>intergenic</td>\n",
       "      <td>MARCHF10, AC005821.1</td>\n",
       "      <td>ENSG00000173838, ENSG00000265702</td>\n",
       "    </tr>\n",
       "    <tr>\n",
       "      <th>4</th>\n",
       "      <td>CDH4</td>\n",
       "      <td>CDH4, CDH4</td>\n",
       "      <td>ENSG00000179242, ENSG00000280641</td>\n",
       "    </tr>\n",
       "  </tbody>\n",
       "</table>\n",
       "</div>"
      ],
      "text/plain": [
       "  REPORTED GENE(S)             MAPPED_GENE                      SNP_GENE_IDS\n",
       "0       intergenic     FTH1P5 - AL158050.2                               NaN\n",
       "1       intergenic  LINC02376 - AC073913.1                               NaN\n",
       "2           CHRNB4                  CHRNB4                   ENSG00000117971\n",
       "3       intergenic    MARCHF10, AC005821.1  ENSG00000173838, ENSG00000265702\n",
       "4             CDH4              CDH4, CDH4  ENSG00000179242, ENSG00000280641"
      ]
     },
     "execution_count": 7,
     "metadata": {},
     "output_type": "execute_result"
    }
   ],
   "source": [
    "df_gwascat[['REPORTED GENE(S)', 'MAPPED_GENE', 'SNP_GENE_IDS']].head()"
   ]
  },
  {
   "cell_type": "code",
   "execution_count": 8,
   "id": "official-france",
   "metadata": {},
   "outputs": [],
   "source": [
    "if gwas_gene_source == 'reported':\n",
    "    # are gene names, must be mapped to ENTREZ\n",
    "    raw_genes = df_gwascat['REPORTED GENE(S)'].str.split(', ').tolist()\n",
    "\n",
    "    gene_blacklist = {'intergenic', 'NR'}\n",
    "    cur_genes = [\n",
    "        g\n",
    "        for gs in raw_genes\n",
    "        if not isinstance(gs, float)\n",
    "        for g in gs\n",
    "        if g not in gene_blacklist\n",
    "    ]  # isinstance(gs,float) -> gs==np.nan\n",
    "\n",
    "    gm = GeneMapper()\n",
    "    df_map = gm.query(\n",
    "        id_list=cur_genes, source_id_type='Gene_Name', target_id_type='GeneID'\n",
    "    )\n",
    "    name2id = df_map.set_index('ID_from').to_dict()['ID_to']\n",
    "\n",
    "    entrez_genes = [\n",
    "        None if isinstance(gs, float) else [name2id[g] for g in gs if g in name2id]\n",
    "        for gs in raw_genes\n",
    "    ]\n",
    "elif gwas_gene_source == 'mapped':\n",
    "    # are already ENTREZ IDs\n",
    "    raw_genes = df_gwascat['SNP_GENE_IDS'].str.split(', ').tolist()\n",
    "    entrez_genes = [None if isinstance(gs, float) else gs for gs in raw_genes]\n",
    "else:\n",
    "    raise RuntimeError(f'Invalid gene source: \"{gwas_gene_source}\"')"
   ]
  },
  {
   "cell_type": "code",
   "execution_count": 9,
   "id": "strange-litigation",
   "metadata": {},
   "outputs": [
    {
     "data": {
      "text/html": [
       "<div>\n",
       "<style scoped>\n",
       "    .dataframe tbody tr th:only-of-type {\n",
       "        vertical-align: middle;\n",
       "    }\n",
       "\n",
       "    .dataframe tbody tr th {\n",
       "        vertical-align: top;\n",
       "    }\n",
       "\n",
       "    .dataframe thead th {\n",
       "        text-align: right;\n",
       "    }\n",
       "</style>\n",
       "<table border=\"1\" class=\"dataframe\">\n",
       "  <thead>\n",
       "    <tr style=\"text-align: right;\">\n",
       "      <th></th>\n",
       "      <th>REPORTED GENE(S)</th>\n",
       "      <th>MAPPED_GENE</th>\n",
       "      <th>SNP_GENE_IDS</th>\n",
       "      <th>associated_genes</th>\n",
       "    </tr>\n",
       "  </thead>\n",
       "  <tbody>\n",
       "    <tr>\n",
       "      <th>0</th>\n",
       "      <td>intergenic</td>\n",
       "      <td>FTH1P5 - AL158050.2</td>\n",
       "      <td>NaN</td>\n",
       "      <td>None</td>\n",
       "    </tr>\n",
       "    <tr>\n",
       "      <th>1</th>\n",
       "      <td>intergenic</td>\n",
       "      <td>LINC02376 - AC073913.1</td>\n",
       "      <td>NaN</td>\n",
       "      <td>None</td>\n",
       "    </tr>\n",
       "    <tr>\n",
       "      <th>2</th>\n",
       "      <td>CHRNB4</td>\n",
       "      <td>CHRNB4</td>\n",
       "      <td>ENSG00000117971</td>\n",
       "      <td>ENSG00000117971</td>\n",
       "    </tr>\n",
       "    <tr>\n",
       "      <th>3</th>\n",
       "      <td>intergenic</td>\n",
       "      <td>MARCHF10, AC005821.1</td>\n",
       "      <td>ENSG00000173838, ENSG00000265702</td>\n",
       "      <td>ENSG00000173838,ENSG00000265702</td>\n",
       "    </tr>\n",
       "    <tr>\n",
       "      <th>4</th>\n",
       "      <td>CDH4</td>\n",
       "      <td>CDH4, CDH4</td>\n",
       "      <td>ENSG00000179242, ENSG00000280641</td>\n",
       "      <td>ENSG00000179242,ENSG00000280641</td>\n",
       "    </tr>\n",
       "  </tbody>\n",
       "</table>\n",
       "</div>"
      ],
      "text/plain": [
       "  REPORTED GENE(S)             MAPPED_GENE                      SNP_GENE_IDS  \\\n",
       "0       intergenic     FTH1P5 - AL158050.2                               NaN   \n",
       "1       intergenic  LINC02376 - AC073913.1                               NaN   \n",
       "2           CHRNB4                  CHRNB4                   ENSG00000117971   \n",
       "3       intergenic    MARCHF10, AC005821.1  ENSG00000173838, ENSG00000265702   \n",
       "4             CDH4              CDH4, CDH4  ENSG00000179242, ENSG00000280641   \n",
       "\n",
       "                  associated_genes  \n",
       "0                             None  \n",
       "1                             None  \n",
       "2                  ENSG00000117971  \n",
       "3  ENSG00000173838,ENSG00000265702  \n",
       "4  ENSG00000179242,ENSG00000280641  "
      ]
     },
     "execution_count": 9,
     "metadata": {},
     "output_type": "execute_result"
    }
   ],
   "source": [
    "df_gwascat['associated_genes'] = [\n",
    "    None if gs is None else ','.join(gs) for gs in entrez_genes\n",
    "]\n",
    "df_gwascat[\n",
    "    ['REPORTED GENE(S)', 'MAPPED_GENE', 'SNP_GENE_IDS', 'associated_genes']\n",
    "].head()"
   ]
  },
  {
   "cell_type": "markdown",
   "metadata": {},
   "source": [
    "## Select relevant columns"
   ]
  },
  {
   "cell_type": "code",
   "execution_count": 10,
   "metadata": {},
   "outputs": [
    {
     "data": {
      "text/plain": [
       "Index(['DATE ADDED TO CATALOG', 'PUBMEDID', 'FIRST AUTHOR', 'DATE', 'JOURNAL',\n",
       "       'LINK', 'STUDY', 'DISEASE/TRAIT', 'INITIAL SAMPLE SIZE',\n",
       "       'REPLICATION SAMPLE SIZE', 'REGION', 'CHR_ID', 'CHR_POS',\n",
       "       'REPORTED GENE(S)', 'MAPPED_GENE', 'UPSTREAM_GENE_ID',\n",
       "       'DOWNSTREAM_GENE_ID', 'SNP_GENE_IDS', 'UPSTREAM_GENE_DISTANCE',\n",
       "       'DOWNSTREAM_GENE_DISTANCE', 'STRONGEST SNP-RISK ALLELE', 'SNPS',\n",
       "       'MERGED', 'snpId', 'CONTEXT', 'INTERGENIC', 'RISK ALLELE FREQUENCY',\n",
       "       'P-VALUE', 'PVALUE_MLOG', 'P-VALUE (TEXT)', 'OR or BETA',\n",
       "       '95% CI (TEXT)', 'PLATFORM [SNPS PASSING QC]', 'CNV', 'diseaseName',\n",
       "       'diseaseId', 'STUDY ACCESSION', 'GENOTYPING TECHNOLOGY', 'snp_source',\n",
       "       'diseaseIdType', 'odds_ratio', 'associated_genes'],\n",
       "      dtype='object')"
      ]
     },
     "execution_count": 10,
     "metadata": {},
     "output_type": "execute_result"
    }
   ],
   "source": [
    "df_gwascat.columns"
   ]
  },
  {
   "cell_type": "code",
   "execution_count": 11,
   "id": "optional-consumption",
   "metadata": {},
   "outputs": [
    {
     "data": {
      "text/html": [
       "<div>\n",
       "<style scoped>\n",
       "    .dataframe tbody tr th:only-of-type {\n",
       "        vertical-align: middle;\n",
       "    }\n",
       "\n",
       "    .dataframe tbody tr th {\n",
       "        vertical-align: top;\n",
       "    }\n",
       "\n",
       "    .dataframe thead th {\n",
       "        text-align: right;\n",
       "    }\n",
       "</style>\n",
       "<table border=\"1\" class=\"dataframe\">\n",
       "  <thead>\n",
       "    <tr style=\"text-align: right;\">\n",
       "      <th></th>\n",
       "      <th>diseaseId</th>\n",
       "      <th>snpId</th>\n",
       "      <th>snp_source</th>\n",
       "      <th>diseaseIdType</th>\n",
       "      <th>odds_ratio</th>\n",
       "      <th>associated_genes</th>\n",
       "    </tr>\n",
       "  </thead>\n",
       "  <tbody>\n",
       "    <tr>\n",
       "      <th>0</th>\n",
       "      <td>EFO_0004278</td>\n",
       "      <td>rs190759</td>\n",
       "      <td>gwas_catalog</td>\n",
       "      <td>EFO</td>\n",
       "      <td>1.11</td>\n",
       "      <td>None</td>\n",
       "    </tr>\n",
       "    <tr>\n",
       "      <th>1</th>\n",
       "      <td>EFO_0004278</td>\n",
       "      <td>rs1823172</td>\n",
       "      <td>gwas_catalog</td>\n",
       "      <td>EFO</td>\n",
       "      <td>1.17</td>\n",
       "      <td>None</td>\n",
       "    </tr>\n",
       "    <tr>\n",
       "      <th>2</th>\n",
       "      <td>EFO_0004278</td>\n",
       "      <td>rs950776</td>\n",
       "      <td>gwas_catalog</td>\n",
       "      <td>EFO</td>\n",
       "      <td>1.09</td>\n",
       "      <td>ENSG00000117971</td>\n",
       "    </tr>\n",
       "    <tr>\n",
       "      <th>3</th>\n",
       "      <td>EFO_0004278</td>\n",
       "      <td>rs2251393</td>\n",
       "      <td>gwas_catalog</td>\n",
       "      <td>EFO</td>\n",
       "      <td>1.13</td>\n",
       "      <td>ENSG00000173838,ENSG00000265702</td>\n",
       "    </tr>\n",
       "    <tr>\n",
       "      <th>4</th>\n",
       "      <td>EFO_0004278</td>\n",
       "      <td>rs944260</td>\n",
       "      <td>gwas_catalog</td>\n",
       "      <td>EFO</td>\n",
       "      <td>1.10</td>\n",
       "      <td>ENSG00000179242,ENSG00000280641</td>\n",
       "    </tr>\n",
       "  </tbody>\n",
       "</table>\n",
       "</div>"
      ],
      "text/plain": [
       "     diseaseId      snpId    snp_source diseaseIdType  odds_ratio  \\\n",
       "0  EFO_0004278   rs190759  gwas_catalog           EFO        1.11   \n",
       "1  EFO_0004278  rs1823172  gwas_catalog           EFO        1.17   \n",
       "2  EFO_0004278   rs950776  gwas_catalog           EFO        1.09   \n",
       "3  EFO_0004278  rs2251393  gwas_catalog           EFO        1.13   \n",
       "4  EFO_0004278   rs944260  gwas_catalog           EFO        1.10   \n",
       "\n",
       "                  associated_genes  \n",
       "0                             None  \n",
       "1                             None  \n",
       "2                  ENSG00000117971  \n",
       "3  ENSG00000173838,ENSG00000265702  \n",
       "4  ENSG00000179242,ENSG00000280641  "
      ]
     },
     "execution_count": 11,
     "metadata": {},
     "output_type": "execute_result"
    }
   ],
   "source": [
    "df_gwascat = df_gwascat[\n",
    "    [\n",
    "        'diseaseId',\n",
    "        'snpId',\n",
    "        'snp_source',\n",
    "        'diseaseIdType',\n",
    "        'odds_ratio',\n",
    "        'associated_genes',\n",
    "    ]\n",
    "]\n",
    "df_gwascat.head()"
   ]
  },
  {
   "cell_type": "markdown",
   "metadata": {},
   "source": [
    "# Combine sources"
   ]
  },
  {
   "cell_type": "code",
   "execution_count": 12,
   "id": "continental-tattoo",
   "metadata": {},
   "outputs": [
    {
     "data": {
      "text/html": [
       "<div>\n",
       "<style scoped>\n",
       "    .dataframe tbody tr th:only-of-type {\n",
       "        vertical-align: middle;\n",
       "    }\n",
       "\n",
       "    .dataframe tbody tr th {\n",
       "        vertical-align: top;\n",
       "    }\n",
       "\n",
       "    .dataframe thead th {\n",
       "        text-align: right;\n",
       "    }\n",
       "</style>\n",
       "<table border=\"1\" class=\"dataframe\">\n",
       "  <thead>\n",
       "    <tr style=\"text-align: right;\">\n",
       "      <th></th>\n",
       "      <th>diseaseId</th>\n",
       "      <th>snpId</th>\n",
       "      <th>snp_source</th>\n",
       "      <th>diseaseIdType</th>\n",
       "      <th>odds_ratio</th>\n",
       "      <th>associated_genes</th>\n",
       "    </tr>\n",
       "  </thead>\n",
       "  <tbody>\n",
       "    <tr>\n",
       "      <th>0</th>\n",
       "      <td>EFO_0004278</td>\n",
       "      <td>rs190759</td>\n",
       "      <td>gwas_catalog</td>\n",
       "      <td>EFO</td>\n",
       "      <td>1.11</td>\n",
       "      <td>None</td>\n",
       "    </tr>\n",
       "    <tr>\n",
       "      <th>1</th>\n",
       "      <td>EFO_0004278</td>\n",
       "      <td>rs1823172</td>\n",
       "      <td>gwas_catalog</td>\n",
       "      <td>EFO</td>\n",
       "      <td>1.17</td>\n",
       "      <td>None</td>\n",
       "    </tr>\n",
       "    <tr>\n",
       "      <th>2</th>\n",
       "      <td>EFO_0004278</td>\n",
       "      <td>rs950776</td>\n",
       "      <td>gwas_catalog</td>\n",
       "      <td>EFO</td>\n",
       "      <td>1.09</td>\n",
       "      <td>ENSG00000117971</td>\n",
       "    </tr>\n",
       "    <tr>\n",
       "      <th>3</th>\n",
       "      <td>EFO_0004278</td>\n",
       "      <td>rs2251393</td>\n",
       "      <td>gwas_catalog</td>\n",
       "      <td>EFO</td>\n",
       "      <td>1.13</td>\n",
       "      <td>ENSG00000173838,ENSG00000265702</td>\n",
       "    </tr>\n",
       "    <tr>\n",
       "      <th>4</th>\n",
       "      <td>EFO_0004278</td>\n",
       "      <td>rs944260</td>\n",
       "      <td>gwas_catalog</td>\n",
       "      <td>EFO</td>\n",
       "      <td>1.10</td>\n",
       "      <td>ENSG00000179242,ENSG00000280641</td>\n",
       "    </tr>\n",
       "  </tbody>\n",
       "</table>\n",
       "</div>"
      ],
      "text/plain": [
       "     diseaseId      snpId    snp_source diseaseIdType  odds_ratio  \\\n",
       "0  EFO_0004278   rs190759  gwas_catalog           EFO        1.11   \n",
       "1  EFO_0004278  rs1823172  gwas_catalog           EFO        1.17   \n",
       "2  EFO_0004278   rs950776  gwas_catalog           EFO        1.09   \n",
       "3  EFO_0004278  rs2251393  gwas_catalog           EFO        1.13   \n",
       "4  EFO_0004278   rs944260  gwas_catalog           EFO        1.10   \n",
       "\n",
       "                  associated_genes  \n",
       "0                             None  \n",
       "1                             None  \n",
       "2                  ENSG00000117971  \n",
       "3  ENSG00000173838,ENSG00000265702  \n",
       "4  ENSG00000179242,ENSG00000280641  "
      ]
     },
     "execution_count": 12,
     "metadata": {},
     "output_type": "execute_result"
    }
   ],
   "source": [
    "df = pd.concat([df_gwascat])  # df_disgenet,\n",
    "df.head()"
   ]
  },
  {
   "cell_type": "markdown",
   "metadata": {},
   "source": [
    "# Load required ontologies"
   ]
  },
  {
   "cell_type": "code",
   "execution_count": 13,
   "metadata": {},
   "outputs": [
    {
     "name": "stdout",
     "output_type": "stream",
     "text": [
      "Graph name: efo\n",
      "Number of nodes: 56615\n",
      "Number of edges: 93111\n",
      "CPU times: user 11.1 s, sys: 223 ms, total: 11.3 s\n",
      "Wall time: 11.3 s\n"
     ]
    }
   ],
   "source": [
    "%%time\n",
    "\n",
    "efo_graph = obonet.read_obo(efo_fname)\n",
    "efo_graph.name = 'efo'\n",
    "print(f\"Graph name: {efo_graph.name}\")\n",
    "print(f\"Number of nodes: {efo_graph.number_of_nodes()}\")\n",
    "print(f\"Number of edges: {efo_graph.number_of_edges()}\")"
   ]
  },
  {
   "cell_type": "code",
   "execution_count": 14,
   "metadata": {},
   "outputs": [
    {
     "name": "stdout",
     "output_type": "stream",
     "text": [
      "Graph name: so\n",
      "Number of nodes: 2393\n",
      "Number of edges: 3126\n",
      "CPU times: user 224 ms, sys: 2.47 ms, total: 227 ms\n",
      "Wall time: 227 ms\n"
     ]
    }
   ],
   "source": [
    "%%time\n",
    "\n",
    "so_graph = obonet.read_obo(so_fname)\n",
    "so_graph.name = 'so'\n",
    "print(f\"Graph name: {so_graph.name}\")\n",
    "print(f\"Number of nodes: {so_graph.number_of_nodes()}\")\n",
    "print(f\"Number of edges: {so_graph.number_of_edges()}\")"
   ]
  },
  {
   "cell_type": "markdown",
   "metadata": {},
   "source": [
    "# Label diseases"
   ]
  },
  {
   "cell_type": "code",
   "execution_count": 16,
   "metadata": {},
   "outputs": [],
   "source": [
    "efo_label_map = {idx.replace(':', '_'): data.get('name', 'Unknown') for idx, data in efo_graph.nodes(data=True)}"
   ]
  },
  {
   "cell_type": "code",
   "execution_count": 17,
   "metadata": {},
   "outputs": [
    {
     "name": "stdout",
     "output_type": "stream",
     "text": [
      "56615\n"
     ]
    }
   ],
   "source": [
    "print(len(efo_label_map))"
   ]
  },
  {
   "cell_type": "code",
   "execution_count": 18,
   "metadata": {},
   "outputs": [],
   "source": [
    "df['diseaseLabel'] = df['diseaseId'].map(efo_label_map)"
   ]
  },
  {
   "cell_type": "code",
   "execution_count": 19,
   "metadata": {},
   "outputs": [
    {
     "data": {
      "text/html": [
       "<div>\n",
       "<style scoped>\n",
       "    .dataframe tbody tr th:only-of-type {\n",
       "        vertical-align: middle;\n",
       "    }\n",
       "\n",
       "    .dataframe tbody tr th {\n",
       "        vertical-align: top;\n",
       "    }\n",
       "\n",
       "    .dataframe thead th {\n",
       "        text-align: right;\n",
       "    }\n",
       "</style>\n",
       "<table border=\"1\" class=\"dataframe\">\n",
       "  <thead>\n",
       "    <tr style=\"text-align: right;\">\n",
       "      <th></th>\n",
       "      <th>diseaseId</th>\n",
       "      <th>snpId</th>\n",
       "      <th>snp_source</th>\n",
       "      <th>diseaseIdType</th>\n",
       "      <th>odds_ratio</th>\n",
       "      <th>associated_genes</th>\n",
       "      <th>diseaseLabel</th>\n",
       "    </tr>\n",
       "  </thead>\n",
       "  <tbody>\n",
       "    <tr>\n",
       "      <th>0</th>\n",
       "      <td>EFO_0004278</td>\n",
       "      <td>rs190759</td>\n",
       "      <td>gwas_catalog</td>\n",
       "      <td>EFO</td>\n",
       "      <td>1.11</td>\n",
       "      <td>None</td>\n",
       "      <td>sudden cardiac arrest</td>\n",
       "    </tr>\n",
       "    <tr>\n",
       "      <th>1</th>\n",
       "      <td>EFO_0004278</td>\n",
       "      <td>rs1823172</td>\n",
       "      <td>gwas_catalog</td>\n",
       "      <td>EFO</td>\n",
       "      <td>1.17</td>\n",
       "      <td>None</td>\n",
       "      <td>sudden cardiac arrest</td>\n",
       "    </tr>\n",
       "    <tr>\n",
       "      <th>2</th>\n",
       "      <td>EFO_0004278</td>\n",
       "      <td>rs950776</td>\n",
       "      <td>gwas_catalog</td>\n",
       "      <td>EFO</td>\n",
       "      <td>1.09</td>\n",
       "      <td>ENSG00000117971</td>\n",
       "      <td>sudden cardiac arrest</td>\n",
       "    </tr>\n",
       "    <tr>\n",
       "      <th>3</th>\n",
       "      <td>EFO_0004278</td>\n",
       "      <td>rs2251393</td>\n",
       "      <td>gwas_catalog</td>\n",
       "      <td>EFO</td>\n",
       "      <td>1.13</td>\n",
       "      <td>ENSG00000173838,ENSG00000265702</td>\n",
       "      <td>sudden cardiac arrest</td>\n",
       "    </tr>\n",
       "    <tr>\n",
       "      <th>4</th>\n",
       "      <td>EFO_0004278</td>\n",
       "      <td>rs944260</td>\n",
       "      <td>gwas_catalog</td>\n",
       "      <td>EFO</td>\n",
       "      <td>1.10</td>\n",
       "      <td>ENSG00000179242,ENSG00000280641</td>\n",
       "      <td>sudden cardiac arrest</td>\n",
       "    </tr>\n",
       "  </tbody>\n",
       "</table>\n",
       "</div>"
      ],
      "text/plain": [
       "     diseaseId      snpId    snp_source diseaseIdType  odds_ratio  \\\n",
       "0  EFO_0004278   rs190759  gwas_catalog           EFO        1.11   \n",
       "1  EFO_0004278  rs1823172  gwas_catalog           EFO        1.17   \n",
       "2  EFO_0004278   rs950776  gwas_catalog           EFO        1.09   \n",
       "3  EFO_0004278  rs2251393  gwas_catalog           EFO        1.13   \n",
       "4  EFO_0004278   rs944260  gwas_catalog           EFO        1.10   \n",
       "\n",
       "                  associated_genes           diseaseLabel  \n",
       "0                             None  sudden cardiac arrest  \n",
       "1                             None  sudden cardiac arrest  \n",
       "2                  ENSG00000117971  sudden cardiac arrest  \n",
       "3  ENSG00000173838,ENSG00000265702  sudden cardiac arrest  \n",
       "4  ENSG00000179242,ENSG00000280641  sudden cardiac arrest  "
      ]
     },
     "execution_count": 19,
     "metadata": {},
     "output_type": "execute_result"
    }
   ],
   "source": [
    "df.head()"
   ]
  },
  {
   "cell_type": "markdown",
   "metadata": {},
   "source": [
    "# Cancer classification"
   ]
  },
  {
   "cell_type": "code",
   "execution_count": 20,
   "id": "vietnamese-mistake",
   "metadata": {},
   "outputs": [
    {
     "name": "stdout",
     "output_type": "stream",
     "text": [
      "#cancer/#disease/#all: 2955/19250/56615\n"
     ]
    }
   ],
   "source": [
    "nodes_all = list(efo_graph.nodes())\n",
    "\n",
    "# find all disease-nodes\n",
    "nodes_disease = list(nx.ancestors(efo_graph, 'EFO:0000408')) + [\n",
    "    'EFO:0000408'\n",
    "]  # disease subtree (vs traits, ...)\n",
    "\n",
    "# find all cancer diseases\n",
    "nodes_cancer = list(nx.ancestors(efo_graph, 'MONDO:0004992')) + [\n",
    "    'MONDO:0004992'\n",
    "]  # cancer subtree\n",
    "\n",
    "# assert nodes_cancer <= nodes_disease\n",
    "# assert nodes_disease <= nodes_all  # ???\n",
    "print(\n",
    "    f'#cancer/#disease/#all: {len(nodes_cancer)}/{len(nodes_disease)}/{len(nodes_all)}'\n",
    ")"
   ]
  },
  {
   "cell_type": "code",
   "execution_count": 21,
   "metadata": {},
   "outputs": [],
   "source": [
    "nodes_disease = [node.replace(':', '_') for node in nodes_disease]\n",
    "nodes_cancer = [node.replace(':', '_') for node in nodes_cancer]\n",
    "nodes_all = [node.replace(':', '_') for node in nodes_all]"
   ]
  },
  {
   "cell_type": "code",
   "execution_count": 22,
   "metadata": {},
   "outputs": [],
   "source": [
    "if 'EFO_0005842\t' in nodes_cancer:\n",
    "    print('yes')"
   ]
  },
  {
   "cell_type": "code",
   "execution_count": 23,
   "id": "positive-athens",
   "metadata": {},
   "outputs": [
    {
     "data": {
      "application/vnd.jupyter.widget-view+json": {
       "model_id": "0cb13d227b8645178db83634a9516641",
       "version_major": 2,
       "version_minor": 0
      },
      "text/plain": [
       "  0%|          | 0/2845 [00:00<?, ?it/s]"
      ]
     },
     "metadata": {},
     "output_type": "display_data"
    },
    {
     "data": {
      "text/html": [
       "<div>\n",
       "<style scoped>\n",
       "    .dataframe tbody tr th:only-of-type {\n",
       "        vertical-align: middle;\n",
       "    }\n",
       "\n",
       "    .dataframe tbody tr th {\n",
       "        vertical-align: top;\n",
       "    }\n",
       "\n",
       "    .dataframe thead th {\n",
       "        text-align: right;\n",
       "    }\n",
       "</style>\n",
       "<table border=\"1\" class=\"dataframe\">\n",
       "  <thead>\n",
       "    <tr style=\"text-align: right;\">\n",
       "      <th></th>\n",
       "      <th>diseaseId</th>\n",
       "      <th>is_cancer</th>\n",
       "    </tr>\n",
       "  </thead>\n",
       "  <tbody>\n",
       "    <tr>\n",
       "      <th>0</th>\n",
       "      <td>EFO_0004278</td>\n",
       "      <td>False</td>\n",
       "    </tr>\n",
       "    <tr>\n",
       "      <th>1</th>\n",
       "      <td>EFO_0005842</td>\n",
       "      <td>NaN</td>\n",
       "    </tr>\n",
       "    <tr>\n",
       "      <th>2</th>\n",
       "      <td>EFO_0000341</td>\n",
       "      <td>False</td>\n",
       "    </tr>\n",
       "    <tr>\n",
       "      <th>3</th>\n",
       "      <td>EFO_0004340</td>\n",
       "      <td>False</td>\n",
       "    </tr>\n",
       "    <tr>\n",
       "      <th>4</th>\n",
       "      <td>EFO_0004329</td>\n",
       "      <td>NaN</td>\n",
       "    </tr>\n",
       "  </tbody>\n",
       "</table>\n",
       "</div>"
      ],
      "text/plain": [
       "     diseaseId is_cancer\n",
       "0  EFO_0004278     False\n",
       "1  EFO_0005842       NaN\n",
       "2  EFO_0000341     False\n",
       "3  EFO_0004340     False\n",
       "4  EFO_0004329       NaN"
      ]
     },
     "execution_count": 23,
     "metadata": {},
     "output_type": "execute_result"
    }
   ],
   "source": [
    "tmp = []\n",
    "for disease in tqdm(df['diseaseId'].unique()):\n",
    "    if disease in nodes_disease:\n",
    "        tmp.append({'diseaseId': disease, 'is_cancer': disease in nodes_cancer})\n",
    "    else:\n",
    "        tmp.append({'diseaseId': disease, 'is_cancer': np.nan})\n",
    "\n",
    "df_iscancer = pd.DataFrame(tmp)\n",
    "df_iscancer.head(5)"
   ]
  },
  {
   "cell_type": "markdown",
   "metadata": {},
   "source": [
    "# SNP annotations"
   ]
  },
  {
   "cell_type": "markdown",
   "metadata": {},
   "source": [
    "## Retrieve VEP annotations"
   ]
  },
  {
   "cell_type": "markdown",
   "metadata": {},
   "source": [
    "Variant consequence ontology: http://www.sequenceontology.org/browser/current_release\n",
    "\n",
    "Description of variant types: https://www.ensembl.org/info/genome/variation/prediction/predicted_data.html\n",
    "\n",
    "Raw data: ftp://ftp.ensembl.org/pub/release-98/variation/vep/"
   ]
  },
  {
   "cell_type": "code",
   "execution_count": 24,
   "metadata": {},
   "outputs": [
    {
     "name": "stdout",
     "output_type": "stream",
     "text": [
      "Retrieving annotations for 136371 SNPs\n"
     ]
    }
   ],
   "source": [
    "snps = df['snpId'].unique().tolist()\n",
    "print(f'Retrieving annotations for {len(snps)} SNPs')"
   ]
  },
  {
   "cell_type": "code",
   "execution_count": 25,
   "id": "secondary-resistance",
   "metadata": {},
   "outputs": [
    {
     "name": "stderr",
     "output_type": "stream",
     "text": [
      "UsageError: Cell magic `%%pdcache` not found.\n"
     ]
    }
   ],
   "source": [
    "%%time\n",
    "%%pdcache df_anno_raw $raw_veps_fname\n",
    "\n",
    "df_list = []\n",
    "for genome_assembly, annotation_url in annotation_sources.items():\n",
    "    if os.path.isfile(annotation_url):\n",
    "        print('Using local SNP annotations')\n",
    "\n",
    "        if annotation_url.endswith('.zst'):\n",
    "            with open(annotation_url, 'rb') as fd:\n",
    "                data = fd.read()\n",
    "\n",
    "            dctx = zstd.ZstdDecompressor()\n",
    "            decompressed = dctx.decompress(data)\n",
    "\n",
    "            tmp = pd.read_csv(StringIO(decompressed.decode()), index_col=0)\n",
    "        else:\n",
    "            tmp = pd.read_csv(annotation_url, index_col=0)\n",
    "    else:\n",
    "        print('Retrieving SNP annotations from Ensembl')\n",
    "\n",
    "        tmp = None\n",
    "        while tmp is None:\n",
    "            try:\n",
    "                server = pybiomart.Server(host=annotation_url)\n",
    "                dataset = server.marts['ENSEMBL_MART_SNP'].datasets['hsapiens_snp']\n",
    "\n",
    "                tmp = dataset.query(\n",
    "                    attributes=[\n",
    "                        'refsnp_id',\n",
    "                        'chr_name',\n",
    "                        'chrom_start',\n",
    "                        'consequence_type_tv',\n",
    "                        'ensembl_transcript_stable_id',\n",
    "                    ],\n",
    "                    filters={'snp_filter': snps},\n",
    "                    use_attr_names=True,\n",
    "                )\n",
    "            except requests.HTTPError:\n",
    "                # retry if network error occurred\n",
    "                print('Next try...')\n",
    "                time.sleep(10)\n",
    "\n",
    "    tmp['genome_assembly'] = genome_assembly\n",
    "    df_list.append(tmp)\n",
    "\n",
    "df_anno_raw = pd.concat(df_list, ignore_index=True)"
   ]
  },
  {
   "cell_type": "code",
   "execution_count": 26,
   "metadata": {},
   "outputs": [
    {
     "ename": "NameError",
     "evalue": "name 'df_anno_raw' is not defined",
     "output_type": "error",
     "traceback": [
      "\u001b[0;31m---------------------------------------------------------------------------\u001b[0m",
      "\u001b[0;31mNameError\u001b[0m                                 Traceback (most recent call last)",
      "\u001b[0;32m/var/folders/4g/n465f8j14bq_nt2x3wjkt8pw0000gn/T/ipykernel_51315/1400875400.py\u001b[0m in \u001b[0;36m<cell line: 1>\u001b[0;34m()\u001b[0m\n\u001b[0;32m----> 1\u001b[0;31m \u001b[0mdf_anno_raw\u001b[0m\u001b[0;34m.\u001b[0m\u001b[0mhead\u001b[0m\u001b[0;34m(\u001b[0m\u001b[0;34m)\u001b[0m\u001b[0;34m\u001b[0m\u001b[0;34m\u001b[0m\u001b[0m\n\u001b[0m",
      "\u001b[0;31mNameError\u001b[0m: name 'df_anno_raw' is not defined"
     ]
    }
   ],
   "source": [
    "df_anno_raw.head()"
   ]
  },
  {
   "cell_type": "markdown",
   "metadata": {},
   "source": [
    "## Convert annotations to usable format"
   ]
  },
  {
   "cell_type": "code",
   "execution_count": null,
   "id": "posted-messenger",
   "metadata": {},
   "outputs": [],
   "source": [
    "df_anno = df_anno_raw.copy()\n",
    "\n",
    "# processing preparations\n",
    "df_anno['chr_name'] = df_anno['chr_name'].astype(str)\n",
    "\n",
    "# remove haplotypes (e.g. CHR_HSCHR6_MHC_COX_CTG1)\n",
    "df_anno = df_anno[~df_anno['chr_name'].str.contains('_')]\n",
    "\n",
    "# mark empty consequence as 'intergenic' (NaN in dataframe shows up as intergenic in VEP web-interface)\n",
    "df_anno.loc[\n",
    "    df_anno['consequence_type_tv'].isna(), 'consequence_type_tv'\n",
    "] = 'intergenic_variant'\n",
    "\n",
    "# select most frequent annotations\n",
    "tmp = []\n",
    "for (snp, genome_assembly), group in tqdm(\n",
    "    df_anno.groupby(['refsnp_id', 'genome_assembly'])\n",
    "):\n",
    "    vep_counts = group['consequence_type_tv'].value_counts()\n",
    "    top_count = vep_counts.max()\n",
    "\n",
    "    # deterministically choose \"some\" top value\n",
    "    top_vep = sorted(vep_counts[vep_counts == top_count].index)[0]\n",
    "\n",
    "    match = group[group['consequence_type_tv'] == top_vep].iloc[0]\n",
    "    tmp.append(match)\n",
    "df_anno = pd.DataFrame(tmp)\n",
    "\n",
    "# set column names\n",
    "df_anno.drop('ensembl_transcript_stable_id', axis=1, inplace=True)\n",
    "\n",
    "df_anno.rename(\n",
    "    columns={\n",
    "        'refsnp_id': 'snpId',\n",
    "        'consequence_type_tv': 'variant_type',\n",
    "        'chr_name': 'chromosome',\n",
    "        'chrom_start': 'position',\n",
    "    },\n",
    "    inplace=True,\n",
    ")"
   ]
  },
  {
   "cell_type": "code",
   "execution_count": null,
   "metadata": {},
   "outputs": [],
   "source": [
    "df_anno.head()"
   ]
  },
  {
   "cell_type": "markdown",
   "metadata": {},
   "source": [
    "## Group variant types"
   ]
  },
  {
   "cell_type": "markdown",
   "metadata": {},
   "source": [
    "### Read sequence ontology (SO)"
   ]
  },
  {
   "cell_type": "code",
   "execution_count": 27,
   "metadata": {},
   "outputs": [],
   "source": [
    "exon_subgraph = list(nx.ancestors(so_graph, 'SO:0001791')) + ['SO:0001791']\n",
    "intron_subgraph = list(nx.ancestors(so_graph, 'SO:0001627')) + ['SO:0001627']\n",
    "intergenic_subgraph = list(nx.ancestors(so_graph, 'SO:0001628')) + ['SO:0001628']"
   ]
  },
  {
   "cell_type": "code",
   "execution_count": 29,
   "metadata": {},
   "outputs": [],
   "source": [
    "exon_subgraph = [node.replace(':', '_') for node in exon_subgraph]\n",
    "intron_subgraph = [node.replace(':', '_') for node in intron_subgraph]\n",
    "intergenic_subgraph = [node.replace(':', '_') for node in intergenic_subgraph]"
   ]
  },
  {
   "cell_type": "markdown",
   "metadata": {},
   "source": [
    "### Find ontology labels"
   ]
  },
  {
   "cell_type": "code",
   "execution_count": 30,
   "metadata": {},
   "outputs": [],
   "source": [
    "so_label_map = {data.get('name', 'Unknown'): idx.replace(':', '_') for idx, data in so_graph.nodes(data=True)}"
   ]
  },
  {
   "cell_type": "markdown",
   "metadata": {},
   "source": [
    "### Classify variants"
   ]
  },
  {
   "cell_type": "code",
   "execution_count": 31,
   "id": "automatic-exemption",
   "metadata": {},
   "outputs": [],
   "source": [
    "def classify_vep(vep):\n",
    "    special_cases = {\n",
    "        'NMD_transcript_variant': 'exonic',\n",
    "        'mature_miRNA_variant': 'exonic',\n",
    "        'splice_region_variant': 'exonic',  # can be either exon or intron\n",
    "        'non_coding_transcript_variant': 'intronic',\n",
    "    }\n",
    "\n",
    "    vep_id = so_label_map[vep]\n",
    "    if vep_id in exon_subgraph:\n",
    "        assert vep_id not in intron_subgraph and vep_id not in intergenic_subgraph, vep\n",
    "        return 'exonic'\n",
    "    elif vep_id in intron_subgraph:\n",
    "        assert vep_id not in exon_subgraph and vep_id not in intergenic_subgraph, vep\n",
    "        return 'intronic'\n",
    "    elif vep_id in intergenic_subgraph:\n",
    "        assert vep_id not in intron_subgraph and vep_id not in exon_subgraph, vep\n",
    "        return 'intergenic'\n",
    "    else:\n",
    "        return special_cases.get(vep, 'ambiguous')"
   ]
  },
  {
   "cell_type": "code",
   "execution_count": 71,
   "metadata": {},
   "outputs": [
    {
     "ename": "NameError",
     "evalue": "name 'df_anno' is not defined",
     "output_type": "error",
     "traceback": [
      "\u001b[0;31m---------------------------------------------------------------------------\u001b[0m",
      "\u001b[0;31mNameError\u001b[0m                                 Traceback (most recent call last)",
      "\u001b[0;32m/var/folders/4g/n465f8j14bq_nt2x3wjkt8pw0000gn/T/ipykernel_49860/115856468.py\u001b[0m in \u001b[0;36m<cell line: 1>\u001b[0;34m()\u001b[0m\n\u001b[0;32m----> 1\u001b[0;31m \u001b[0mdf_anno\u001b[0m\u001b[0;34m[\u001b[0m\u001b[0;34m'variant_group'\u001b[0m\u001b[0;34m]\u001b[0m \u001b[0;34m=\u001b[0m \u001b[0mdf_anno\u001b[0m\u001b[0;34m[\u001b[0m\u001b[0;34m'variant_type'\u001b[0m\u001b[0;34m]\u001b[0m\u001b[0;34m.\u001b[0m\u001b[0mapply\u001b[0m\u001b[0;34m(\u001b[0m\u001b[0mclassify_vep\u001b[0m\u001b[0;34m)\u001b[0m\u001b[0;34m\u001b[0m\u001b[0;34m\u001b[0m\u001b[0m\n\u001b[0m\u001b[1;32m      2\u001b[0m \u001b[0mdf_anno\u001b[0m\u001b[0;34m[\u001b[0m\u001b[0;34m'variant_group'\u001b[0m\u001b[0;34m]\u001b[0m\u001b[0;34m.\u001b[0m\u001b[0mvalue_counts\u001b[0m\u001b[0;34m(\u001b[0m\u001b[0;34m)\u001b[0m\u001b[0;34m\u001b[0m\u001b[0;34m\u001b[0m\u001b[0m\n",
      "\u001b[0;31mNameError\u001b[0m: name 'df_anno' is not defined"
     ]
    }
   ],
   "source": [
    "df_anno['variant_group'] = df_anno['variant_type'].apply(classify_vep)\n",
    "df_anno['variant_group'].value_counts()"
   ]
  },
  {
   "cell_type": "code",
   "execution_count": null,
   "metadata": {},
   "outputs": [],
   "source": [
    "df_anno.head()"
   ]
  },
  {
   "cell_type": "markdown",
   "metadata": {},
   "source": [
    "## Sanity checks"
   ]
  },
  {
   "cell_type": "code",
   "execution_count": null,
   "id": "charming-verse",
   "metadata": {},
   "outputs": [],
   "source": [
    "# assert that all SNPs have been annotated (TODO: make this rigorous)\n",
    "# assert set(df_anno['snpId'].tolist()) == set(snps), set(snps) - set(df_anno['snpId'].tolist())\n",
    "assert df_anno is not None\n",
    "assert df_anno.shape[0] > 0"
   ]
  },
  {
   "cell_type": "code",
   "execution_count": null,
   "id": "floppy-hours",
   "metadata": {},
   "outputs": [],
   "source": [
    "# assert that all variant types have been grouped\n",
    "assert df_anno['variant_group'].isna().sum() == 0, (\n",
    "    df_anno[df_anno.variant_group.isna()]\n",
    "    .drop_duplicates('variant_type')['variant_type']\n",
    "    .tolist()\n",
    ")"
   ]
  },
  {
   "cell_type": "code",
   "execution_count": null,
   "id": "friendly-award",
   "metadata": {},
   "outputs": [],
   "source": [
    "# assert that variant type groups are reasonable\n",
    "# assert set(df_anno['variant_group']) <= {'exonic', 'intronic', 'intergenic', 'ambiguous'}, df_anno['variant_group'].unique().tolist()"
   ]
  },
  {
   "cell_type": "code",
   "execution_count": null,
   "metadata": {},
   "outputs": [],
   "source": [
    "# statistics\n",
    "print('#SNPs in database:', df['snpId'].nunique(), f'({len(snps)})')\n",
    "print('#annotated SNPs:', df_anno['snpId'].nunique())\n",
    "print('#intersection:', len(set(df['snpId'].tolist()) & set(df_anno['snpId'].tolist())))"
   ]
  },
  {
   "cell_type": "markdown",
   "metadata": {},
   "source": [
    "## Transform dataset"
   ]
  },
  {
   "cell_type": "code",
   "execution_count": null,
   "id": "metropolitan-toddler",
   "metadata": {},
   "outputs": [],
   "source": [
    "def dummy_agg(x):\n",
    "    assert len(x) <= 1\n",
    "    return x\n",
    "\n",
    "\n",
    "df_anno_trans = pd.pivot_table(\n",
    "    df_anno,\n",
    "    values=['chromosome', 'position', 'variant_type', 'variant_group'],\n",
    "    index=['snpId'],\n",
    "    columns=['genome_assembly'],\n",
    "    aggfunc=dummy_agg,\n",
    ").reset_index()\n",
    "\n",
    "df_anno_trans.columns = [\n",
    "    '_'.join(col).rstrip('_') for col in df_anno_trans.columns.values\n",
    "]"
   ]
  },
  {
   "cell_type": "code",
   "execution_count": null,
   "metadata": {},
   "outputs": [],
   "source": [
    "df_anno_trans.head()"
   ]
  },
  {
   "cell_type": "markdown",
   "metadata": {},
   "source": [
    "# Merge data sources"
   ]
  },
  {
   "cell_type": "code",
   "execution_count": null,
   "metadata": {},
   "outputs": [],
   "source": [
    "# initial aggregation\n",
    "df_final = df.copy()\n",
    "df_final.shape"
   ]
  },
  {
   "cell_type": "code",
   "execution_count": null,
   "metadata": {},
   "outputs": [],
   "source": [
    "# cancer-classification\n",
    "df_final = df_final.merge(df_iscancer, on='diseaseId')\n",
    "df_final.shape"
   ]
  },
  {
   "cell_type": "code",
   "execution_count": null,
   "metadata": {},
   "outputs": [],
   "source": [
    "# SNP annotation\n",
    "df_final = df_final.merge(df_anno_trans, how='left')\n",
    "df_final.shape"
   ]
  },
  {
   "cell_type": "code",
   "execution_count": null,
   "metadata": {},
   "outputs": [],
   "source": [
    "df_final.head()"
   ]
  },
  {
   "cell_type": "markdown",
   "metadata": {},
   "source": [
    "# Apply filters"
   ]
  },
  {
   "cell_type": "markdown",
   "metadata": {},
   "source": [
    "## General filters"
   ]
  },
  {
   "cell_type": "code",
   "execution_count": null,
   "metadata": {},
   "outputs": [],
   "source": [
    "# only keep diseases (and not e.g. traits)\n",
    "df_final.dropna(subset=['is_cancer'], inplace=True)"
   ]
  },
  {
   "cell_type": "code",
   "execution_count": null,
   "metadata": {},
   "outputs": [],
   "source": [
    "df_final.shape"
   ]
  },
  {
   "cell_type": "markdown",
   "metadata": {},
   "source": [
    "## Variant type filters (only add marker)"
   ]
  },
  {
   "cell_type": "code",
   "execution_count": null,
   "id": "improving-mainstream",
   "metadata": {},
   "outputs": [],
   "source": [
    "for filter_name, filter_query in snp_filters.items():\n",
    "    for genome_assembly in annotation_sources.keys():\n",
    "        idx = f'filter_{filter_name}_{genome_assembly}'\n",
    "\n",
    "        df_final[idx] = False\n",
    "        if filter_query is None:\n",
    "            df_final[idx] = True\n",
    "        else:\n",
    "            match = df_final.query(\n",
    "                filter_query.format(genome_assembly=genome_assembly)\n",
    "            ).index\n",
    "            df_final.loc[match, idx] = True"
   ]
  },
  {
   "cell_type": "markdown",
   "metadata": {},
   "source": [
    "# Save result"
   ]
  },
  {
   "cell_type": "code",
   "execution_count": null,
   "metadata": {},
   "outputs": [],
   "source": [
    "df_final.head()"
   ]
  },
  {
   "cell_type": "code",
   "execution_count": null,
   "metadata": {},
   "outputs": [],
   "source": [
    "df_final.to_csv(db_out_fname, index=False)"
   ]
  }
 ],
 "metadata": {
  "kernelspec": {
   "display_name": "Python 3.10.0",
   "language": "python",
   "name": "python3"
  },
  "language_info": {
   "codemirror_mode": {
    "name": "ipython",
    "version": 3
   },
   "file_extension": ".py",
   "mimetype": "text/x-python",
   "name": "python",
   "nbconvert_exporter": "python",
   "pygments_lexer": "ipython3",
   "version": "3.10.0"
  },
  "vscode": {
   "interpreter": {
    "hash": "7d40d34a75c481056f0a3e19d7966f1594f3d33dfcd254a1a1936bd9933c6b83"
   }
  }
 },
 "nbformat": 4,
 "nbformat_minor": 4
}

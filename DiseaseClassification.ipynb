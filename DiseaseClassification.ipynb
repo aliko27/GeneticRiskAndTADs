{
 "cells": [
  {
   "cell_type": "code",
   "execution_count": null,
   "metadata": {},
   "outputs": [],
   "source": [
    "import os\n",
    "\n",
    "import numpy as np\n",
    "import pandas as pd\n",
    "\n",
    "import networkx as nx\n",
    "\n",
    "import seaborn as sns\n",
    "import matplotlib.pyplot as plt\n",
    "\n",
    "import pyensembl\n",
    "from gene_map import GeneMapper\n",
    "\n",
    "from sklearn.manifold import TSNE\n",
    "from sklearn.decomposition import PCA\n",
    "from sklearn.preprocessing import StandardScaler\n",
    "\n",
    "from tqdm import tqdm_notebook as tqdm\n",
    "\n",
    "from bioinf_common.data_reader import load_goterms, load_stringdb, load_biogrid\n",
    "from bioinf_common.algorithms import SetEnrichmentComputer, compute_network_coherence\n",
    "\n",
    "from utils import load_config"
   ]
  },
  {
   "cell_type": "code",
   "execution_count": null,
   "metadata": {},
   "outputs": [],
   "source": [
    "config = load_config()"
   ]
  },
  {
   "cell_type": "code",
   "execution_count": null,
   "metadata": {},
   "outputs": [],
   "source": [
    "sns.set_context('talk')\n",
    "pd.set_option('display.max_columns', 99)"
   ]
  },
  {
   "cell_type": "markdown",
   "metadata": {},
   "source": [
    "# Load data"
   ]
  },
  {
   "cell_type": "markdown",
   "metadata": {},
   "source": [
    "## SNP-disease associations"
   ]
  },
  {
   "cell_type": "code",
   "execution_count": null,
   "metadata": {},
   "outputs": [],
   "source": [
    "results_dir = config['output_dirs']['results']\n",
    "df_snpdb = pd.read_table(f'{results_dir}/snpdb_enhanced.tsv')\n",
    "df_snpdb.head()"
   ]
  },
  {
   "cell_type": "markdown",
   "metadata": {},
   "source": [
    "## TAD-border enrichments"
   ]
  },
  {
   "cell_type": "code",
   "execution_count": null,
   "metadata": {},
   "outputs": [],
   "source": [
    "results_dir = config['output_dirs']['results']\n",
    "df_enr = pd.read_csv(f'{results_dir}/TAD_enrichment.csv')\n",
    "\n",
    "# mark cancer diseases\n",
    "iscancer_map = df_snpdb[['diseaseId', 'is_cancer']].set_index('diseaseId').to_dict()['is_cancer']\n",
    "df_enr['is_cancer'] = df_enr['disease'].map(iscancer_map)\n",
    "\n",
    "# add disease name\n",
    "disname_map = df_snpdb[['diseaseId', 'diseaseName']].set_index('diseaseId').to_dict()['diseaseName']\n",
    "df_enr['disease_name'] = df_enr['disease'].map(disname_map)\n",
    "\n",
    "# consider only one border type\n",
    "df_enr = df_enr[df_enr['TAD_type'] == '20in']\n",
    "\n",
    "df_enr.sample(5)"
   ]
  },
  {
   "cell_type": "markdown",
   "metadata": {},
   "source": [
    "## PPI networks"
   ]
  },
  {
   "cell_type": "code",
   "execution_count": null,
   "metadata": {},
   "outputs": [],
   "source": [
    "ppi_source = config['parameters']['ppi_source']\n",
    "ppi_source"
   ]
  },
  {
   "cell_type": "code",
   "execution_count": null,
   "metadata": {},
   "outputs": [],
   "source": [
    "if ppi_source == 'stringdb':\n",
    "    ppi_graph, _ = load_stringdb()\n",
    "elif ppi_source == 'biogrid':\n",
    "    ppi_graph, _ = load_biogrid()\n",
    "else:\n",
    "    raise RuntimeError(f'Invalid PPI source: \"{ppi_source}\"')"
   ]
  },
  {
   "cell_type": "code",
   "execution_count": null,
   "metadata": {},
   "outputs": [],
   "source": [
    "print(nx.info(ppi_graph))"
   ]
  },
  {
   "cell_type": "markdown",
   "metadata": {},
   "source": [
    "## GO-terms"
   ]
  },
  {
   "cell_type": "code",
   "execution_count": null,
   "metadata": {},
   "outputs": [],
   "source": [
    "pathway_groupings = load_goterms()"
   ]
  },
  {
   "cell_type": "code",
   "execution_count": null,
   "metadata": {},
   "outputs": [],
   "source": [
    "ensembl = pyensembl.EnsemblRelease(release=93)\n",
    "all_genes = ensembl.genes()\n",
    "protein_coding_genes_ensembl = set([g.gene_id for g in all_genes if g.is_protein_coding])"
   ]
  },
  {
   "cell_type": "code",
   "execution_count": null,
   "metadata": {},
   "outputs": [],
   "source": [
    "# convert Ensembl to Entrez IDs\n",
    "gm = GeneMapper()\n",
    "df_map = gm.query(id_list=protein_coding_genes_ensembl, source_id_type='Ensembl', target_id_type='GeneID')\n",
    "ensembl2entrez_map = df_map.set_index('ID_from').to_dict()['ID_to']\n",
    "\n",
    "protein_coding_genes = set([ensembl2entrez_map[g] for g in protein_coding_genes_ensembl if g in ensembl2entrez_map])"
   ]
  },
  {
   "cell_type": "code",
   "execution_count": null,
   "metadata": {},
   "outputs": [],
   "source": [
    "print(f'{len(all_genes)} -protein_coding-> {len(protein_coding_genes_ensembl)} -entrez_id-> {len(protein_coding_genes)}')"
   ]
  },
  {
   "cell_type": "code",
   "execution_count": null,
   "metadata": {},
   "outputs": [],
   "source": [
    "sec = SetEnrichmentComputer(pathway_groupings, protein_coding_genes)"
   ]
  },
  {
   "cell_type": "markdown",
   "metadata": {},
   "source": [
    "# Computations"
   ]
  },
  {
   "cell_type": "code",
   "execution_count": null,
   "metadata": {},
   "outputs": [],
   "source": [
    "pvalue_threshold = 0.05"
   ]
  },
  {
   "cell_type": "code",
   "execution_count": null,
   "metadata": {},
   "outputs": [],
   "source": [
    "cache_dir = config['output_dirs']['cache']\n",
    "fname = os.path.join(cache_dir, 'disease_computations.csv')\n",
    "\n",
    "if os.path.exists(fname):\n",
    "    print('Cached', fname)\n",
    "    df_data = pd.read_csv(fname)\n",
    "else:\n",
    "    ppi_nodes = set(ppi_graph.nodes())\n",
    "\n",
    "    data = []\n",
    "    for disease, group in tqdm(df_snpdb.groupby('diseaseId')):\n",
    "        genes = set(group['associated_genes'].dropna().tolist())\n",
    "\n",
    "        # network coherence\n",
    "        nc = compute_network_coherence(ppi_graph, genes & ppi_nodes)\n",
    "\n",
    "        # enrichment\n",
    "        tmp = sec.get_terms(genes, throw_on_assert=False)\n",
    "        tmp = tmp[tmp['p_value_adj'] < pvalue_threshold]\n",
    "        pval_sum = tmp['p_value_adj'].apply(lambda x: -np.log10(x)).sum()\n",
    "\n",
    "        data.append((disease, nc, pval_sum))\n",
    "\n",
    "    df_data = pd.DataFrame(data, columns=['disease', 'network_coherence', 'pval_sum'])\n",
    "    df_data.to_csv(fname, index=False)"
   ]
  },
  {
   "cell_type": "markdown",
   "metadata": {},
   "source": [
    "## Basic computed data statistics"
   ]
  },
  {
   "cell_type": "code",
   "execution_count": null,
   "metadata": {},
   "outputs": [],
   "source": [
    "df_data.head()"
   ]
  },
  {
   "cell_type": "code",
   "execution_count": null,
   "metadata": {},
   "outputs": [],
   "source": [
    "nan_count = df_data['network_coherence'].isna().sum()\n",
    "print(f'{nan_count}/{df_data[\"disease\"].unique().size} diseases have NaN network coherence')"
   ]
  },
  {
   "cell_type": "markdown",
   "metadata": {},
   "source": [
    "# Merge data sources"
   ]
  },
  {
   "cell_type": "code",
   "execution_count": null,
   "metadata": {},
   "outputs": [],
   "source": [
    "disease2cancer_map = df_snpdb[['diseaseId', 'is_cancer']].set_index('diseaseId').to_dict()['is_cancer']"
   ]
  },
  {
   "cell_type": "code",
   "execution_count": null,
   "metadata": {},
   "outputs": [],
   "source": [
    "df = df_data.merge(df_enr[['disease', 'pval_boundary']], on='disease', validate='one_to_one')\n",
    "df.set_index('disease', inplace=True)\n",
    "\n",
    "df.head()"
   ]
  },
  {
   "cell_type": "markdown",
   "metadata": {},
   "source": [
    "# Save result"
   ]
  },
  {
   "cell_type": "code",
   "execution_count": null,
   "metadata": {},
   "outputs": [],
   "source": [
    "results_dir = config['output_dirs']['results']\n",
    "df.to_csv(f'{results_dir}/disease_classification.csv')"
   ]
  },
  {
   "cell_type": "markdown",
   "metadata": {},
   "source": [
    "# Plots"
   ]
  },
  {
   "cell_type": "code",
   "execution_count": null,
   "metadata": {},
   "outputs": [],
   "source": [
    "images_dir = config['output_dirs']['images']"
   ]
  },
  {
   "cell_type": "code",
   "execution_count": null,
   "metadata": {},
   "outputs": [],
   "source": [
    "df['neglog_pval_boundary'] = df['pval_boundary'].apply(lambda x: -np.log10(x))\n",
    "df.drop(columns=['pval_boundary'], inplace=True)"
   ]
  },
  {
   "cell_type": "markdown",
   "metadata": {},
   "source": [
    "## Compare distributions"
   ]
  },
  {
   "cell_type": "code",
   "execution_count": null,
   "metadata": {},
   "outputs": [],
   "source": [
    "df.dropna().corr()"
   ]
  },
  {
   "cell_type": "code",
   "execution_count": null,
   "metadata": {},
   "outputs": [],
   "source": [
    "g = sns.PairGrid(df.dropna(), height=4)\n",
    "\n",
    "g.map_diag(sns.distplot, kde=False)\n",
    "g.map_offdiag(sns.scatterplot)\n",
    "\n",
    "g.savefig(f'{images_dir}/classification_distributions.pdf')"
   ]
  },
  {
   "cell_type": "markdown",
   "metadata": {},
   "source": [
    "### Focus on NC versus TAD-boundary enrichment"
   ]
  },
  {
   "cell_type": "code",
   "execution_count": null,
   "metadata": {},
   "outputs": [],
   "source": [
    "tmp = df.dropna().copy()\n",
    "tmp['is_cancer'] = tmp.index.map(disease2cancer_map)"
   ]
  },
  {
   "cell_type": "code",
   "execution_count": null,
   "metadata": {},
   "outputs": [],
   "source": [
    "plt.figure(figsize=(8,6))\n",
    "sns.scatterplot(\n",
    "    x='network_coherence', y='neglog_pval_boundary', hue='is_cancer', data=tmp,\n",
    "    alpha=1)\n",
    "\n",
    "plt.axhline(y=-np.log10(pvalue_threshold), color='grey', linestyle='dashed')\n",
    "\n",
    "plt.tight_layout()\n",
    "plt.savefig(f'{images_dir}/nc_vs_boundary.pdf')"
   ]
  },
  {
   "cell_type": "markdown",
   "metadata": {},
   "source": [
    "## Clustering"
   ]
  },
  {
   "cell_type": "code",
   "execution_count": null,
   "metadata": {},
   "outputs": [],
   "source": [
    "df_nona = df.dropna()\n",
    "df_scaled = StandardScaler().fit_transform(df_nona)"
   ]
  },
  {
   "cell_type": "markdown",
   "metadata": {},
   "source": [
    "### PCA"
   ]
  },
  {
   "cell_type": "code",
   "execution_count": null,
   "metadata": {},
   "outputs": [],
   "source": [
    "pca = PCA(n_components=2)\n",
    "X_pca = pca.fit_transform(df_scaled)"
   ]
  },
  {
   "cell_type": "code",
   "execution_count": null,
   "metadata": {},
   "outputs": [],
   "source": [
    "df_pca = pd.DataFrame(X_pca, index=df_nona.index, columns=['PCA_0', 'PCA_1'])\n",
    "df_pca['is_cancer'] = df_pca.index.map(disease2cancer_map)\n",
    "df_pca.head()"
   ]
  },
  {
   "cell_type": "code",
   "execution_count": null,
   "metadata": {},
   "outputs": [],
   "source": [
    "plt.figure(figsize=(10,7))\n",
    "sns.scatterplot(x='PCA_0', y='PCA_1', hue='is_cancer', data=df_pca)\n",
    "\n",
    "plt.xlabel(round(pca.explained_variance_ratio_[0], 2))\n",
    "plt.ylabel(round(pca.explained_variance_ratio_[1], 2))\n",
    "\n",
    "plt.title('PCA (% of variance)')\n",
    "\n",
    "plt.tight_layout()\n",
    "plt.savefig(f'{images_dir}/disease_pca.pdf')"
   ]
  },
  {
   "cell_type": "markdown",
   "metadata": {},
   "source": [
    "### tSNE"
   ]
  },
  {
   "cell_type": "code",
   "execution_count": null,
   "metadata": {},
   "outputs": [],
   "source": [
    "tsne = TSNE(n_components=2, verbose=1)\n",
    "X_tsne = tsne.fit_transform(df_scaled)"
   ]
  },
  {
   "cell_type": "code",
   "execution_count": null,
   "metadata": {},
   "outputs": [],
   "source": [
    "df_tsne = pd.DataFrame(X_tsne, index=df_nona.index, columns=['tSNE_0', 'tSNE_1'])\n",
    "df_tsne['is_cancer'] = df_tsne.index.map(disease2cancer_map)\n",
    "df_tsne.head()"
   ]
  },
  {
   "cell_type": "code",
   "execution_count": null,
   "metadata": {},
   "outputs": [],
   "source": [
    "plt.figure(figsize=(10,7))\n",
    "sns.scatterplot(x='tSNE_0', y='tSNE_1', hue='is_cancer', data=df_tsne)\n",
    "plt.title('tSNE')\n",
    "\n",
    "plt.tight_layout()\n",
    "plt.savefig(f'{images_dir}/disease_tsne.pdf')"
   ]
  }
 ],
 "metadata": {
  "kernelspec": {
   "display_name": "Python 3",
   "language": "python",
   "name": "python3"
  },
  "language_info": {
   "codemirror_mode": {
    "name": "ipython",
    "version": 3
   },
   "file_extension": ".py",
   "mimetype": "text/x-python",
   "name": "python",
   "nbconvert_exporter": "python",
   "pygments_lexer": "ipython3",
   "version": "3.7.0"
  }
 },
 "nbformat": 4,
 "nbformat_minor": 2
}

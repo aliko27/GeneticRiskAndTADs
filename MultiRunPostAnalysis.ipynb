{
 "cells": [
  {
   "cell_type": "code",
   "execution_count": null,
   "metadata": {},
   "outputs": [],
   "source": [
    "import os\n",
    "\n",
    "import numpy as np\n",
    "import pandas as pd\n",
    "\n",
    "import seaborn as sns\n",
    "import matplotlib.pyplot as plt\n",
    "\n",
    "from natsort import natsorted\n",
    "from tqdm import tqdm_notebook as tqdm\n",
    "\n",
    "from bioinf_common.plotting import annotated_barplot"
   ]
  },
  {
   "cell_type": "code",
   "execution_count": null,
   "metadata": {},
   "outputs": [],
   "source": [
    "sns.set_context('talk')"
   ]
  },
  {
   "cell_type": "markdown",
   "metadata": {},
   "source": [
    "# Load data"
   ]
  },
  {
   "cell_type": "code",
   "execution_count": null,
   "metadata": {},
   "outputs": [],
   "source": [
    "target_dir = 'aggregated_results/pipeline_run/results/'"
   ]
  },
  {
   "cell_type": "code",
   "execution_count": null,
   "metadata": {},
   "outputs": [],
   "source": [
    "df_list = []\n",
    "for entry in tqdm(os.scandir(target_dir), total=len(os.listdir(target_dir))):\n",
    "    if not entry.name.startswith('final__'):\n",
    "        continue\n",
    "\n",
    "    inp = '.'.join(entry.name.split('__')[-1].split('.')[:-1])\n",
    "    info = dict(e.split(':') for e in inp.split(';'))\n",
    "\n",
    "    data_source = info['input_files+tad_coordinates']\n",
    "    data_source = data_source[len('data_'):]  # cut off common prefix\n",
    "\n",
    "    tmp = pd.read_csv(entry.path, low_memory=False)\n",
    "    tmp['data_source'] = data_source\n",
    "    df_list.append(tmp)\n",
    "    \n",
    "    #print(data_source, tmp.shape)\n",
    "    \n",
    "df = pd.concat(df_list)"
   ]
  },
  {
   "cell_type": "code",
   "execution_count": null,
   "metadata": {},
   "outputs": [],
   "source": [
    "# remove common prefix/suffix\n",
    "source_prefix = os.path.commonprefix(df['data_source'].unique().tolist())\n",
    "source_suffix = '.csv'\n",
    "\n",
    "print(f'Removing: \"{source_prefix}\"...\"{source_suffix}\"')\n",
    "\n",
    "df['data_source'] = df['data_source'].str[len(source_prefix):-len(source_suffix)]"
   ]
  },
  {
   "cell_type": "markdown",
   "metadata": {},
   "source": [
    "## Data overview"
   ]
  },
  {
   "cell_type": "code",
   "execution_count": null,
   "metadata": {},
   "outputs": [],
   "source": [
    "df.head()"
   ]
  },
  {
   "cell_type": "markdown",
   "metadata": {},
   "source": [
    "# Define signal measures"
   ]
  },
  {
   "cell_type": "code",
   "execution_count": null,
   "metadata": {},
   "outputs": [],
   "source": [
    "def enrichment_quotient(df, p_thres=0.05):\n",
    "    tmp = df.copy()\n",
    "    tmp.loc[tmp['pval_boundary_neglog'] < -np.log10(p_thres), 'pval_boundary_neglog'] = 0\n",
    "\n",
    "    cancer_signal = tmp.loc[tmp['is_cancer'], 'pval_boundary_neglog'].mean()\n",
    "    noncancer_signal = tmp.loc[~tmp['is_cancer'], 'pval_boundary_neglog'].mean()\n",
    "\n",
    "    #print(df['data_source'].iloc[0], cancer_signal, noncancer_signal, cancer_signal / noncancer_signal)\n",
    "    return cancer_signal / noncancer_signal"
   ]
  },
  {
   "cell_type": "code",
   "execution_count": null,
   "metadata": {},
   "outputs": [],
   "source": [
    "def count_quotient(df, p_thres=0.05):\n",
    "    tmp = df.copy()\n",
    "\n",
    "    sig_cancer_num = tmp[tmp['is_cancer'] & (tmp['pval_boundary_neglog'] >= -np.log10(p_thres))].shape[0]\n",
    "    all_cancer_num = tmp[tmp['is_cancer']].shape[0]\n",
    "    \n",
    "    sig_noncancer_num = tmp[(~tmp['is_cancer']) & (tmp['pval_boundary_neglog'] >= -np.log10(p_thres))].shape[0]\n",
    "    all_noncancer_num = tmp[~tmp['is_cancer']].shape[0]\n",
    "    \n",
    "    #print(df['data_source'].iloc[0], sig_cancer_num, all_cancer_num, sig_noncancer_num / all_noncancer_num)\n",
    "    return (sig_cancer_num/all_cancer_num) / (sig_noncancer_num/all_noncancer_num)"
   ]
  },
  {
   "cell_type": "markdown",
   "metadata": {},
   "source": [
    "# Apply measure"
   ]
  },
  {
   "cell_type": "code",
   "execution_count": null,
   "metadata": {},
   "outputs": [],
   "source": [
    "border_type = '20in'\n",
    "pvalue_type = 'pval_boundary'"
   ]
  },
  {
   "cell_type": "code",
   "execution_count": null,
   "metadata": {},
   "outputs": [],
   "source": [
    "# pre-transform data\n",
    "df_trans = df.groupby(['data_source', 'diseaseId', 'TAD_type']).first().reset_index().copy()\n",
    "df_trans = df_trans[df_trans['TAD_type'] == border_type]\n",
    "df_trans.loc[df_trans[pvalue_type]==0, pvalue_type] = 1e-16\n",
    "\n",
    "df_trans['pval_boundary_neglog'] = df_trans[pvalue_type].apply(lambda x: -np.log10(x))"
   ]
  },
  {
   "cell_type": "code",
   "execution_count": null,
   "metadata": {},
   "outputs": [],
   "source": [
    "signal_data = []\n",
    "for data_source, group in df_trans.groupby('data_source'):\n",
    "    signal_data.extend([\n",
    "        {\n",
    "            'data_source': data_source,\n",
    "            'signal': enrichment_quotient(group),\n",
    "            'type': r'$\\frac{\\langle-\\log_{10}(p_{cancer,boundary_{20in}})\\rangle}{\\langle-\\log_{10}(p_{noncancer,boundary_{20in}})\\rangle}$'\n",
    "        },\n",
    "        {\n",
    "            'data_source': data_source,\n",
    "            'signal': count_quotient(group),\n",
    "            'type': r'$\\frac{|\\mathrm{cancer}_{sig}| / |\\mathrm{cancer}_{all}|}{|\\mathrm{noncancer}_{sig}| / |\\mathrm{noncancer}_{all}|}$'\n",
    "        }\n",
    "    ])\n",
    "df_signal = pd.DataFrame(signal_data)"
   ]
  },
  {
   "cell_type": "code",
   "execution_count": null,
   "metadata": {},
   "outputs": [],
   "source": [
    "df_signal.head()"
   ]
  },
  {
   "cell_type": "markdown",
   "metadata": {},
   "source": [
    "# Visualize result"
   ]
  },
  {
   "cell_type": "code",
   "execution_count": null,
   "metadata": {},
   "outputs": [],
   "source": [
    "df_signal_sub = df_signal.copy()\n",
    "\n",
    "df_signal_sub['subset'] = df_signal_sub['data_source'].apply(lambda x: '-'.join(x.split('_')[:-1]))\n",
    "df_signal_sub['data_source'] = df_signal_sub['data_source'].apply(lambda x: x.split('_')[-1])\n",
    "\n",
    "df_signal_sub.head()"
   ]
  },
  {
   "cell_type": "code",
   "execution_count": null,
   "metadata": {},
   "outputs": [],
   "source": [
    "g = sns.FacetGrid(\n",
    "    df_signal_sub, row='subset',\n",
    "    sharex=False, sharey=True,\n",
    "    height=7, aspect=2)\n",
    "\n",
    "def my_bar(*args, **kwargs):\n",
    "    annotated_barplot(\n",
    "        *args, **kwargs,\n",
    "        order=natsorted(kwargs['data']['data_source'].unique()),\n",
    "        anno_kws=dict(label_offset=6, label_size=9),\n",
    "        palette=sns.color_palette())\n",
    "\n",
    "g.map_dataframe(my_bar, x='data_source', y='signal', hue='type')\n",
    "\n",
    "plt.xlabel('window size')\n",
    "for ax in g.axes.ravel():\n",
    "    ax.legend()\n",
    "    \n",
    "g.savefig('images/signal_vs_datasource.pdf')"
   ]
  },
  {
   "cell_type": "markdown",
   "metadata": {},
   "source": [
    "# Generate lists"
   ]
  },
  {
   "cell_type": "code",
   "execution_count": null,
   "metadata": {},
   "outputs": [],
   "source": [
    "requested_diseases = {'EFO0000611', 'EFO_0001071', 'EFO_0000571', 'EFO_0000708'}\n",
    "requested_diseases & set(df['diseaseId'])"
   ]
  },
  {
   "cell_type": "code",
   "execution_count": null,
   "metadata": {},
   "outputs": [],
   "source": [
    "border_type = '20in'\n",
    "pvalue_type = 'pval_boundary'"
   ]
  },
  {
   "cell_type": "code",
   "execution_count": null,
   "metadata": {},
   "outputs": [],
   "source": [
    "df.head()"
   ]
  },
  {
   "cell_type": "code",
   "execution_count": null,
   "metadata": {},
   "outputs": [],
   "source": [
    "fname = 'results/aggregated_snp_lists__{content}.bed'\n",
    "sub = df[df['TAD_type'] == border_type]\n",
    "\n",
    "with open(fname.format(content='all'), 'w') as fd_all, open(fname.format(content='sig'), 'w') as fd_sig:\n",
    "    for (disease, data_source), group in tqdm(sub.groupby(['diseaseId', 'data_source'])):\n",
    "        assert group[pvalue_type].unique().size == 1\n",
    "        if disease not in requested_diseases:\n",
    "            continue\n",
    "\n",
    "        pval = group[pvalue_type].iloc[0]\n",
    "        for row in group.itertuples():\n",
    "            if row.TAD_relation != 'boundary':\n",
    "                continue\n",
    "\n",
    "            txt = (\n",
    "                f'chr{row.chromosome}\\t'\n",
    "                f'{row.position}\\t'\n",
    "                f'{row.position+1}\\t'\n",
    "                    f'snpId:{row.snpId};'\n",
    "                    f'diseaseId:{row.diseaseId};'\n",
    "                    f'boundary_pvalue:{pval};'\n",
    "                    f'data_source:{row.data_source};'\n",
    "                    f'boundary_type:{border_type}'\n",
    "                '\\n')\n",
    "\n",
    "            fd_all.write(txt)\n",
    "            if pval < 0.05:\n",
    "                fd_sig.write(txt)"
   ]
  }
 ],
 "metadata": {
  "kernelspec": {
   "display_name": "Python 3",
   "language": "python",
   "name": "python3"
  },
  "language_info": {
   "codemirror_mode": {
    "name": "ipython",
    "version": 3
   },
   "file_extension": ".py",
   "mimetype": "text/x-python",
   "name": "python",
   "nbconvert_exporter": "python",
   "pygments_lexer": "ipython3",
   "version": "3.7.2"
  }
 },
 "nbformat": 4,
 "nbformat_minor": 2
}

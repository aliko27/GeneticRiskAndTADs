{
 "cells": [
  {
   "cell_type": "code",
   "execution_count": null,
   "metadata": {},
   "outputs": [],
   "source": [
    "%matplotlib inline"
   ]
  },
  {
   "cell_type": "code",
   "execution_count": null,
   "metadata": {},
   "outputs": [],
   "source": [
    "import os\n",
    "\n",
    "import numpy as np\n",
    "import pandas as pd\n",
    "\n",
    "import seaborn as sns\n",
    "import matplotlib.pyplot as plt\n",
    "import matplotlib.lines as mlines\n",
    "\n",
    "from tqdm import tqdm_notebook as tqdm"
   ]
  },
  {
   "cell_type": "code",
   "execution_count": null,
   "metadata": {},
   "outputs": [],
   "source": [
    "sns.set_context('talk')"
   ]
  },
  {
   "cell_type": "markdown",
   "metadata": {},
   "source": [
    "## GWAS history"
   ]
  },
  {
   "cell_type": "markdown",
   "metadata": {},
   "source": [
    "### Acquire data"
   ]
  },
  {
   "cell_type": "code",
   "execution_count": null,
   "metadata": {},
   "outputs": [],
   "source": [
    "gwashist_dir = './cache/gwas_history/'\n",
    "\n",
    "if not os.path.isdir(gwashist_dir):\n",
    "    # download all versions\n",
    "    !wget -m -A \"gwas-catalog-associations.tsv\" ftp://ftp.ebi.ac.uk/pub/databases/gwas/releases -P $gwashist_dir\n",
    "else:\n",
    "    print('Cached', gwashist_dir)"
   ]
  },
  {
   "cell_type": "code",
   "execution_count": null,
   "metadata": {},
   "outputs": [],
   "source": [
    "# parse data\n",
    "data = []\n",
    "for year in os.scandir(f'{gwashist_dir}/ftp.ebi.ac.uk/pub/databases/gwas/releases/'):\n",
    "    if not year.is_dir():\n",
    "        continue\n",
    "    for month in os.scandir(year.path):\n",
    "        if not month.is_dir():\n",
    "            continue\n",
    "        for day in os.scandir(month.path):\n",
    "            if not day.is_dir():\n",
    "                continue\n",
    "            for entry in os.scandir(day.path):\n",
    "                if not entry.name.endswith('.tsv'):\n",
    "                    continue\n",
    "\n",
    "                timestamp = f'{year.name}.{month.name}.{day.name}'\n",
    "                data.append((timestamp, entry.path, pd.read_table(entry.path, low_memory=False)))\n",
    "                \n",
    "df_gwashist = pd.DataFrame(data, columns=['timestamp', 'path', 'dataframe'])\n",
    "df_gwashist['timestamp'] = pd.to_datetime(df_gwashist['timestamp'])\n",
    "df_gwashist.set_index('timestamp', inplace=True)"
   ]
  },
  {
   "cell_type": "code",
   "execution_count": null,
   "metadata": {},
   "outputs": [],
   "source": [
    "df_gwashist.sample(5)"
   ]
  },
  {
   "cell_type": "markdown",
   "metadata": {},
   "source": [
    "### Plot size development"
   ]
  },
  {
   "cell_type": "code",
   "execution_count": null,
   "metadata": {},
   "outputs": [],
   "source": [
    "df_gwashist['size'] = df_gwashist['dataframe'].apply(lambda x: x.shape[0])"
   ]
  },
  {
   "cell_type": "code",
   "execution_count": null,
   "metadata": {},
   "outputs": [],
   "source": [
    "plt.figure()\n",
    "\n",
    "df_gwashist['size'].plot()\n",
    "plt.xlabel('Release date')\n",
    "plt.ylabel('GWAS-Catalog size [#entries]')\n",
    "\n",
    "plt.tight_layout()\n",
    "plt.savefig('images/gwas_history.pdf')"
   ]
  },
  {
   "cell_type": "markdown",
   "metadata": {},
   "source": [
    "## Old enrichments vs new enrichments"
   ]
  },
  {
   "cell_type": "markdown",
   "metadata": {},
   "source": [
    "### Read data"
   ]
  },
  {
   "cell_type": "code",
   "execution_count": null,
   "metadata": {},
   "outputs": [],
   "source": [
    "# read data\n",
    "df_enr_old = pd.read_csv('results/TAD_enrichment__old_version.csv')\n",
    "df_enr_new = pd.read_csv('results/TAD_enrichment.csv')\n",
    "\n",
    "# subset to shared diseases\n",
    "shared_diseases = list(set(df_enr_new['disease'].tolist()) & set(df_enr_old['disease'].tolist()))\n",
    "\n",
    "print('#diseases (old):', df_enr_old['disease'].unique().size)\n",
    "print('#diseases (new):', df_enr_new['disease'].unique().size)\n",
    "print('#diseases (shared):', len(shared_diseases))\n",
    "\n",
    "df_enr_old = df_enr_old[df_enr_old['disease'].isin(shared_diseases)]\n",
    "df_enr_new = df_enr_new[df_enr_new['disease'].isin(shared_diseases)]\n",
    "\n",
    "# annotate diseases\n",
    "df_iscancer = pd.read_csv('results/disease_cancer_classification.csv')\n",
    "\n",
    "df_enr_old = df_enr_old.merge(\n",
    "    df_iscancer, left_on='disease', right_on='diseaseId').drop(columns='diseaseId').set_index('disease')\n",
    "df_enr_new = df_enr_new.merge(\n",
    "    df_iscancer, left_on='disease', right_on='diseaseId').drop(columns='diseaseId').set_index('disease')"
   ]
  },
  {
   "cell_type": "code",
   "execution_count": null,
   "metadata": {},
   "outputs": [],
   "source": [
    "df_enr_new.sample(5)"
   ]
  },
  {
   "cell_type": "markdown",
   "metadata": {},
   "source": [
    "### Plot result"
   ]
  },
  {
   "cell_type": "code",
   "execution_count": null,
   "metadata": {},
   "outputs": [],
   "source": [
    "pval_cols = [c for c in df_enr_new.columns if c.startswith('pval')]\n",
    "mylog = np.vectorize(lambda x: np.log10(x) if x > 0 else np.nan)\n",
    "\n",
    "def plot(df_old, df_new, s_genediff, ax, marker='o', colorbar=True):\n",
    "    lbl = '-log(p_value)'\n",
    "    df_tmp = pd.DataFrame({\n",
    "        f'{lbl} (old)': -mylog(df_old),\n",
    "        f'{lbl} (new)': -mylog(df_new),\n",
    "        'log(#snp diff)': mylog(s_genediff)\n",
    "    })\n",
    "    df_tmp.plot(\n",
    "        x=f'{lbl} (old)', y=f'{lbl} (new)', c='log(#snp diff)',\n",
    "        colormap='viridis', kind='scatter', ax=ax, loglog=True,\n",
    "        colorbar=colorbar, marker=marker, legend=False,\n",
    "        xlim=(1e-1, 1e1), ylim=(1e-1, 1e1))\n",
    "    ax.set_aspect('equal')\n",
    "    \n",
    "    ax.axvline(x=-np.log10(.05), color='red', linestyle='dashed', linewidth=.2)\n",
    "    ax.axhline(y=-np.log10(.05), color='red', linestyle='dashed', linewidth=.5)\n",
    "\n",
    "for pcol in pval_cols:\n",
    "    s = 6\n",
    "    fig, ax_arr = plt.subplots(\n",
    "        2, len(df_enr_new['TAD_type'].unique())//2,\n",
    "        figsize=((len(df_enr_new['TAD_type'].unique())//2)*s,2*s))\n",
    "\n",
    "    for (tad_type, group_new), ax in zip(df_enr_new.groupby('TAD_type'), ax_arr.flatten()):\n",
    "        group_old = df_enr_old[df_enr_old['TAD_type'] == tad_type].reindex(shared_diseases)\n",
    "        group_new = group_new.reindex(shared_diseases)\n",
    "\n",
    "        ax.set_title(tad_type)\n",
    "        \n",
    "        # plot cancer\n",
    "        plot(\n",
    "            group_old.loc[group_old.is_cancer, pcol], group_new.loc[group_new.is_cancer, pcol],\n",
    "            abs(group_old.loc[group_old.is_cancer, 'gene_num'] - group_new.loc[group_new.is_cancer, '#snp']),\n",
    "            ax, marker='^')\n",
    "        \n",
    "        # plot non-cancer\n",
    "        plot(\n",
    "            group_old.loc[~group_old.is_cancer, pcol], group_new.loc[~group_new.is_cancer, pcol],\n",
    "            abs(group_old.loc[~group_old.is_cancer, 'gene_num'] - group_new.loc[~group_new.is_cancer, '#snp']),\n",
    "            ax, marker='s', colorbar=False)\n",
    "        \n",
    "        # plot legend\n",
    "        legend_patches = [\n",
    "            mlines.Line2D([], [], color='black', marker='^', markersize=15, linewidth=0, label='cancer'),\n",
    "            mlines.Line2D([], [], color='black', marker='s', markersize=15, linewidth=0, label='non-cancer')\n",
    "        ]\n",
    "        ax.legend(handles=legend_patches, loc='best')\n",
    "\n",
    "    plt.suptitle(pcol)\n",
    "    plt.tight_layout(rect=[0, 0.03, 1, 0.95])\n",
    "    plt.savefig(f'images/enrichment_comparison_oldnew_{pcol}.pdf')"
   ]
  }
 ],
 "metadata": {
  "kernelspec": {
   "display_name": "Python 3",
   "language": "python",
   "name": "python3"
  },
  "language_info": {
   "codemirror_mode": {
    "name": "ipython",
    "version": 3
   },
   "file_extension": ".py",
   "mimetype": "text/x-python",
   "name": "python",
   "nbconvert_exporter": "python",
   "pygments_lexer": "ipython3",
   "version": "3.6.5"
  }
 },
 "nbformat": 4,
 "nbformat_minor": 2
}

{
 "cells": [
  {
   "cell_type": "code",
   "execution_count": null,
   "metadata": {},
   "outputs": [],
   "source": [
    "import os\n",
    "\n",
    "import pandas as pd"
   ]
  },
  {
   "cell_type": "markdown",
   "metadata": {},
   "source": [
    "# Parameters"
   ]
  },
  {
   "cell_type": "code",
   "execution_count": null,
   "metadata": {},
   "outputs": [],
   "source": [
    "database_files = snakemake.input.database_files\n",
    "enrichment_files = snakemake.input.enrichment_files\n",
    "\n",
    "fname_out = snakemake.output.fname"
   ]
  },
  {
   "cell_type": "markdown",
   "metadata": {},
   "source": [
    "# Load data"
   ]
  },
  {
   "cell_type": "code",
   "execution_count": null,
   "metadata": {},
   "outputs": [],
   "source": [
    "df_list = []\n",
    "for fname in database_files:\n",
    "    tmp = pd.read_csv(fname)\n",
    "    \n",
    "    data_source = os.path.basename(fname).split('.')[1]\n",
    "    tmp['tad_source'] = data_source\n",
    "    \n",
    "    df_list.append(tmp)\n",
    "\n",
    "df_data = pd.DataFrame(tmp)\n",
    "df_data.sort_values(['diseaseId', 'snpId']).head()"
   ]
  },
  {
   "cell_type": "code",
   "execution_count": null,
   "metadata": {},
   "outputs": [],
   "source": [
    "df_list = []\n",
    "for fname in enrichment_files:\n",
    "    tmp = pd.read_csv(fname)\n",
    "    \n",
    "    data_source = os.path.basename(fname).split('.')[1]\n",
    "    tmp['tad_source'] = data_source\n",
    "    \n",
    "    df_list.append(tmp)\n",
    "\n",
    "df_enr = pd.DataFrame(tmp)\n",
    "df_enr.head()"
   ]
  },
  {
   "cell_type": "markdown",
   "metadata": {},
   "source": [
    "# Merge data"
   ]
  },
  {
   "cell_type": "code",
   "execution_count": null,
   "metadata": {},
   "outputs": [],
   "source": [
    "df_data_trans = pd.melt(\n",
    "    df_data,\n",
    "    id_vars=[x for x in df_data.columns if not x.startswith('TAD_')],\n",
    "    var_name='TAD_type', value_name='TAD_relation')\n",
    "\n",
    "df_data_trans['TAD_type'] = df_data_trans['TAD_type'].str[len('TAD_'):]\n",
    "\n",
    "df_data_trans.head()"
   ]
  },
  {
   "cell_type": "code",
   "execution_count": null,
   "metadata": {},
   "outputs": [],
   "source": [
    "df_merged = df_data_trans.merge(\n",
    "    df_enr, how='outer')"
   ]
  },
  {
   "cell_type": "code",
   "execution_count": null,
   "metadata": {},
   "outputs": [],
   "source": [
    "df_merged.sort_values(['TAD_type', 'diseaseId', 'snpId'], inplace=True)"
   ]
  },
  {
   "cell_type": "code",
   "execution_count": null,
   "metadata": {},
   "outputs": [],
   "source": [
    "df_merged"
   ]
  },
  {
   "cell_type": "markdown",
   "metadata": {},
   "source": [
    "# Save results"
   ]
  },
  {
   "cell_type": "code",
   "execution_count": null,
   "metadata": {},
   "outputs": [],
   "source": [
    "df_merged.to_csv(fname_out, index=False)"
   ]
  }
 ],
 "metadata": {
  "kernelspec": {
   "display_name": "Python 3",
   "language": "python",
   "name": "python3"
  },
  "language_info": {
   "codemirror_mode": {
    "name": "ipython",
    "version": 3
   },
   "file_extension": ".py",
   "mimetype": "text/x-python",
   "name": "python",
   "nbconvert_exporter": "python",
   "pygments_lexer": "ipython3",
   "version": "3.7.5"
  }
 },
 "nbformat": 4,
 "nbformat_minor": 4
}

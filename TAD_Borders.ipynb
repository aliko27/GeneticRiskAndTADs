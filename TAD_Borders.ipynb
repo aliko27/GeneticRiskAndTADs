{
 "cells": [
  {
   "cell_type": "code",
   "execution_count": null,
   "metadata": {},
   "outputs": [],
   "source": [
    "%matplotlib inline\n",
    "\n",
    "%load_ext autoreload\n",
    "%autoreload 2\n",
    "%load_ext ipycache"
   ]
  },
  {
   "cell_type": "code",
   "execution_count": null,
   "metadata": {},
   "outputs": [],
   "source": [
    "import os\n",
    "import json\n",
    "\n",
    "import numpy as np\n",
    "import pandas as pd\n",
    "import networkx as nx\n",
    "\n",
    "import seaborn as sns\n",
    "import matplotlib.pyplot as plt\n",
    "\n",
    "import mygene\n",
    "\n",
    "from tqdm import tqdm_notebook as tqdm\n",
    "\n",
    "from data_reader import *\n",
    "from measures import *"
   ]
  },
  {
   "cell_type": "code",
   "execution_count": null,
   "metadata": {},
   "outputs": [],
   "source": [
    "pd.set_option('display.max_columns', None)\n",
    "\n",
    "# fix lock.acquire() stalling of tqdm_notebook\n",
    "from tqdm import tqdm as tqdm_orig\n",
    "tqdm_orig.get_lock().locks = []"
   ]
  },
  {
   "cell_type": "markdown",
   "metadata": {},
   "source": [
    "## Load data"
   ]
  },
  {
   "cell_type": "code",
   "execution_count": null,
   "metadata": {},
   "outputs": [],
   "source": [
    "df_gwas = load_gwas()\n",
    "\n",
    "ppi_graph_list = [\n",
    "    ('BioGRID', load_biogrid()[0]),\n",
    "    ('StringDB', load_stringdb()[0]),\n",
    "    ('BioGRID+StringDB', nx.compose(load_biogrid()[0], load_stringdb()[0]))\n",
    "]\n",
    "\n",
    "df_snps = load_snp_data()"
   ]
  },
  {
   "cell_type": "code",
   "execution_count": null,
   "metadata": {},
   "outputs": [],
   "source": [
    "# convert GWAS reported genes to ENTREZ IDs\n",
    "fname = 'cache/gene_id_conversions.json'\n",
    "if os.path.exists(fname):\n",
    "    with open(fname) as fd:\n",
    "        gene_conv = json.load(fd)\n",
    "else:\n",
    "    # assemble list of all gene symbols\n",
    "    all_genes = []\n",
    "    for row in tqdm(df_gwas.itertuples(), total=df_gwas.shape[0]):\n",
    "        reported_genes = row._14\n",
    "        if isinstance(reported_genes, float):  # is NAN\n",
    "            continue\n",
    "        all_genes.extend(reported_genes.split(','))\n",
    "    all_genes = set(all_genes)\n",
    "    print(f'Found {len(all_genes)} unique gene symbols')\n",
    "        \n",
    "    # convert symbols to ENTREZ IDs\n",
    "    mg = mygene.MyGeneInfo()    \n",
    "    res = mg.querymany(all_genes, scopes='symbol', species=9606)\n",
    "    \n",
    "    gene_conv = {}\n",
    "    for entry in tqdm(res):\n",
    "        if 'notfound' in entry and entry['notfound']:\n",
    "            continue\n",
    "        if not 'entrezgene' in entry:\n",
    "            continue\n",
    "\n",
    "        sym = entry['symbol']\n",
    "        entrez = entry['entrezgene']\n",
    "\n",
    "        #assert sym not in gene_conv or entrez == gene_conv[sym], (entry, sym, entrez, gene_conv[sym])\n",
    "        gene_conv[sym] = entrez\n",
    "    print(f'Found mapping for {len(gene_conv)} symbols')\n",
    "\n",
    "    # cache result\n",
    "    with open(fname, 'w') as fd:\n",
    "        json.dump(gene_conv, fd)"
   ]
  },
  {
   "cell_type": "code",
   "execution_count": null,
   "metadata": {},
   "outputs": [],
   "source": [
    "# get SNP gene ENTREZ id map\n",
    "sub = df_gwas[['SNP_ID_CURRENT','SNP_GENE_IDS']].copy()\n",
    "sub['SNP_ID_CURRENT'] = 'rs' + sub['SNP_ID_CURRENT']\n",
    "sub['GENE_ENTREZ'] = sub['SNP_GENE_IDS'].str.split(',').str[0]\n",
    "\n",
    "snp_gene_map = sub.set_index('SNP_ID_CURRENT').dropna().to_dict()['GENE_ENTREZ']\n",
    "\n",
    "entrez = df_snps['SNP_name'].map(snp_gene_map)\n",
    "df_snps['Gene_entrez'] = pd.to_numeric(entrez, errors='coerce')"
   ]
  },
  {
   "cell_type": "code",
   "execution_count": null,
   "metadata": {},
   "outputs": [],
   "source": [
    "# get disease-name mapping\n",
    "efo_name_map = df_snps.set_index('EFO_term').to_dict()['disease_name']"
   ]
  },
  {
   "cell_type": "markdown",
   "metadata": {},
   "source": [
    "## Check SNP data"
   ]
  },
  {
   "cell_type": "code",
   "execution_count": null,
   "metadata": {},
   "outputs": [],
   "source": [
    "df_snps.head()"
   ]
  },
  {
   "cell_type": "code",
   "execution_count": null,
   "metadata": {},
   "outputs": [],
   "source": [
    "df_gwas.head()"
   ]
  },
  {
   "cell_type": "markdown",
   "metadata": {},
   "source": [
    "## Check network coherence"
   ]
  },
  {
   "cell_type": "code",
   "execution_count": null,
   "metadata": {},
   "outputs": [],
   "source": [
    "graph = nx.Graph()\n",
    "graph.add_edges_from([(1,2),(2,3),(3,4)])"
   ]
  },
  {
   "cell_type": "code",
   "execution_count": null,
   "metadata": {},
   "outputs": [],
   "source": [
    "for ns in [(1,2),(1,3), (1,2,4)]:\n",
    "    print(ns, get_fraction_of_nonisolated_nodes(ns, graph), compute_network_coherence(graph, ns))"
   ]
  },
  {
   "cell_type": "markdown",
   "metadata": {},
   "source": [
    "## Compute per-disease network coherences"
   ]
  },
  {
   "cell_type": "code",
   "execution_count": null,
   "metadata": {},
   "outputs": [],
   "source": [
    "snp_genes = set(df_snps['Gene_entrez'].unique())\n",
    "snps = set(df_snps['SNP_name'].unique())\n",
    "\n",
    "print('SNP genes:', len(snp_genes))\n",
    "print('SNPs:', len(snps))\n",
    "print()\n",
    "\n",
    "for name, ppi_graph in ppi_graph_list:\n",
    "    ppi_genes = set(ppi_graph.nodes())\n",
    "\n",
    "    print(name)\n",
    "    print(' > PPI genes:', len(ppi_genes))\n",
    "    print(' > PPI/SNP gene overlap:', len(ppi_genes & snp_genes))"
   ]
  },
  {
   "cell_type": "code",
   "execution_count": null,
   "metadata": {},
   "outputs": [],
   "source": [
    "def compute_nc(sub_df, min_gene_num=4):\n",
    "    nc_data = []\n",
    "\n",
    "    # must be (non)cancer only\n",
    "    assert len(sub_df.is_cancer.unique()) == 1\n",
    "    is_cancer = sub_df.is_cancer.iloc[0]\n",
    "    \n",
    "    # determine TAD-Border relation\n",
    "    if len(sub_df.is_tad.unique()) == 1: # either only inside or outside\n",
    "        tad_relation = 'inside' if sub_df.is_tad.iloc[0] else 'outside'\n",
    "    else:\n",
    "        tad_relation = 'mixed'\n",
    "    \n",
    "    # compute network coherences\n",
    "    for ppi_name, ppi_graph in tqdm(ppi_graph_list):\n",
    "        ppi_nodes = ppi_graph.nodes()\n",
    "        snp_genes = set(df_snps['Gene_entrez'].tolist())\n",
    "\n",
    "        for term, group in tqdm(sub_df.groupby('EFO_term')):\n",
    "            genes = set(group['Gene_entrez'].dropna().unique())\n",
    "            genes_in_ppi = genes & ppi_nodes\n",
    "\n",
    "            if len(genes_in_ppi) >= min_gene_num:\n",
    "                nc = compute_network_coherence(\n",
    "                    ppi_graph, genes_in_ppi,\n",
    "                    random_nodes=(snp_genes & ppi_nodes)\n",
    "                )\n",
    "            else:\n",
    "                nc = np.nan\n",
    "\n",
    "            nc_data.append((term, nc, ppi_name, len(genes_in_ppi), genes_in_ppi, len(genes), genes))\n",
    "\n",
    "    df_nc = pd.DataFrame(\n",
    "        nc_data,\n",
    "        columns=[\n",
    "            'EFO_term', 'network_coherence', 'network_name',\n",
    "            'ppi_gene_num', 'ppi_genes', 'total_gene_num', 'total_genes'])\n",
    "    df_nc['is_cancer'] = is_cancer\n",
    "    df_nc['tad_relation'] = tad_relation\n",
    "    return df_nc"
   ]
  },
  {
   "cell_type": "code",
   "execution_count": null,
   "metadata": {},
   "outputs": [],
   "source": [
    "df_nc_cancer_all = compute_nc(df_snps[df_snps.is_cancer])\n",
    "df_nc_cancer_tad = compute_nc(df_snps[df_snps.is_cancer & df_snps.is_tad])\n",
    "df_nc_cancer_notad = compute_nc(df_snps[df_snps.is_cancer & ~df_snps.is_tad])\n",
    "\n",
    "df_nc_nocancer_all = compute_nc(df_snps[~df_snps.is_cancer])\n",
    "df_nc_nocancer_tad = compute_nc(df_snps[~df_snps.is_cancer & df_snps.is_tad])\n",
    "df_nc_nocancer_notad = compute_nc(df_snps[~df_snps.is_cancer & ~df_snps.is_tad])\n",
    "\n",
    "# concat result\n",
    "df_nc = pd.concat([\n",
    "        df_nc_cancer_all, df_nc_cancer_tad, df_nc_cancer_notad,\n",
    "        df_nc_nocancer_all, df_nc_nocancer_tad, df_nc_nocancer_notad\n",
    "    ], axis=0)\n",
    "df_nc['tad_relation'] = df_nc['tad_relation'].astype('category')"
   ]
  },
  {
   "cell_type": "code",
   "execution_count": null,
   "metadata": {},
   "outputs": [],
   "source": [
    "# further annotations\n",
    "disease_has_tad_enrichment = lambda term: df_snps[df_snps['EFO_term']==term].iloc[0]['disease_tad_enriched']\n",
    "df_nc['disease_has_tad_enrichment'] = df_nc['EFO_term'].apply(disease_has_tad_enrichment)\n",
    "\n",
    "df_nc['disease_name'] = df_nc['EFO_term'].replace(efo_name_map)"
   ]
  },
  {
   "cell_type": "code",
   "execution_count": null,
   "metadata": {},
   "outputs": [],
   "source": [
    "df_nc.to_csv('results/nc_data.tsv', sep='\\t', index=False)\n",
    "df_nc.head()"
   ]
  },
  {
   "cell_type": "markdown",
   "metadata": {},
   "source": [
    "### Compare NC-values between used networks"
   ]
  },
  {
   "cell_type": "code",
   "execution_count": null,
   "metadata": {},
   "outputs": [],
   "source": [
    "df_nc_trans = pd.DataFrame()\n",
    "\n",
    "for ppi_name, _ in ppi_graph_list:\n",
    "    df_nc_trans[f'NC_{ppi_name}'] = df_nc.loc[df_nc['network_name']==ppi_name, 'network_coherence'].tolist()\n",
    "\n",
    "sns.pairplot(df_nc_trans, diag_kind='kde')\n",
    "plt.savefig('images/nc_network_comparison.pdf')"
   ]
  },
  {
   "cell_type": "markdown",
   "metadata": {},
   "source": [
    "### Plot result"
   ]
  },
  {
   "cell_type": "code",
   "execution_count": null,
   "metadata": {},
   "outputs": [],
   "source": [
    "plt.figure(figsize=(10,5))\n",
    "plt.subplot(121)\n",
    "sns.boxplot(x='is_cancer', y='network_coherence', data=df_nc[df_nc.disease_has_tad_enrichment], hue='tad_relation')\n",
    "plt.title('Disease with TAD enrichment')\n",
    "\n",
    "plt.subplot(122)\n",
    "sns.boxplot(x='is_cancer', y='network_coherence', data=df_nc[~df_nc.disease_has_tad_enrichment], hue='tad_relation')\n",
    "plt.title('Disease without TAD enrichment')\n",
    "\n",
    "plt.tight_layout()\n",
    "plt.savefig('images/nc_cancer_tad.pdf')"
   ]
  },
  {
   "cell_type": "code",
   "execution_count": null,
   "metadata": {},
   "outputs": [],
   "source": [
    "plt.figure(figsize=(10,5))\n",
    "plt.subplot(121)\n",
    "sns.boxplot(x='is_cancer', y='total_gene_num', data=df_nc[df_nc.disease_has_tad_enrichment], hue='tad_relation')\n",
    "plt.title('Disease with TAD enrichment')\n",
    "\n",
    "plt.subplot(122)\n",
    "sns.boxplot(x='is_cancer', y='total_gene_num', data=df_nc[~df_nc.disease_has_tad_enrichment], hue='tad_relation')\n",
    "plt.title('Disease without TAD enrichment')\n",
    "\n",
    "plt.tight_layout()\n",
    "plt.savefig('images/genenum_cancer_tad.pdf')"
   ]
  },
  {
   "cell_type": "markdown",
   "metadata": {},
   "source": [
    "### Another representation"
   ]
  },
  {
   "cell_type": "code",
   "execution_count": null,
   "metadata": {},
   "outputs": [],
   "source": [
    "sns.pointplot(x='tad_relation', y='network_coherence', data=df_nc[df_nc.is_cancer], hue='disease_name')\n",
    "lgd = plt.legend(bbox_to_anchor=(1.05, 1), loc=2, borderaxespad=0)\n",
    "\n",
    "plt.savefig('images/line_nc.pdf', bbox_extra_artists=(lgd,), bbox_inches='tight')"
   ]
  },
  {
   "cell_type": "markdown",
   "metadata": {},
   "source": [
    "## Small experiment"
   ]
  },
  {
   "cell_type": "code",
   "execution_count": null,
   "metadata": {},
   "outputs": [],
   "source": [
    "%%cache random_nc.pkl df_random --cachedir cache\n",
    "\n",
    "ppi_graph = ppi_graph_list[0][1] # BioGRID graph\n",
    "\n",
    "ppi_nodes = list(ppi_graph.nodes())\n",
    "random_note_sets = [[random.sample(ppi_nodes, k) for _ in range(10)] for k in range(2, 100)]\n",
    "\n",
    "random_data = []\n",
    "for ns_list in tqdm(random_note_sets):\n",
    "    for ns in ns_list:\n",
    "        nc = compute_network_coherence(ppi_graph, ns)\n",
    "        random_data.append((nc, len(ns)))\n",
    "df_random = pd.DataFrame(random_data, columns=['network_coherence', 'node_num'])"
   ]
  },
  {
   "cell_type": "code",
   "execution_count": null,
   "metadata": {},
   "outputs": [],
   "source": [
    "df_random.plot(kind='scatter', x='node_num', y='network_coherence')\n",
    "plt.savefig('images/nc_random_nodes.pdf')"
   ]
  }
 ],
 "metadata": {
  "kernelspec": {
   "display_name": "Python 3",
   "language": "python",
   "name": "python3"
  },
  "language_info": {
   "codemirror_mode": {
    "name": "ipython",
    "version": 3
   },
   "file_extension": ".py",
   "mimetype": "text/x-python",
   "name": "python",
   "nbconvert_exporter": "python",
   "pygments_lexer": "ipython3",
   "version": "3.6.3"
  }
 },
 "nbformat": 4,
 "nbformat_minor": 2
}

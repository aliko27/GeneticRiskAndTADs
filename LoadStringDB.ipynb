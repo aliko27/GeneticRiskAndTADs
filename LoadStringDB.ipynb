{
 "cells": [
  {
   "cell_type": "code",
   "execution_count": null,
   "metadata": {},
   "outputs": [],
   "source": [
    "import pandas as pd\n",
    "import networkx as nx\n",
    "\n",
    "from tqdm import tqdm_notebook as tqdm\n",
    "\n",
    "from gene_map import GeneMapper"
   ]
  },
  {
   "cell_type": "markdown",
   "metadata": {},
   "source": [
    "## Read data"
   ]
  },
  {
   "cell_type": "code",
   "execution_count": null,
   "metadata": {},
   "outputs": [],
   "source": [
    "df_ppi = pd.read_table('data/9606.protein.links.v10.5.txt.gz', sep=' ')\n",
    "df_map = pd.read_table(\n",
    "    'data/9606.protein.aliases.v10.5.txt.gz', skiprows=1,\n",
    "    header=None, names=['string_protein_id', 'alias', 'source'])"
   ]
  },
  {
   "cell_type": "code",
   "execution_count": null,
   "metadata": {},
   "outputs": [],
   "source": [
    "df_ppi.head()"
   ]
  },
  {
   "cell_type": "code",
   "execution_count": null,
   "metadata": {},
   "outputs": [],
   "source": [
    "df_map.head()"
   ]
  },
  {
   "cell_type": "markdown",
   "metadata": {},
   "source": [
    "## ID mappings"
   ]
  },
  {
   "cell_type": "markdown",
   "metadata": {},
   "source": [
    "### Map StringDB to Ensembl"
   ]
  },
  {
   "cell_type": "code",
   "execution_count": null,
   "metadata": {},
   "outputs": [],
   "source": [
    "df_map_ens = df_map[df_map['source']=='Ensembl'].dropna()\n",
    "string2ensemble = df_map_ens.set_index('string_protein_id').to_dict()['alias']"
   ]
  },
  {
   "cell_type": "code",
   "execution_count": null,
   "metadata": {},
   "outputs": [],
   "source": [
    "df_map_str2ens = df_map_ens[['string_protein_id', 'alias']]\n",
    "df_map_str2ens.columns = ('stringdb', 'ensembl')\n",
    "\n",
    "print(df_map_str2ens.shape)\n",
    "df_map_str2ens.head()"
   ]
  },
  {
   "cell_type": "markdown",
   "metadata": {},
   "source": [
    "### Map Ensembl to Entrez GeneID"
   ]
  },
  {
   "cell_type": "code",
   "execution_count": null,
   "metadata": {},
   "outputs": [],
   "source": [
    "gm = GeneMapper()"
   ]
  },
  {
   "cell_type": "code",
   "execution_count": null,
   "metadata": {},
   "outputs": [],
   "source": [
    "id_list = set(df_map_str2ens['ensembl'].tolist())\n",
    "\n",
    "gm_res_pro = gm.query(id_list, source_id_type='Ensembl_PRO', target_id_type='GeneID')\n",
    "gm_res_trs = gm.query(id_list, source_id_type='Ensembl_TRS', target_id_type='GeneID')\n",
    "gm_res = pd.concat([gm_res_pro, gm_res_trs])"
   ]
  },
  {
   "cell_type": "code",
   "execution_count": null,
   "metadata": {},
   "outputs": [],
   "source": [
    "print(gm_res.shape)\n",
    "gm_res.head()"
   ]
  },
  {
   "cell_type": "markdown",
   "metadata": {},
   "source": [
    "### Generate mapping dict"
   ]
  },
  {
   "cell_type": "code",
   "execution_count": null,
   "metadata": {},
   "outputs": [],
   "source": [
    "df_mapping = df_map_str2ens.merge(gm_res, left_on='ensembl', right_on='ID_from')\n",
    "\n",
    "# clean up\n",
    "df_mapping.drop('ID_from', axis=1, inplace=True)\n",
    "df_mapping.rename(columns={'ID_to': 'entrez'}, inplace=True)\n",
    "\n",
    "# save result\n",
    "df_mapping.to_csv('results/gene_id_mapping.tsv.gz', index=False, compression='gzip')\n",
    "print(df_mapping.shape)\n",
    "df_mapping.head()"
   ]
  },
  {
   "cell_type": "code",
   "execution_count": null,
   "metadata": {},
   "outputs": [],
   "source": [
    "gene_id_map = df_mapping.set_index('stringdb').to_dict()['entrez']\n",
    "list(gene_id_map.items())[0]"
   ]
  },
  {
   "cell_type": "markdown",
   "metadata": {},
   "source": [
    "## Convert stringDB"
   ]
  },
  {
   "cell_type": "code",
   "execution_count": null,
   "metadata": {},
   "outputs": [],
   "source": [
    "def convert(stringdb_id):\n",
    "    return gene_id_map[stringdb_id]"
   ]
  },
  {
   "cell_type": "code",
   "execution_count": null,
   "metadata": {},
   "outputs": [],
   "source": [
    "converted_interactions = []\n",
    "for row in tqdm(df_ppi.itertuples(), total=df_ppi.shape[0]):\n",
    "    try:\n",
    "        e1 = convert(row.protein1)\n",
    "        e2 = convert(row.protein2)\n",
    "        \n",
    "        converted_interactions.append((e1, e2, row.combined_score))\n",
    "    except KeyError:\n",
    "        pass\n",
    "df_conv = pd.DataFrame(converted_interactions, columns=['protein1', 'protein2', 'combined_score'])"
   ]
  },
  {
   "cell_type": "code",
   "execution_count": null,
   "metadata": {},
   "outputs": [],
   "source": [
    "df_conv.to_csv('data/stringdb_entrez.tsv.gz', sep='\\t', index=False, compression='gzip')"
   ]
  },
  {
   "cell_type": "code",
   "execution_count": null,
   "metadata": {},
   "outputs": [],
   "source": [
    "print(f'StringDB shape conversion: {df_ppi.shape} -> {df_conv.shape}')\n",
    "display(df_ppi.head())\n",
    "display(df_conv.head())"
   ]
  },
  {
   "cell_type": "markdown",
   "metadata": {},
   "source": [
    "## Network statistics"
   ]
  },
  {
   "cell_type": "code",
   "execution_count": null,
   "metadata": {},
   "outputs": [],
   "source": [
    "graph_orig = nx.convert_matrix.from_pandas_edgelist(\n",
    "    df_ppi, source='protein1', target='protein2', edge_attr='combined_score')\n",
    "graph_conv = nx.convert_matrix.from_pandas_edgelist(\n",
    "    df_conv, source='protein1', target='protein2', edge_attr='combined_score')"
   ]
  },
  {
   "cell_type": "code",
   "execution_count": null,
   "metadata": {},
   "outputs": [],
   "source": [
    "def graph_info(name, graph):\n",
    "    print(f'--- {name} ---')\n",
    "    print(nx.info(graph))"
   ]
  },
  {
   "cell_type": "code",
   "execution_count": null,
   "metadata": {},
   "outputs": [],
   "source": [
    "graph_info('Original graph', graph_orig)\n",
    "print()\n",
    "graph_info('Converted graph', graph_conv)"
   ]
  }
 ],
 "metadata": {
  "kernelspec": {
   "display_name": "Python 3",
   "language": "python",
   "name": "python3"
  },
  "language_info": {
   "codemirror_mode": {
    "name": "ipython",
    "version": 3
   },
   "file_extension": ".py",
   "mimetype": "text/x-python",
   "name": "python",
   "nbconvert_exporter": "python",
   "pygments_lexer": "ipython3",
   "version": "3.6.3"
  }
 },
 "nbformat": 4,
 "nbformat_minor": 2
}

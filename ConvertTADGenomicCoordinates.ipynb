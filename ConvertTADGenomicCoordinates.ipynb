{
 "cells": [
  {
   "cell_type": "code",
   "execution_count": null,
   "metadata": {},
   "outputs": [],
   "source": [
    "import numpy as np\n",
    "import pandas as pd\n",
    "\n",
    "from pyliftover import LiftOver"
   ]
  },
  {
   "cell_type": "markdown",
   "metadata": {},
   "source": [
    "## Load data"
   ]
  },
  {
   "cell_type": "code",
   "execution_count": null,
   "metadata": {},
   "outputs": [],
   "source": [
    "df = pd.read_table('data/tads_hESC_hg19_with_ids.txt')\n",
    "df.head()"
   ]
  },
  {
   "cell_type": "markdown",
   "metadata": {},
   "source": [
    "## Convert hg19->hg38"
   ]
  },
  {
   "cell_type": "code",
   "execution_count": null,
   "metadata": {},
   "outputs": [],
   "source": [
    "lo = LiftOver('hg19', 'hg38')"
   ]
  },
  {
   "cell_type": "code",
   "execution_count": null,
   "metadata": {},
   "outputs": [],
   "source": [
    "def convert_pos(chr_, pos):\n",
    "    res = lo.convert_coordinate(chr_, pos)\n",
    "    \n",
    "    if len(res) == 0:\n",
    "        return np.nan\n",
    "    \n",
    "    assert len(res) == 1, res\n",
    "    r_chr, r_pos, r_strand, r_score = res[0]\n",
    "    return r_pos"
   ]
  },
  {
   "cell_type": "code",
   "execution_count": null,
   "metadata": {},
   "outputs": [],
   "source": [
    "# case of no conversion\n",
    "df.loc[1226]\n",
    "convert_pos('chr6', 61880166)"
   ]
  },
  {
   "cell_type": "code",
   "execution_count": null,
   "metadata": {},
   "outputs": [],
   "source": [
    "def _conv(row):\n",
    "    tad_start = convert_pos(row['chrname'], row['tad_start'])\n",
    "    tad_stop = convert_pos(row['chrname'], row['tad_stop'])\n",
    "    \n",
    "    return pd.Series({\n",
    "        '#tad_id': row['#tad_id'],\n",
    "        'chrname': row['chrname'],\n",
    "        'tad_start': min(tad_start, tad_stop),\n",
    "        'tad_stop': max(tad_start, tad_stop)\n",
    "    })\n",
    "\n",
    "df_conv = df.apply(_conv, axis=1).dropna()\n",
    "\n",
    "df_conv['#tad_id'] = df_conv['#tad_id'].astype(int)\n",
    "df_conv['tad_start'] = df_conv['tad_start'].astype(int)\n",
    "df_conv['tad_stop'] = df_conv['tad_stop'].astype(int)\n",
    "\n",
    "df_conv.head()"
   ]
  },
  {
   "cell_type": "markdown",
   "metadata": {},
   "source": [
    "### Check special cases"
   ]
  },
  {
   "cell_type": "code",
   "execution_count": null,
   "metadata": {},
   "outputs": [],
   "source": [
    "# coordinate order gets switched\n",
    "print(convert_pos('chr1', 144848643))\n",
    "print(convert_pos('chr1', 145048643))"
   ]
  },
  {
   "cell_type": "code",
   "execution_count": null,
   "metadata": {},
   "outputs": [],
   "source": [
    "# vanishing tads\n",
    "tad_len = df_conv['tad_stop'] - df_conv['tad_start']\n",
    "empty_tads = df_conv[tad_len==0]\n",
    "\n",
    "print(empty_tads.shape)\n",
    "empty_tads.head()"
   ]
  },
  {
   "cell_type": "markdown",
   "metadata": {},
   "source": [
    "## Save result"
   ]
  },
  {
   "cell_type": "code",
   "execution_count": null,
   "metadata": {},
   "outputs": [],
   "source": [
    "print(df.shape)\n",
    "print(df_conv.shape)"
   ]
  },
  {
   "cell_type": "code",
   "execution_count": null,
   "metadata": {},
   "outputs": [],
   "source": [
    "df_conv.to_csv('results/tads_hESC_hg38.tsv', sep='\\t', index=False)"
   ]
  }
 ],
 "metadata": {
  "kernelspec": {
   "display_name": "Python 3",
   "language": "python",
   "name": "python3"
  },
  "language_info": {
   "codemirror_mode": {
    "name": "ipython",
    "version": 3
   },
   "file_extension": ".py",
   "mimetype": "text/x-python",
   "name": "python",
   "nbconvert_exporter": "python",
   "pygments_lexer": "ipython3",
   "version": "3.6.3"
  }
 },
 "nbformat": 4,
 "nbformat_minor": 2
}

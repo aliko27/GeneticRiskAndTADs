{
 "cells": [
  {
   "cell_type": "code",
   "execution_count": null,
   "metadata": {},
   "outputs": [],
   "source": [
    "%matplotlib inline"
   ]
  },
  {
   "cell_type": "code",
   "execution_count": null,
   "metadata": {},
   "outputs": [],
   "source": [
    "import os\n",
    "\n",
    "import pandas as pd\n",
    "\n",
    "import seaborn as sns\n",
    "import matplotlib.pyplot as plt\n",
    "\n",
    "from tqdm import tqdm_notebook as tqdm"
   ]
  },
  {
   "cell_type": "code",
   "execution_count": null,
   "metadata": {},
   "outputs": [],
   "source": [
    "sns.set_context('talk')"
   ]
  },
  {
   "cell_type": "markdown",
   "metadata": {},
   "source": [
    "## GWAS history"
   ]
  },
  {
   "cell_type": "markdown",
   "metadata": {},
   "source": [
    "### Acquire data"
   ]
  },
  {
   "cell_type": "code",
   "execution_count": null,
   "metadata": {},
   "outputs": [],
   "source": [
    "gwashist_dir = './cache/gwas_history/'\n",
    "\n",
    "if not os.path.isdir(gwashist_dir):\n",
    "    # download all versions\n",
    "    !wget -m -A \"gwas-catalog-associations.tsv\" ftp://ftp.ebi.ac.uk/pub/databases/gwas/releases -P $gwashist_dir\n",
    "else:\n",
    "    print('Cached', gwashist_dir)"
   ]
  },
  {
   "cell_type": "code",
   "execution_count": null,
   "metadata": {},
   "outputs": [],
   "source": [
    "# parse data\n",
    "data = []\n",
    "for year in os.scandir(f'{gwashist_dir}/ftp.ebi.ac.uk/pub/databases/gwas/releases/'):\n",
    "    if not year.is_dir():\n",
    "        continue\n",
    "    for month in os.scandir(year.path):\n",
    "        if not month.is_dir():\n",
    "            continue\n",
    "        for day in os.scandir(month.path):\n",
    "            if not day.is_dir():\n",
    "                continue\n",
    "            for entry in os.scandir(day.path):\n",
    "                if not entry.name.endswith('.tsv'):\n",
    "                    continue\n",
    "\n",
    "                timestamp = f'{year.name}.{month.name}.{day.name}'\n",
    "                data.append((timestamp, entry.path, pd.read_table(entry.path, low_memory=False)))\n",
    "                \n",
    "df_gwashist = pd.DataFrame(data, columns=['timestamp', 'path', 'dataframe'])\n",
    "df_gwashist['timestamp'] = pd.to_datetime(df_gwashist['timestamp'])\n",
    "df_gwashist.set_index('timestamp', inplace=True)"
   ]
  },
  {
   "cell_type": "code",
   "execution_count": null,
   "metadata": {},
   "outputs": [],
   "source": [
    "df_gwashist.sample(5)"
   ]
  },
  {
   "cell_type": "markdown",
   "metadata": {},
   "source": [
    "### Plot size development"
   ]
  },
  {
   "cell_type": "code",
   "execution_count": null,
   "metadata": {},
   "outputs": [],
   "source": [
    "df_gwashist['size'] = df_gwashist['dataframe'].apply(lambda x: x.shape[0])"
   ]
  },
  {
   "cell_type": "code",
   "execution_count": null,
   "metadata": {},
   "outputs": [],
   "source": [
    "plt.figure()\n",
    "\n",
    "df_gwashist['size'].plot()\n",
    "plt.xlabel('Release date')\n",
    "plt.ylabel('GWAS-Catalog size [#entries]')\n",
    "\n",
    "plt.tight_layout()\n",
    "plt.savefig('images/gwas_history.pdf')"
   ]
  }
 ],
 "metadata": {
  "kernelspec": {
   "display_name": "Python 3",
   "language": "python",
   "name": "python3"
  },
  "language_info": {
   "codemirror_mode": {
    "name": "ipython",
    "version": 3
   },
   "file_extension": ".py",
   "mimetype": "text/x-python",
   "name": "python",
   "nbconvert_exporter": "python",
   "pygments_lexer": "ipython3",
   "version": "3.6.4"
  }
 },
 "nbformat": 4,
 "nbformat_minor": 2
}

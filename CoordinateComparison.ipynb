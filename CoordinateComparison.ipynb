{
 "cells": [
  {
   "cell_type": "code",
   "execution_count": null,
   "metadata": {},
   "outputs": [],
   "source": [
    "import os\n",
    "\n",
    "import pandas as pd\n",
    "\n",
    "import matplotlib.pyplot as plt\n",
    "from dna_features_viewer import GraphicFeature, GraphicRecord\n",
    "\n",
    "from tqdm import tqdm_notebook as tqdm"
   ]
  },
  {
   "cell_type": "markdown",
   "metadata": {},
   "source": [
    "# Load data"
   ]
  },
  {
   "cell_type": "code",
   "execution_count": null,
   "metadata": {},
   "outputs": [],
   "source": [
    "root = 'aggregated_results/pipeline_run/results/'\n",
    "source = 'Rao_IMR90_40k_{version}_7'  # 'dixon_ES_40k_hg19_13'\n",
    "\n",
    "fname_tads_hg19 = f'tads_hg38__do_further_investigations:False;input_files+tad_coordinates:data_newleopoldtads_{source}.csv;git_branch:master.tsv'.format(version='hg19')\n",
    "fname_tads_hg38 = f'tads_hg38__do_further_investigations:False;input_files+tad_coordinates:data_newleopoldtads_{source}.csv;git_branch:master.tsv'.format(version='hg38')\n",
    "\n",
    "fname_snps_hg19 = f'final__do_further_investigations:False;input_files+tad_coordinates:data_newleopoldtads_{source}.csv;git_branch:master.csv'.format(version='hg19')\n",
    "fname_snps_hg38 = f'final__do_further_investigations:False;input_files+tad_coordinates:data_newleopoldtads_{source}.csv;git_branch:master.csv'.format(version='hg38')"
   ]
  },
  {
   "cell_type": "code",
   "execution_count": null,
   "metadata": {},
   "outputs": [],
   "source": [
    "df_tads_hg19 = pd.read_table(os.path.join(root, fname_tads_hg19))\n",
    "df_tads_hg38 = pd.read_table(os.path.join(root, fname_tads_hg38))\n",
    "\n",
    "df_snps_hg19 = pd.read_csv(os.path.join(root, fname_snps_hg19))\n",
    "df_snps_hg38 = pd.read_csv(os.path.join(root, fname_snps_hg38))"
   ]
  },
  {
   "cell_type": "markdown",
   "metadata": {},
   "source": [
    "## Overview"
   ]
  },
  {
   "cell_type": "code",
   "execution_count": null,
   "metadata": {},
   "outputs": [],
   "source": [
    "pd.concat([df_tads_hg19, df_tads_hg38], axis=1).head()"
   ]
  },
  {
   "cell_type": "markdown",
   "metadata": {},
   "source": [
    "# Compute SNP-TAD intersections"
   ]
  },
  {
   "cell_type": "code",
   "execution_count": null,
   "metadata": {},
   "outputs": [],
   "source": [
    "def get_tad_intervals(df_tads, border_size=20_000):\n",
    "    # prepare\n",
    "    tmp = df_tads.copy()\n",
    "    tmp.reset_index(inplace=True)\n",
    "    tmp.rename(columns={'index': 'tad_idx'}, inplace=True)\n",
    "    \n",
    "    # define TAD sections\n",
    "    df_tad_body = pd.DataFrame({\n",
    "        'tad_idx': tmp['tad_idx'],\n",
    "        'chrname': tmp['chrname'],\n",
    "        'start': tmp['tad_start'] + border_size,\n",
    "        'stop': tmp['tad_stop'] - border_size\n",
    "    })\n",
    "    \n",
    "    foo = []\n",
    "    for row in tmp.itertuples():\n",
    "        foo.extend([\n",
    "            {\n",
    "                'tad_idx': row.tad_idx,\n",
    "                'chrname': row.chrname,\n",
    "                'start': row.tad_start,\n",
    "                'stop': row.tad_start + border_size,\n",
    "                'border_side': 'left'\n",
    "            },\n",
    "            {\n",
    "                'tad_idx': row.tad_idx,\n",
    "                'chrname': row.chrname,\n",
    "                'start': row.tad_stop - border_size,\n",
    "                'stop': row.tad_stop,\n",
    "                'border_side': 'right'\n",
    "            }\n",
    "        ])\n",
    "    df_tad_border = pd.DataFrame(foo)\n",
    "    \n",
    "    return df_tad_body, df_tad_border"
   ]
  },
  {
   "cell_type": "code",
   "execution_count": null,
   "metadata": {},
   "outputs": [],
   "source": [
    "df_tad_body_hg38, df_tad_border_hg38 = get_tad_intervals(df_tads_hg38)\n",
    "\n",
    "result = []\n",
    "for row in tqdm(df_tad_border_hg38.itertuples(), total=df_tad_border_hg38.shape[0]):\n",
    "    sub = df_snps_hg38[df_snps_hg38['chromosome'] == row.chrname[3:]]\n",
    "    assert sub.shape[0] > 0\n",
    "\n",
    "    matches = sub[sub['position'].between(row.start, row.stop)]\n",
    "    \n",
    "    if matches.shape[0] > 0:\n",
    "        for res_row in matches.drop_duplicates(subset='snpId').itertuples():\n",
    "            result.append({\n",
    "                'snpId': res_row.snpId,\n",
    "                'chromosome': res_row.chromosome,\n",
    "                'position': res_row.position,\n",
    "                'tad_idx': row.tad_idx,\n",
    "                'border_side': row.border_side\n",
    "            })\n",
    "df_res = pd.DataFrame(result)"
   ]
  },
  {
   "cell_type": "code",
   "execution_count": null,
   "metadata": {},
   "outputs": [],
   "source": [
    "df_res.head()"
   ]
  },
  {
   "cell_type": "markdown",
   "metadata": {},
   "source": [
    "# Select case"
   ]
  },
  {
   "cell_type": "code",
   "execution_count": null,
   "metadata": {},
   "outputs": [],
   "source": [
    "snp_counts = (df_res.groupby(['tad_idx', 'border_side'])['snpId']\n",
    "                    .count()\n",
    "                    .sort_values(ascending=False)\n",
    "                    .reset_index()\n",
    "                    .rename(columns={'snpId': 'count'}))\n",
    "snp_counts.head()"
   ]
  },
  {
   "cell_type": "code",
   "execution_count": null,
   "metadata": {},
   "outputs": [],
   "source": [
    "case_num = 5\n",
    "\n",
    "case_list = []\n",
    "for i, row in enumerate(snp_counts.itertuples()):\n",
    "    tmp = df_res[(df_res['tad_idx'] == row.tad_idx) & (df_res['border_side'] == row.border_side)].copy()\n",
    "    tmp['case_idx'] = i\n",
    "    case_list.append(tmp)\n",
    "    \n",
    "    if len(case_list) >= case_num:\n",
    "        break\n",
    "df_cases = pd.concat(case_list)"
   ]
  },
  {
   "cell_type": "code",
   "execution_count": null,
   "metadata": {},
   "outputs": [],
   "source": [
    "df_cases.head()"
   ]
  },
  {
   "cell_type": "markdown",
   "metadata": {},
   "source": [
    "# Plot comparison"
   ]
  },
  {
   "cell_type": "markdown",
   "metadata": {},
   "source": [
    "## Generate features"
   ]
  },
  {
   "cell_type": "markdown",
   "metadata": {},
   "source": [
    "### TAD bodies and borders"
   ]
  },
  {
   "cell_type": "code",
   "execution_count": null,
   "metadata": {},
   "outputs": [],
   "source": [
    "def generate_tad_features(df_body, df_border):\n",
    "    tmp = []\n",
    "    \n",
    "    # body\n",
    "    for row in df_body.itertuples():\n",
    "        tmp.append(GraphicFeature(\n",
    "            start=row.start, end=row.stop,\n",
    "            label=f'{row.tad_idx} (body)', color='blue'))\n",
    "\n",
    "    # border\n",
    "    for row in df_border.itertuples():\n",
    "        tmp.append(GraphicFeature(\n",
    "            start=row.start, end=row.stop,\n",
    "            label=f'{row.tad_idx} (border)', color='red'))\n",
    "        \n",
    "    return tmp"
   ]
  },
  {
   "cell_type": "markdown",
   "metadata": {},
   "source": [
    "### SNPs"
   ]
  },
  {
   "cell_type": "markdown",
   "metadata": {},
   "source": [
    "### hg38"
   ]
  },
  {
   "cell_type": "code",
   "execution_count": null,
   "metadata": {},
   "outputs": [],
   "source": [
    "def generate_snp_features_hg38(df_snp_list):\n",
    "    features_hg38 = []\n",
    "\n",
    "    # SNPs\n",
    "    for row in df_snp_list.itertuples():\n",
    "        features_hg38.append(GraphicFeature(\n",
    "            start=row.position, end=row.position+1,\n",
    "            label=row.snpId, color='black'))\n",
    "\n",
    "    # TADs\n",
    "    assert df_snp_list['chromosome'].unique().size == 1\n",
    "    case_chrom = df_snp_list['chromosome'].iloc[0]\n",
    "\n",
    "    features_hg38.extend(generate_tad_features(\n",
    "        df_tad_body_hg38[df_tad_body_hg38['chrname'] == f'chr{case_chrom}'], \n",
    "        df_tad_border_hg38[df_tad_border_hg38['chrname'] == f'chr{case_chrom}']\n",
    "    ))\n",
    "    \n",
    "    return features_hg38"
   ]
  },
  {
   "cell_type": "markdown",
   "metadata": {},
   "source": [
    "### hg19"
   ]
  },
  {
   "cell_type": "code",
   "execution_count": null,
   "metadata": {},
   "outputs": [],
   "source": [
    "def get_snp_position_hg19(snpId):\n",
    "    # hg38 -> hg19\n",
    "    sub = df_snps_hg19[df_snps_hg19.snpId==snpId].drop_duplicates(subset='snpId')\n",
    "    assert sub.shape[0] == 1\n",
    "    return sub['position'].iloc[0]"
   ]
  },
  {
   "cell_type": "code",
   "execution_count": null,
   "metadata": {},
   "outputs": [],
   "source": [
    "def generate_snp_features_hg19(df_snp_list):\n",
    "    features_hg19 = []\n",
    "\n",
    "    # SNPs\n",
    "    for row in df_snp_list.itertuples():\n",
    "        pos_hg19 = get_snp_position_hg19(row.snpId)\n",
    "        features_hg19.append(GraphicFeature(\n",
    "            start=pos_hg19, end=pos_hg19+1,\n",
    "            label=row.snpId, color='black'))\n",
    "\n",
    "    # TADs\n",
    "    assert df_snp_list['chromosome'].unique().size == 1\n",
    "    case_chrom = df_snp_list['chromosome'].iloc[0]\n",
    "\n",
    "    df_tad_body_hg19, df_tad_border_hg19 = get_tad_intervals(df_tads_hg19)\n",
    "    features_hg19.extend(generate_tad_features(\n",
    "        df_tad_body_hg19[df_tad_body_hg19['chrname'] == f'chr{case_chrom}'],\n",
    "        df_tad_border_hg19[df_tad_border_hg19['chrname'] == f'chr{case_chrom}']\n",
    "    ))\n",
    "    \n",
    "    return features_hg19"
   ]
  },
  {
   "cell_type": "markdown",
   "metadata": {},
   "source": [
    "## General plotting"
   ]
  },
  {
   "cell_type": "code",
   "execution_count": null,
   "metadata": {},
   "outputs": [],
   "source": [
    "def plot_region(features, ax, region_start, region_end):\n",
    "    record = GraphicRecord(sequence_length=region_end+1_000_000, features=features)\n",
    "\n",
    "    record_zoom = record.crop((region_start, region_end))\n",
    "    record_zoom.plot(ax=ax)"
   ]
  },
  {
   "cell_type": "code",
   "execution_count": null,
   "metadata": {},
   "outputs": [],
   "source": [
    "def plot_snp_selection(df_snp_list, name):\n",
    "    # generate features\n",
    "    features_hg38 = generate_snp_features_hg38(df_snp_list)\n",
    "    features_hg19 = generate_snp_features_hg19(df_snp_list)\n",
    "    \n",
    "    # determine window\n",
    "    all_snp_positions = [gf.start for gf in (features_hg19+features_hg38) if gf.label.startswith('rs')]\n",
    "    \n",
    "    window = 30_000\n",
    "    region_start = min(all_snp_positions) - window\n",
    "    region_end = max(all_snp_positions) + window\n",
    "\n",
    "    # plot\n",
    "    plt.figure(figsize=(12, 12))\n",
    "\n",
    "    ax = plt.subplot(211)\n",
    "    plot_region(features_hg38, ax, region_start, region_end)\n",
    "    plt.title('hg38')\n",
    "\n",
    "    ax = plt.subplot(212)\n",
    "    plot_region(features_hg19, ax, region_start, region_end)\n",
    "    plt.title('hg19')\n",
    "\n",
    "    plt.tight_layout()\n",
    "    plt.savefig(f'images/coordinate_comparison_{name}.pdf')"
   ]
  },
  {
   "cell_type": "markdown",
   "metadata": {},
   "source": [
    "## Plot"
   ]
  },
  {
   "cell_type": "code",
   "execution_count": null,
   "metadata": {},
   "outputs": [],
   "source": [
    "for case_idx, group in df_cases.groupby('case_idx'):\n",
    "    plot_snp_selection(group, f'case{case_idx}')"
   ]
  }
 ],
 "metadata": {
  "kernelspec": {
   "display_name": "Python 3",
   "language": "python",
   "name": "python3"
  },
  "language_info": {
   "codemirror_mode": {
    "name": "ipython",
    "version": 3
   },
   "file_extension": ".py",
   "mimetype": "text/x-python",
   "name": "python",
   "nbconvert_exporter": "python",
   "pygments_lexer": "ipython3",
   "version": "3.7.2"
  },
  "toc-autonumbering": true
 },
 "nbformat": 4,
 "nbformat_minor": 2
}

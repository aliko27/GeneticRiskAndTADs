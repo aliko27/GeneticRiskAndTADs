{
 "cells": [
  {
   "cell_type": "code",
   "execution_count": null,
   "metadata": {},
   "outputs": [],
   "source": [
    "%matplotlib inline"
   ]
  },
  {
   "cell_type": "code",
   "execution_count": null,
   "metadata": {},
   "outputs": [],
   "source": [
    "import numpy as np\n",
    "import pandas as pd\n",
    "\n",
    "import seaborn as sns\n",
    "import matplotlib.pyplot as plt\n",
    "\n",
    "from utils import load_config"
   ]
  },
  {
   "cell_type": "code",
   "execution_count": null,
   "metadata": {},
   "outputs": [],
   "source": [
    "config = load_config()\n",
    "\n",
    "sns.set_context('talk')"
   ]
  },
  {
   "cell_type": "markdown",
   "metadata": {},
   "source": [
    "# Load data"
   ]
  },
  {
   "cell_type": "code",
   "execution_count": null,
   "metadata": {},
   "outputs": [],
   "source": [
    "df_tads = pd.read_csv(\n",
    "    config['input_files']['tad_coordinates_hg18'],\n",
    "    header=None, names=['chrname', 'tad_start', 'tad_stop'])\n",
    "df_tads.head()"
   ]
  },
  {
   "cell_type": "markdown",
   "metadata": {},
   "source": [
    "# Randomize TADs"
   ]
  },
  {
   "cell_type": "markdown",
   "metadata": {},
   "source": [
    "## Compute additional TAD statistics"
   ]
  },
  {
   "cell_type": "code",
   "execution_count": null,
   "metadata": {},
   "outputs": [],
   "source": [
    "df_tads['tad_len'] = df_tads['tad_stop'] - df_tads['tad_start']\n",
    "\n",
    "df_tads['next_tad_start'] = df_tads.tad_start.shift(-1)\n",
    "df_tads['next_tad_chr'] = df_tads.chrname.shift(-1)"
   ]
  },
  {
   "cell_type": "code",
   "execution_count": null,
   "metadata": {},
   "outputs": [],
   "source": [
    "def func2next(row):\n",
    "    if row.chrname == row.next_tad_chr:\n",
    "        return row.next_tad_start - row.tad_stop\n",
    "    else:\n",
    "        return np.nan\n",
    "\n",
    "df_tads['dist_to_next_tad'] = df_tads.apply(func2next, axis=1)"
   ]
  },
  {
   "cell_type": "code",
   "execution_count": null,
   "metadata": {},
   "outputs": [],
   "source": [
    "# remove invalid distances (eg between chromosomes)\n",
    "df_tads[df_tads.isnull().any(axis=1)]\n",
    "df_tads.dropna(inplace=True)"
   ]
  },
  {
   "cell_type": "code",
   "execution_count": null,
   "metadata": {},
   "outputs": [],
   "source": [
    "df_tads.head()"
   ]
  },
  {
   "cell_type": "markdown",
   "metadata": {},
   "source": [
    "## Draw random TADs"
   ]
  },
  {
   "cell_type": "code",
   "execution_count": null,
   "metadata": {},
   "outputs": [],
   "source": [
    "tad_counter = 1\n",
    "\n",
    "data = []\n",
    "for chr_, group in df_tads.groupby('chrname'):\n",
    "    tad_len_distr = group['tad_len'].sample(frac=1).tolist()\n",
    "    tad_sep_distr = group['dist_to_next_tad'].sample(frac=1).tolist()\n",
    "    \n",
    "    cur_pos = group['tad_start'].min()\n",
    "    for _ in range(group.shape[0]):\n",
    "        cur_len = tad_len_distr.pop()\n",
    "        cur_sep = tad_sep_distr.pop()\n",
    "        \n",
    "        data.append({\n",
    "            '#tad_id': tad_counter,\n",
    "            'chrname': chr_,\n",
    "            'tad_start': cur_pos,\n",
    "            'tad_stop': cur_pos+cur_len\n",
    "        })\n",
    "        \n",
    "        cur_pos += cur_len + cur_sep\n",
    "        tad_counter += 1\n",
    "        \n",
    "    # make sure that lists are exhausted\n",
    "    assert not tad_len_distr and not tad_sep_distr, (tad_len_distr, tad_sep_distr)\n",
    "\n",
    "# convert to dataframe\n",
    "df_tads_rand = pd.DataFrame(data)\n",
    "df_tads_rand['tad_start'] = pd.to_numeric(df_tads_rand['tad_start'], downcast='integer')\n",
    "df_tads_rand['tad_stop'] = pd.to_numeric(df_tads_rand['tad_stop'], downcast='integer')\n",
    "\n",
    "df_tads_rand.head()"
   ]
  },
  {
   "cell_type": "code",
   "execution_count": null,
   "metadata": {},
   "outputs": [],
   "source": [
    "# more validations\n",
    "assert df_tads.shape[0] == df_tads_rand.shape[0]\n",
    "assert sorted(df_tads['tad_len'].tolist()) == sorted((df_tads_rand['tad_stop'] - df_tads_rand['tad_start']).tolist())"
   ]
  },
  {
   "cell_type": "markdown",
   "metadata": {},
   "source": [
    "## Save result"
   ]
  },
  {
   "cell_type": "code",
   "execution_count": null,
   "metadata": {},
   "outputs": [],
   "source": [
    "df_tads_rand.to_csv('data/tads_hg18_randomized.tsv', sep='\\t', index=False)"
   ]
  },
  {
   "cell_type": "markdown",
   "metadata": {},
   "source": [
    "# Compare to actual TADs"
   ]
  },
  {
   "cell_type": "code",
   "execution_count": null,
   "metadata": {},
   "outputs": [],
   "source": [
    "df_tads_rand['tad_len'] = df_tads_rand['tad_stop'] - df_tads_rand['tad_start']"
   ]
  },
  {
   "cell_type": "markdown",
   "metadata": {},
   "source": [
    "## Histograms"
   ]
  },
  {
   "cell_type": "code",
   "execution_count": null,
   "metadata": {},
   "outputs": [],
   "source": [
    "plt.figure(figsize=(13,3))\n",
    "\n",
    "plt.subplot(121)\n",
    "sns.distplot(df_tads['tad_len'], kde=False)\n",
    "plt.title('Original TADs')\n",
    "\n",
    "plt.subplot(122)\n",
    "sns.distplot(df_tads_rand['tad_len'], kde=False)\n",
    "plt.title('Shuffled TADs')"
   ]
  },
  {
   "cell_type": "markdown",
   "metadata": {},
   "source": [
    "## Scatter plots"
   ]
  },
  {
   "cell_type": "code",
   "execution_count": null,
   "metadata": {},
   "outputs": [],
   "source": [
    "plt.scatter(df_tads['tad_start'], df_tads_rand['tad_start'], s=10)\n",
    "\n",
    "plt.xlabel('Original TAD-start position')\n",
    "plt.ylabel('Randomized TAD-start position')"
   ]
  },
  {
   "cell_type": "code",
   "execution_count": null,
   "metadata": {},
   "outputs": [],
   "source": [
    "plt.scatter(df_tads['tad_len'], df_tads_rand['tad_len'], s=50, alpha=.3)\n",
    "\n",
    "plt.xlabel('Original TAD-length')\n",
    "plt.ylabel('Randomized TAD-length')"
   ]
  },
  {
   "cell_type": "markdown",
   "metadata": {},
   "source": [
    "# Compare final results"
   ]
  },
  {
   "cell_type": "markdown",
   "metadata": {},
   "source": [
    "This part can only be run if the pipeline has been executed with\n",
    "```bash\n",
    "#config.yaml\n",
    "tad_coordinates_hg18: 'results/tads_hg18_randomized.tsv'\n",
    "```\n",
    "beforehand, and the obtained results were cached with\n",
    "```bash\n",
    "mv results/TAD_enrichment.csv results/TAD_enrichment_randomized.csv\n",
    "```\n",
    "(and the proper pipeline was then run once again)"
   ]
  },
  {
   "cell_type": "markdown",
   "metadata": {},
   "source": [
    "## Read data"
   ]
  },
  {
   "cell_type": "code",
   "execution_count": null,
   "metadata": {},
   "outputs": [],
   "source": [
    "df_enr_org = pd.read_csv('results/TAD_enrichment.csv')\n",
    "df_enr_rand = pd.read_csv('results/TAD_enrichment_randomized.csv')"
   ]
  },
  {
   "cell_type": "code",
   "execution_count": null,
   "metadata": {},
   "outputs": [],
   "source": [
    "display(df_enr_org.head())\n",
    "display(df_enr_rand.head())"
   ]
  },
  {
   "cell_type": "markdown",
   "metadata": {},
   "source": [
    "## Scatter plots"
   ]
  },
  {
   "cell_type": "code",
   "execution_count": null,
   "metadata": {},
   "outputs": [],
   "source": [
    "TAD_border_types = df_enr_org['TAD_type'].unique().tolist()\n",
    "mylog = np.vectorize(lambda x: np.log10(x) if x > 0 else np.nan)\n",
    "\n",
    "fig, axes = plt.subplots(2, len(TAD_border_types)//2, figsize=(11, 8))\n",
    "for type_, ax in zip(TAD_border_types, axes.flatten()):\n",
    "    sub_org = df_enr_org[df_enr_org['TAD_type'] == type_]\n",
    "    sub_rand = df_enr_rand[df_enr_rand['TAD_type'] == type_]\n",
    "    assert (sub_org[['TAD_type', 'disease']] == sub_rand[['TAD_type', 'disease']]).all().all()\n",
    "    \n",
    "    ax.scatter(\n",
    "        -mylog(sub_org['pval_boundary']),\n",
    "        -mylog(sub_rand['pval_boundary']),\n",
    "        alpha=.8, s=10)\n",
    "    ax.set_title(type_)\n",
    "    ax.set_aspect('equal', 'datalim')\n",
    "    ax.set_xlabel('original')\n",
    "    ax.set_ylabel('randomized')\n",
    "    \n",
    "    ax.axvline(x=-np.log10(.05), color='red', linestyle='dashed', linewidth=.5)\n",
    "    ax.axhline(y=-np.log10(.05), color='red', linestyle='dashed', linewidth=.5)\n",
    "    \n",
    "plt.suptitle('TAD boundary -log(p_values)')\n",
    "    \n",
    "plt.tight_layout()\n",
    "plt.subplots_adjust(top=0.9)\n",
    "plt.savefig('images/original_vs_randomized_tad_boundary_pvalues.pdf')"
   ]
  }
 ],
 "metadata": {
  "kernelspec": {
   "display_name": "Python 3",
   "language": "python",
   "name": "python3"
  },
  "language_info": {
   "codemirror_mode": {
    "name": "ipython",
    "version": 3
   },
   "file_extension": ".py",
   "mimetype": "text/x-python",
   "name": "python",
   "nbconvert_exporter": "python",
   "pygments_lexer": "ipython3",
   "version": "3.7.0"
  }
 },
 "nbformat": 4,
 "nbformat_minor": 2
}

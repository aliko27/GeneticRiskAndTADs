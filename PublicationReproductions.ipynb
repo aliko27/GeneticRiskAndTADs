{
 "cells": [
  {
   "cell_type": "code",
   "execution_count": null,
   "metadata": {},
   "outputs": [],
   "source": [
    "%matplotlib inline"
   ]
  },
  {
   "cell_type": "code",
   "execution_count": null,
   "metadata": {},
   "outputs": [],
   "source": [
    "import numpy as np\n",
    "import pandas as pd\n",
    "\n",
    "import seaborn as sns\n",
    "import matplotlib.pyplot as plt"
   ]
  },
  {
   "cell_type": "code",
   "execution_count": null,
   "metadata": {},
   "outputs": [],
   "source": [
    "sns.set_context('talk')"
   ]
  },
  {
   "cell_type": "markdown",
   "metadata": {},
   "source": [
    "## Load data"
   ]
  },
  {
   "cell_type": "code",
   "execution_count": null,
   "metadata": {},
   "outputs": [],
   "source": [
    "df = pd.read_table('results/disgenet_enhanced_hg38.tsv')\n",
    "df.sample(5)"
   ]
  },
  {
   "cell_type": "code",
   "execution_count": null,
   "metadata": {},
   "outputs": [],
   "source": [
    "df_enr = pd.read_csv('results/TAD_enrichment.csv')\n",
    "\n",
    "# mark cancer diseases\n",
    "iscancer_map = df[['UMLS_CUI', 'is_cancer']].set_index('UMLS_CUI').to_dict()['is_cancer']\n",
    "df_enr['is_cancer'] = df_enr['disease'].map(iscancer_map)\n",
    "\n",
    "df_enr.sample(5)"
   ]
  },
  {
   "cell_type": "markdown",
   "metadata": {},
   "source": [
    "## Tables"
   ]
  },
  {
   "cell_type": "markdown",
   "metadata": {},
   "source": [
    "### Enriched cancers"
   ]
  },
  {
   "cell_type": "code",
   "execution_count": null,
   "metadata": {},
   "outputs": [],
   "source": []
  },
  {
   "cell_type": "markdown",
   "metadata": {},
   "source": [
    "## Plots"
   ]
  },
  {
   "cell_type": "code",
   "execution_count": null,
   "metadata": {},
   "outputs": [],
   "source": [
    "# rescale p-values\n",
    "df_enr_log = df_enr.copy()\n",
    "\n",
    "df_enr_log['pval_boundary'] = df_enr_log['pval_boundary'].apply(lambda x: -np.log10(x))\n",
    "df_enr_log['pval_tad'] = df_enr_log['pval_tad'].apply(lambda x: -np.log10(x))\n",
    "df_enr_log['pval_none'] = df_enr_log['pval_none'].apply(lambda x: -np.log10(x))\n",
    "df_enr_log = df_enr_log.replace([np.inf, -np.inf], np.nan)"
   ]
  },
  {
   "cell_type": "markdown",
   "metadata": {},
   "source": [
    "### TAD border enrichment"
   ]
  },
  {
   "cell_type": "code",
   "execution_count": null,
   "metadata": {},
   "outputs": [],
   "source": [
    "g = sns.FacetGrid(\n",
    "    df_enr_log, col='TAD_type', col_wrap=3, hue='is_cancer',\n",
    "    size=5, aspect=1.2)\n",
    "\n",
    "g = g.map(plt.hist, 'pval_boundary', alpha=.5, density=False, bins=30)\n",
    "g = g.map(plt.axvline, x=-np.log10(.05), color='red', linestyle='dashed')"
   ]
  }
 ],
 "metadata": {
  "kernelspec": {
   "display_name": "Python 3",
   "language": "python",
   "name": "python3"
  },
  "language_info": {
   "codemirror_mode": {
    "name": "ipython",
    "version": 3
   },
   "file_extension": ".py",
   "mimetype": "text/x-python",
   "name": "python",
   "nbconvert_exporter": "python",
   "pygments_lexer": "ipython3",
   "version": "3.6.4"
  }
 },
 "nbformat": 4,
 "nbformat_minor": 2
}

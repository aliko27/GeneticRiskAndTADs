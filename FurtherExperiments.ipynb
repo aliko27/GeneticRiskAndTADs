{
 "cells": [
  {
   "cell_type": "code",
   "execution_count": null,
   "metadata": {},
   "outputs": [],
   "source": [
    "%matplotlib inline"
   ]
  },
  {
   "cell_type": "code",
   "execution_count": null,
   "metadata": {},
   "outputs": [],
   "source": [
    "import os\n",
    "import collections\n",
    "\n",
    "import numpy as np\n",
    "import pandas as pd\n",
    "\n",
    "import seaborn as sns\n",
    "import matplotlib.pyplot as plt\n",
    "import matplotlib.lines as mlines\n",
    "\n",
    "from tqdm import tqdm_notebook as tqdm\n",
    "\n",
    "from utils import load_config\n",
    "from tad_helper_functions import get_tad_lengths, EmptyTAD, OverlappingTADS"
   ]
  },
  {
   "cell_type": "code",
   "execution_count": null,
   "metadata": {},
   "outputs": [],
   "source": [
    "sns.set_context('talk')"
   ]
  },
  {
   "cell_type": "code",
   "execution_count": null,
   "metadata": {},
   "outputs": [],
   "source": [
    "config = load_config()"
   ]
  },
  {
   "cell_type": "code",
   "execution_count": null,
   "metadata": {},
   "outputs": [],
   "source": [
    "results_dir = config['output_dirs']['results']\n",
    "images_dir = config['output_dirs']['images']"
   ]
  },
  {
   "cell_type": "markdown",
   "metadata": {},
   "source": [
    "# Old enrichments vs new enrichments"
   ]
  },
  {
   "cell_type": "markdown",
   "metadata": {},
   "source": [
    "## Read data"
   ]
  },
  {
   "cell_type": "code",
   "execution_count": null,
   "metadata": {},
   "outputs": [],
   "source": [
    "# read data\n",
    "df_enr_old = pd.read_csv(f'data/TAD_enrichment__old_version_adjusted.csv')\n",
    "df_enr_new = pd.read_csv(f'{results_dir}/TAD_enrichment.csv')\n",
    "\n",
    "# subset to shared diseases\n",
    "shared_diseases = list(set(df_enr_new['disease'].tolist()) & set(df_enr_old['disease'].tolist()))\n",
    "\n",
    "print('#diseases (old):', df_enr_old['disease'].unique().size)\n",
    "print('#diseases (new):', df_enr_new['disease'].unique().size)\n",
    "print('#diseases (shared):', len(shared_diseases))\n",
    "\n",
    "df_enr_old = df_enr_old[df_enr_old['disease'].isin(shared_diseases)]\n",
    "df_enr_new = df_enr_new[df_enr_new['disease'].isin(shared_diseases)]\n",
    "assert df_enr_old['disease'].unique().size == df_enr_new['disease'].unique().size == len(shared_diseases)\n",
    "\n",
    "# annotate diseases\n",
    "df_iscancer = pd.read_csv(f'{results_dir}/disease_cancer_classification.csv')\n",
    "\n",
    "df_enr_old = df_enr_old.merge(\n",
    "    df_iscancer, left_on='disease', right_on='diseaseId').drop(columns='diseaseId')\n",
    "df_enr_new = df_enr_new.merge(\n",
    "    df_iscancer, left_on='disease', right_on='diseaseId').drop(columns='diseaseId')\n",
    "\n",
    "# set appropriate index\n",
    "df_enr_new.set_index(['disease', 'TAD_type'], inplace=True)\n",
    "df_enr_old.set_index(['disease', 'TAD_type'], inplace=True)"
   ]
  },
  {
   "cell_type": "code",
   "execution_count": null,
   "metadata": {},
   "outputs": [],
   "source": [
    "df_enr_new.sample(5)"
   ]
  },
  {
   "cell_type": "markdown",
   "metadata": {},
   "source": [
    "## Plot result"
   ]
  },
  {
   "cell_type": "code",
   "execution_count": null,
   "metadata": {},
   "outputs": [],
   "source": [
    "pval_cols = [c for c in df_enr_new.columns if c.startswith('pval')]\n",
    "mylog = np.vectorize(lambda x: np.log10(x) if x > 0 else np.nan)\n",
    "\n",
    "def plot(df_old, df_new, s_genediff, ax, marker='o', colorbar=True):\n",
    "    lbl = '-log(p_value)'\n",
    "    df_tmp = pd.DataFrame({\n",
    "        f'{lbl} (old)': -mylog(df_old),\n",
    "        f'{lbl} (new)': -mylog(df_new),\n",
    "        'log(abs(#snp diff))': mylog(s_genediff)\n",
    "    })\n",
    "    df_tmp.plot(\n",
    "        x=f'{lbl} (old)', y=f'{lbl} (new)', c='log(abs(#snp diff))',\n",
    "        colormap='viridis', kind='scatter', ax=ax, loglog=True,\n",
    "        colorbar=colorbar, marker=marker, legend=False)  #, xlim=(1e-1, 1e1), ylim=(1e-1, 1e1)\n",
    "    ax.set_aspect('equal')\n",
    "    \n",
    "    ax.axvline(x=-np.log10(.05), color='red', linestyle='dashed', linewidth=.5)\n",
    "    ax.axhline(y=-np.log10(.05), color='red', linestyle='dashed', linewidth=.5)\n",
    "    \n",
    "    # hacky way to draw a diagonal line through the origin\n",
    "    x0 = min(ax.get_xlim()[0], ax.get_ylim()[0])\n",
    "    y0 = max(ax.get_xlim()[1], ax.get_ylim()[1])\n",
    "    diag_line, = ax.plot([x0, y0], [x0, y0], color='grey', linestyle='dashed', linewidth=.5)  #, transform=ax.transAxes\n",
    "    def on_change(axes):\n",
    "        x0 = min(ax.get_xlim()[0], ax.get_ylim()[0])\n",
    "        y0 = max(ax.get_xlim()[1], ax.get_ylim()[1])\n",
    "        diag_line.set_data([x0, y0], [x0, y0])\n",
    "    ax.callbacks.connect('xlim_changed', on_change)\n",
    "    ax.callbacks.connect('ylim_changed', on_change)\n",
    "\n",
    "    \n",
    "TAD_type_list = df_enr_new.index.get_level_values('TAD_type').unique().tolist()\n",
    "for pcol in pval_cols:\n",
    "    s = 6\n",
    "    fig, ax_arr = plt.subplots(\n",
    "        2, len(TAD_type_list)//2,\n",
    "        figsize=((len(TAD_type_list)//2)*s,2*s))\n",
    "\n",
    "    for (tad_type, group_new), ax in zip(df_enr_new.groupby('TAD_type'), ax_arr.flatten()):\n",
    "        group_old = df_enr_old.loc[group_new.index]\n",
    "\n",
    "        ax.set_title(tad_type)\n",
    "        \n",
    "        # plot cancer\n",
    "        plot(\n",
    "            group_old.loc[group_old.is_cancer, pcol], group_new.loc[group_new.is_cancer, pcol],\n",
    "            abs(group_old.loc[group_old.is_cancer, 'gene_num'] - group_new.loc[group_new.is_cancer, '#snp']),\n",
    "            ax, marker='^')\n",
    "        \n",
    "        # plot non-cancer\n",
    "        plot(\n",
    "            group_old.loc[~group_old.is_cancer, pcol], group_new.loc[~group_new.is_cancer, pcol],\n",
    "            abs(group_old.loc[~group_old.is_cancer, 'gene_num'] - group_new.loc[~group_new.is_cancer, '#snp']),\n",
    "            ax, marker='s', colorbar=False)\n",
    "        \n",
    "        # plot legend\n",
    "        legend_patches = [\n",
    "            mlines.Line2D([], [], color='black', marker='^', markersize=15, linewidth=0, label='cancer'),\n",
    "            mlines.Line2D([], [], color='black', marker='s', markersize=15, linewidth=0, label='non-cancer')\n",
    "        ]\n",
    "        ax.legend(handles=legend_patches, loc='best')\n",
    "\n",
    "    plt.suptitle(pcol)\n",
    "    plt.tight_layout(rect=[0, 0.03, 1, 0.95])\n",
    "    plt.savefig(f'{images_dir}/enrichment_comparison_oldnew_{pcol}.pdf')"
   ]
  },
  {
   "cell_type": "markdown",
   "metadata": {},
   "source": [
    "## Consider specific example"
   ]
  },
  {
   "cell_type": "markdown",
   "metadata": {},
   "source": [
    "### Largest p-value difference"
   ]
  },
  {
   "cell_type": "code",
   "execution_count": null,
   "metadata": {},
   "outputs": [],
   "source": [
    "max_efo = abs(\n",
    "    df_enr_new[df_enr_new.is_cancer].xs('20in', level='TAD_type')['pval_boundary'] - \n",
    "    df_enr_old[df_enr_old.is_cancer].xs('20in', level='TAD_type')['pval_boundary']\n",
    ").idxmax()\n",
    "print('EFO with largest p-value change:', max_efo)\n",
    "\n",
    "print('> Old:\\n', df_enr_old.loc[(max_efo, '20in')])\n",
    "print('> New:\\n', df_enr_new.loc[(max_efo, '20in')])"
   ]
  },
  {
   "cell_type": "markdown",
   "metadata": {},
   "source": [
    "### P-value difference with same number of SNPs"
   ]
  },
  {
   "cell_type": "code",
   "execution_count": null,
   "metadata": {},
   "outputs": [],
   "source": [
    "idx_rel = df_enr_new[\n",
    "    (df_enr_new['#snp'] - df_enr_old['gene_num']) == 0][df_enr_new.is_cancer].xs('20in', level='TAD_type').index"
   ]
  },
  {
   "cell_type": "code",
   "execution_count": null,
   "metadata": {},
   "outputs": [],
   "source": [
    "max_efo = abs(\n",
    "    df_enr_new.xs('20in', level='TAD_type').loc[idx_rel]['pval_boundary'] - \n",
    "    df_enr_old.xs('20in', level='TAD_type').loc[idx_rel]['pval_boundary']\n",
    ").idxmax()\n",
    "\n",
    "print('EFO with largest p-value change:', max_efo)\n",
    "\n",
    "print('> Old:\\n', df_enr_old.loc[(max_efo, '20in')])\n",
    "print('> New:\\n', df_enr_new.loc[(max_efo, '20in')])"
   ]
  },
  {
   "cell_type": "markdown",
   "metadata": {},
   "source": [
    "# TAD statistics"
   ]
  },
  {
   "cell_type": "markdown",
   "metadata": {},
   "source": [
    "## Prepare data"
   ]
  },
  {
   "cell_type": "code",
   "execution_count": null,
   "metadata": {},
   "outputs": [],
   "source": [
    "df_tads = pd.read_table(f'{results_dir}/tads_hg38.tsv')\n",
    "\n",
    "df_tads['tad_len'] = df_tads['tad_stop'] - df_tads['tad_start']\n",
    "df_tads['prev_tad_stop'] = df_tads.tad_stop.shift(1)\n",
    "df_tads['next_tad_start'] = df_tads.tad_start.shift(-1)\n",
    "df_tads['prev_tad_chr'] = df_tads.chrname.shift(1)\n",
    "df_tads['next_tad_chr'] = df_tads.chrname.shift(-1)\n",
    "\n",
    "df_tads.sample(5)"
   ]
  },
  {
   "cell_type": "markdown",
   "metadata": {},
   "source": [
    "## TAD (boundary) lengths"
   ]
  },
  {
   "cell_type": "code",
   "execution_count": null,
   "metadata": {},
   "outputs": [],
   "source": [
    "TAD_border_types = ['20in', '40in', '20out', '40out', '20inout', '40inout']"
   ]
  },
  {
   "cell_type": "code",
   "execution_count": null,
   "metadata": {},
   "outputs": [],
   "source": [
    "tad_data = []\n",
    "for type_ in TAD_border_types:\n",
    "    tad_errors = collections.defaultdict(int)\n",
    "    for row in df_tads.itertuples():\n",
    "        try:\n",
    "            b1_range, tad_range, b2_range = get_tad_lengths(row, type_)\n",
    "        except (EmptyTAD, OverlappingTADS) as ex:\n",
    "            tad_errors[ex.__class__.__name__] += 1\n",
    "            continue\n",
    "\n",
    "        tad_data.append({\n",
    "            'tad_type': type_,\n",
    "            'tad_length': tad_range.stop - tad_range.start,\n",
    "            'b1_length': b1_range.stop - b1_range.start,\n",
    "            'b2_length': b2_range.stop - b2_range.start\n",
    "        })\n",
    "        \n",
    "    print(f'[{type_}] Errors counts:', dict(tad_errors))\n",
    "df_tad_len = pd.DataFrame(tad_data)\n",
    "df_tad_len.sample(5)"
   ]
  },
  {
   "cell_type": "code",
   "execution_count": null,
   "metadata": {},
   "outputs": [],
   "source": [
    "df_tad_len_long = pd.melt(\n",
    "    df_tad_len,\n",
    "    id_vars=['tad_type'],\n",
    "    value_vars=['tad_length', 'b1_length', 'b2_length'])\n",
    "df_tad_len_long.sample(5)"
   ]
  },
  {
   "cell_type": "code",
   "execution_count": null,
   "metadata": {},
   "outputs": [],
   "source": [
    "g = sns.FacetGrid(\n",
    "    col='tad_type', col_wrap=2,\n",
    "    sharex=False, sharey=False,\n",
    "    data=df_tad_len_long[df_tad_len_long['variable']!='tad_length'],\n",
    "    aspect=2.3)\n",
    "\n",
    "g.map(sns.distplot, 'value', kde=False)\n",
    "plt.suptitle('TAD boundary lengths')\n",
    "\n",
    "for ax in g.axes.flatten():\n",
    "    ax.ticklabel_format(useOffset=False)\n",
    "    \n",
    "plt.tight_layout()\n",
    "plt.subplots_adjust(top=0.9)\n",
    "\n",
    "plt.savefig(f'{images_dir}/tadboundary_lengths.pdf')"
   ]
  },
  {
   "cell_type": "markdown",
   "metadata": {},
   "source": [
    "## Inter-TAD distances"
   ]
  },
  {
   "cell_type": "markdown",
   "metadata": {},
   "source": [
    "### Compute distances"
   ]
  },
  {
   "cell_type": "code",
   "execution_count": null,
   "metadata": {},
   "outputs": [],
   "source": [
    "def func2prev(row):\n",
    "    if row.chrname == row.prev_tad_chr:\n",
    "        return row.tad_start - row.prev_tad_stop\n",
    "    else:\n",
    "        return np.nan\n",
    "def func2next(row):\n",
    "    if row.chrname == row.next_tad_chr:\n",
    "        return row.next_tad_start - row.tad_stop\n",
    "    else:\n",
    "        return np.nan\n",
    "\n",
    "df_tads['dist_to_prev_tad'] = df_tads.apply(func2prev, axis=1)\n",
    "df_tads['dist_to_next_tad'] = df_tads.apply(func2next, axis=1)\n",
    "df_tads.sample(5)"
   ]
  },
  {
   "cell_type": "markdown",
   "metadata": {},
   "source": [
    "### Investigate peculiar distances"
   ]
  },
  {
   "cell_type": "code",
   "execution_count": null,
   "metadata": {},
   "outputs": [],
   "source": [
    "df_tads['dist_to_prev_tad'][df_tads['dist_to_prev_tad']<0]"
   ]
  },
  {
   "cell_type": "code",
   "execution_count": null,
   "metadata": {},
   "outputs": [],
   "source": [
    "df_tads.loc[191:193]"
   ]
  },
  {
   "cell_type": "markdown",
   "metadata": {},
   "source": [
    "### Histograms"
   ]
  },
  {
   "cell_type": "code",
   "execution_count": null,
   "metadata": {},
   "outputs": [],
   "source": [
    "inter_dists = pd.concat([df_tads['dist_to_prev_tad'], df_tads['dist_to_next_tad']]).dropna()\n",
    "inter_dists = inter_dists[(inter_dists >= 0) & (inter_dists < 200_000)]\n",
    "\n",
    "sns.distplot(inter_dists, kde=False)\n",
    "\n",
    "plt.yscale('log')\n",
    "plt.xlabel('Inter-TAD distance')\n",
    "plt.ylabel('Count')\n",
    "\n",
    "plt.tight_layout()\n",
    "plt.savefig(f'{images_dir}/intertad_distances.pdf')"
   ]
  },
  {
   "cell_type": "markdown",
   "metadata": {},
   "source": [
    "# GWAS history"
   ]
  },
  {
   "cell_type": "markdown",
   "metadata": {},
   "source": [
    "## Acquire data"
   ]
  },
  {
   "cell_type": "code",
   "execution_count": null,
   "metadata": {},
   "outputs": [],
   "source": [
    "gwashist_dir = './cache/gwas_history/'\n",
    "\n",
    "if not os.path.isdir(gwashist_dir):\n",
    "    # download all versions\n",
    "    !wget \\\n",
    "        -m \\\n",
    "        --no-parent \\\n",
    "        -A \"gwas-catalog-associations_ontology-annotated.tsv\" \\\n",
    "        -P $gwashist_dir \\\n",
    "        ftp://ftp.ebi.ac.uk/pub/databases/gwas/releases/\n",
    "else:\n",
    "    print('Cached', gwashist_dir)"
   ]
  },
  {
   "cell_type": "code",
   "execution_count": null,
   "metadata": {},
   "outputs": [],
   "source": [
    "# parse data\n",
    "data = []\n",
    "for year in os.scandir(f'{gwashist_dir}/ftp.ebi.ac.uk/pub/databases/gwas/releases/'):\n",
    "    if not year.is_dir():\n",
    "        continue\n",
    "    for month in os.scandir(year.path):\n",
    "        if not month.is_dir():\n",
    "            continue\n",
    "        for day in os.scandir(month.path):\n",
    "            if not day.is_dir():\n",
    "                continue\n",
    "            for entry in os.scandir(day.path):\n",
    "                if not entry.name.endswith('.tsv'):\n",
    "                    continue\n",
    "\n",
    "                timestamp = f'{year.name}.{month.name}.{day.name}'\n",
    "                data.append((timestamp, entry.path, pd.read_table(entry.path, low_memory=False)))\n",
    "                \n",
    "df_gwashist = pd.DataFrame(data, columns=['timestamp', 'path', 'dataframe'])\n",
    "df_gwashist['timestamp'] = pd.to_datetime(df_gwashist['timestamp'])\n",
    "df_gwashist.set_index('timestamp', inplace=True)"
   ]
  },
  {
   "cell_type": "code",
   "execution_count": null,
   "metadata": {},
   "outputs": [],
   "source": [
    "df_gwashist.sample(5)"
   ]
  },
  {
   "cell_type": "code",
   "execution_count": null,
   "metadata": {},
   "outputs": [],
   "source": [
    "pd.set_option('display.max_columns', 99)\n",
    "df_gwashist.iloc[-1].dataframe.sample(3)"
   ]
  },
  {
   "cell_type": "markdown",
   "metadata": {},
   "source": [
    "## Filter for disease that appear in old and new data"
   ]
  },
  {
   "cell_type": "code",
   "execution_count": null,
   "metadata": {},
   "outputs": [],
   "source": [
    "def filter_common_efo_terms(df):\n",
    "    efo = df['MAPPED_TRAIT_URI'].dropna().str.split(' *, *').apply(lambda x: sorted(x)[0].split('/')[-1])\n",
    "    efo_shared = efo.isin(shared_diseases)\n",
    "    return df.dropna(subset=['MAPPED_TRAIT_URI']).loc[efo_shared]"
   ]
  },
  {
   "cell_type": "code",
   "execution_count": null,
   "metadata": {},
   "outputs": [],
   "source": [
    "df_gwashist['dataframe_sub'] = df_gwashist['dataframe'].apply(filter_common_efo_terms)"
   ]
  },
  {
   "cell_type": "code",
   "execution_count": null,
   "metadata": {},
   "outputs": [],
   "source": [
    "print(df_gwashist.iloc[0].dataframe.shape)\n",
    "print(df_gwashist.iloc[0].dataframe_sub.shape)"
   ]
  },
  {
   "cell_type": "markdown",
   "metadata": {},
   "source": [
    "## Plot size development"
   ]
  },
  {
   "cell_type": "code",
   "execution_count": null,
   "metadata": {},
   "outputs": [],
   "source": [
    "#df_gwashist['size'] = df_gwashist['dataframe'].apply(lambda x: x.shape[0])\n",
    "#df_gwashist['snp_num'] = df_gwashist['dataframe'].apply(lambda x: x['SNP_ID_CURRENT'].unique().size)\n",
    "\n",
    "df_gwashist['size'] = df_gwashist['dataframe_sub'].apply(lambda x: x.shape[0])\n",
    "df_gwashist['snp_num'] = df_gwashist['dataframe_sub'].apply(lambda x: x['SNP_ID_CURRENT'].unique().size)"
   ]
  },
  {
   "cell_type": "code",
   "execution_count": null,
   "metadata": {},
   "outputs": [],
   "source": [
    "plt.figure(figsize=(8,6))\n",
    "\n",
    "df_gwashist['size'].plot(label='#total entries (rows)')\n",
    "df_gwashist['snp_num'].plot(label='#unique SNPs')\n",
    "plt.xlabel('Release date')\n",
    "plt.ylabel('GWAS-Catalog size [#entries]')\n",
    "\n",
    "plt.legend(loc='best')\n",
    "\n",
    "plt.tight_layout()\n",
    "plt.savefig(f'{images_dir}/gwas_history.pdf')"
   ]
  }
 ],
 "metadata": {
  "kernelspec": {
   "display_name": "Python 3",
   "language": "python",
   "name": "python3"
  },
  "language_info": {
   "codemirror_mode": {
    "name": "ipython",
    "version": 3
   },
   "file_extension": ".py",
   "mimetype": "text/x-python",
   "name": "python",
   "nbconvert_exporter": "python",
   "pygments_lexer": "ipython3",
   "version": "3.7.0"
  }
 },
 "nbformat": 4,
 "nbformat_minor": 2
}

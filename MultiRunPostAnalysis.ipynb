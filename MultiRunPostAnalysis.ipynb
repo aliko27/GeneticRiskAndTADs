{
 "cells": [
  {
   "cell_type": "code",
   "execution_count": null,
   "metadata": {},
   "outputs": [],
   "source": [
    "import os\n",
    "\n",
    "import numpy as np\n",
    "import pandas as pd\n",
    "\n",
    "import seaborn as sns\n",
    "import matplotlib.pyplot as plt\n",
    "\n",
    "from bioinf_common.plotting import annotated_barplot"
   ]
  },
  {
   "cell_type": "code",
   "execution_count": null,
   "metadata": {},
   "outputs": [],
   "source": [
    "sns.set_context('talk')"
   ]
  },
  {
   "cell_type": "markdown",
   "metadata": {},
   "source": [
    "# Load data"
   ]
  },
  {
   "cell_type": "code",
   "execution_count": null,
   "metadata": {},
   "outputs": [],
   "source": [
    "target_dir = 'aggregated_results/pipeline_run/results/'\n",
    "snpdb_fname = 'aggregated_results/pipeline_run/results/snpdb_enhanced__input_files+tad_coordinates:data_tads_hESC_hg19_with_ids.csv;git_branch:master.tsv'"
   ]
  },
  {
   "cell_type": "markdown",
   "metadata": {},
   "source": [
    "## Enrichment data"
   ]
  },
  {
   "cell_type": "code",
   "execution_count": null,
   "metadata": {},
   "outputs": [],
   "source": [
    "df_list = []\n",
    "for entry in os.scandir(target_dir):\n",
    "    if not entry.name.startswith('TAD_enrichment__'):\n",
    "        continue\n",
    "\n",
    "    inp, _ = entry.name.split('__')[-1].split(';')\n",
    "    data_source = inp.split(':')[1].split('.')[0]\n",
    "    data_source = data_source[len('data_'):]  # cut off common prefix\n",
    "    \n",
    "    tmp = pd.read_csv(entry.path)\n",
    "    tmp['data_source'] = data_source\n",
    "    df_list.append(tmp)\n",
    "    \n",
    "    print(data_source, tmp.shape)\n",
    "    \n",
    "df = pd.concat(df_list)"
   ]
  },
  {
   "cell_type": "markdown",
   "metadata": {},
   "source": [
    "## Identify cancer diseases"
   ]
  },
  {
   "cell_type": "code",
   "execution_count": null,
   "metadata": {},
   "outputs": [],
   "source": [
    "df_snpdb = pd.read_table(snpdb_fname)\n",
    "\n",
    "iscancer_map = df_snpdb[['diseaseId', 'is_cancer']].set_index('diseaseId').to_dict()['is_cancer']\n",
    "df['is_cancer'] = df['disease'].map(iscancer_map)"
   ]
  },
  {
   "cell_type": "markdown",
   "metadata": {},
   "source": [
    "## Data overview"
   ]
  },
  {
   "cell_type": "code",
   "execution_count": null,
   "metadata": {},
   "outputs": [],
   "source": [
    "df.head()"
   ]
  },
  {
   "cell_type": "markdown",
   "metadata": {},
   "source": [
    "# Define signal measure"
   ]
  },
  {
   "cell_type": "code",
   "execution_count": null,
   "metadata": {},
   "outputs": [],
   "source": [
    "def signal_measure(df):\n",
    "    tmp = df.copy()\n",
    "    tmp = tmp[tmp['TAD_type'] == '20in']\n",
    "    tmp.loc[tmp.pval_boundary==0, 'pval_boundary'] = 1e-16\n",
    "\n",
    "    tmp['pval_boundary_neglog'] = tmp['pval_boundary'].apply(lambda x: -np.log10(x))\n",
    "    tmp.loc[tmp['pval_boundary'] > 0.05, 'pval_boundary_neglog'] = 0\n",
    "\n",
    "    cancer_signal = tmp.loc[tmp['is_cancer'], 'pval_boundary_neglog'].mean()\n",
    "    noncancer_signal = tmp.loc[~tmp['is_cancer'], 'pval_boundary_neglog'].mean()\n",
    "\n",
    "    print(df['data_source'].iloc[0], cancer_signal, noncancer_signal, cancer_signal / noncancer_signal)\n",
    "    return cancer_signal / noncancer_signal"
   ]
  },
  {
   "cell_type": "markdown",
   "metadata": {},
   "source": [
    "# Apply measure"
   ]
  },
  {
   "cell_type": "code",
   "execution_count": null,
   "metadata": {},
   "outputs": [],
   "source": [
    "signal_data = []\n",
    "for data_source, group in df.groupby('data_source'):\n",
    "    m = signal_measure(group)\n",
    "    signal_data.append({\n",
    "        'data_source': data_source,\n",
    "        'signal': m\n",
    "    })\n",
    "df_signal = pd.DataFrame(signal_data)"
   ]
  },
  {
   "cell_type": "code",
   "execution_count": null,
   "metadata": {},
   "outputs": [],
   "source": [
    "df_signal.head()"
   ]
  },
  {
   "cell_type": "markdown",
   "metadata": {},
   "source": [
    "# Visualize result"
   ]
  },
  {
   "cell_type": "code",
   "execution_count": null,
   "metadata": {},
   "outputs": [],
   "source": [
    "plt.figure(figsize=(18,12))\n",
    "g = annotated_barplot(\n",
    "    x='data_source', y='signal', data=df_signal, \n",
    "    color=sns.color_palette()[0],\n",
    "    anno_kws=dict(label_offset=10))\n",
    "\n",
    "plt.xticks(rotation=90)\n",
    "plt.ylabel(r'$\\frac{\\langle-\\log_{10}(p_{cancer,boundary_{20in}})\\rangle}{\\langle-\\log_{10}(p_{noncancer,boundary_{20in}})\\rangle}$')\n",
    "\n",
    "plt.tight_layout()\n",
    "plt.savefig('images/signal_vs_datasource.pdf')"
   ]
  }
 ],
 "metadata": {
  "kernelspec": {
   "display_name": "Python 3",
   "language": "python",
   "name": "python3"
  },
  "language_info": {
   "codemirror_mode": {
    "name": "ipython",
    "version": 3
   },
   "file_extension": ".py",
   "mimetype": "text/x-python",
   "name": "python",
   "nbconvert_exporter": "python",
   "pygments_lexer": "ipython3",
   "version": "3.7.2"
  }
 },
 "nbformat": 4,
 "nbformat_minor": 2
}

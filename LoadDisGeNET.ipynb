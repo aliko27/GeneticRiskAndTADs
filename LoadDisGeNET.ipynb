{
 "cells": [
  {
   "cell_type": "code",
   "execution_count": null,
   "metadata": {},
   "outputs": [],
   "source": [
    "import os\n",
    "import sys\n",
    "import urllib\n",
    "import tempfile\n",
    "\n",
    "import pandas as pd\n",
    "import networkx as nx\n",
    "\n",
    "from bs4 import BeautifulSoup\n",
    "\n",
    "from tqdm import tqdm_notebook as tqdm"
   ]
  },
  {
   "cell_type": "markdown",
   "metadata": {},
   "source": [
    "## Load data"
   ]
  },
  {
   "cell_type": "code",
   "execution_count": null,
   "metadata": {},
   "outputs": [],
   "source": [
    "df = pd.read_table(\n",
    "    'data/curated_variant_disease_associations.tsv.gz',\n",
    "    usecols=['snpId','diseaseId','diseaseName','source'])\n",
    "df.rename(columns={'diseaseId': 'UMLS_CUI'}, inplace=True)"
   ]
  },
  {
   "cell_type": "code",
   "execution_count": null,
   "metadata": {},
   "outputs": [],
   "source": [
    "df.head()"
   ]
  },
  {
   "cell_type": "markdown",
   "metadata": {},
   "source": [
    "## Disease ontology"
   ]
  },
  {
   "cell_type": "markdown",
   "metadata": {},
   "source": [
    "### Load data"
   ]
  },
  {
   "cell_type": "code",
   "execution_count": null,
   "metadata": {},
   "outputs": [],
   "source": [
    "#g = onto2nx.parse_owl_rdf('data/doid.owl')\n",
    "#nx.write_edgelist(g, 'results/doid_graph.edgelist.gz')\n",
    "doid_graph = nx.read_edgelist('results/doid_graph.edgelist.gz', create_using=nx.DiGraph()).reverse()\n",
    "print(nx.info(doid_graph))"
   ]
  },
  {
   "cell_type": "code",
   "execution_count": null,
   "metadata": {},
   "outputs": [],
   "source": [
    "with open('data/doid.owl') as fd:\n",
    "    soup = BeautifulSoup(fd, 'xml')"
   ]
  },
  {
   "cell_type": "code",
   "execution_count": null,
   "metadata": {},
   "outputs": [],
   "source": [
    "node_owl_data = {}\n",
    "\n",
    "for entry in tqdm(soup.find_all('Class')):\n",
    "    doid = entry['rdf:about'].split('/')[-1]\n",
    "    \n",
    "    # get label\n",
    "    lbl = entry.find('rdfs:label').get_text()\n",
    "    \n",
    "    # get UMLS_CUI terms\n",
    "    terms = []\n",
    "    for xref in entry.find_all('oboInOwl:hasDbXref'):\n",
    "        txt = xref.get_text()\n",
    "        if txt.startswith('UMLS_CUI:'):\n",
    "            cui = txt.split(':')[-1]\n",
    "            terms.append(cui)\n",
    "    \n",
    "    assert doid not in node_owl_data\n",
    "    node_owl_data[doid] = {\n",
    "        'label': lbl,\n",
    "        'UMLS_CUI': terms\n",
    "    }\n",
    "    \n",
    "nx.set_node_attributes(doid_graph, node_owl_data)"
   ]
  },
  {
   "cell_type": "code",
   "execution_count": null,
   "metadata": {},
   "outputs": [],
   "source": [
    "# check out exemplary node (cancer)\n",
    "doid_data = dict(doid_graph.nodes(data=True))\n",
    "\n",
    "doid_data['DOID_162']"
   ]
  },
  {
   "cell_type": "code",
   "execution_count": null,
   "metadata": {},
   "outputs": [],
   "source": [
    "data_cui = []\n",
    "for node, data in tqdm(doid_data.items()):\n",
    "    for term in data['UMLS_CUI']:\n",
    "        data_cui.append((node, data['label'], term))\n",
    "\n",
    "df_cui = pd.DataFrame(data_cui, columns=['DOID','DO_label','UMLS_CUI'])\n",
    "df_cui.head()"
   ]
  },
  {
   "cell_type": "markdown",
   "metadata": {},
   "source": [
    "### Find cancer subtree"
   ]
  },
  {
   "cell_type": "code",
   "execution_count": null,
   "metadata": {},
   "outputs": [],
   "source": [
    "cancer_nodes = nx.descendants(doid_graph, 'DOID_162')\n",
    "\n",
    "data_cancer = []\n",
    "for n in cancer_nodes:\n",
    "    data_cancer.append((n, True))\n",
    "for n in (doid_graph.nodes() - cancer_nodes):\n",
    "    data_cancer.append((n, False))\n",
    "    \n",
    "df_iscancer = pd.DataFrame(data_cancer, columns=['DOID','is_cancer'])\n",
    "df_iscancer.head()"
   ]
  },
  {
   "cell_type": "markdown",
   "metadata": {},
   "source": [
    "### Merge data sources"
   ]
  },
  {
   "cell_type": "code",
   "execution_count": null,
   "metadata": {},
   "outputs": [],
   "source": [
    "print('Nodes in doid.owl:', len(doid_data))\n",
    "print('Nodes with UMLS_CUI:', df_cui.DOID.unique().size)\n",
    "print('(Non)cancer nodes (should be all):', df_iscancer.DOID.unique().size)"
   ]
  },
  {
   "cell_type": "code",
   "execution_count": null,
   "metadata": {},
   "outputs": [],
   "source": [
    "df_onto = df_cui.merge(df_iscancer, on='DOID')\n",
    "\n",
    "print(df_onto.shape)\n",
    "df_onto.head()"
   ]
  },
  {
   "cell_type": "markdown",
   "metadata": {},
   "source": [
    "## Load SNP positions"
   ]
  },
  {
   "cell_type": "code",
   "execution_count": null,
   "metadata": {},
   "outputs": [],
   "source": [
    "df_snppos = pd.read_table(\n",
    "    'data/all_variant_disease_pmid_associations.tsv.gz', usecols=['snpId','chromosome','position'])\n",
    "df_snppos.drop_duplicates(inplace=True)"
   ]
  },
  {
   "cell_type": "code",
   "execution_count": null,
   "metadata": {},
   "outputs": [],
   "source": [
    "df_snppos.head()"
   ]
  },
  {
   "cell_type": "markdown",
   "metadata": {},
   "source": [
    "## Merge into DisGeNET"
   ]
  },
  {
   "cell_type": "code",
   "execution_count": null,
   "metadata": {},
   "outputs": [],
   "source": [
    "df_final = df.copy()\n",
    "df.shape"
   ]
  },
  {
   "cell_type": "code",
   "execution_count": null,
   "metadata": {},
   "outputs": [],
   "source": [
    "df_final = df_final.merge(df_onto, on='UMLS_CUI')\n",
    "df_final.shape"
   ]
  },
  {
   "cell_type": "code",
   "execution_count": null,
   "metadata": {},
   "outputs": [],
   "source": [
    "df_final = df_final.merge(df_snppos, on='snpId')\n",
    "df_final.shape"
   ]
  },
  {
   "cell_type": "code",
   "execution_count": null,
   "metadata": {},
   "outputs": [],
   "source": [
    "df_final.to_csv('results/disgenet_enhanced.tsv', sep='\\t', index=False)\n",
    "df_final.head()"
   ]
  }
 ],
 "metadata": {
  "kernelspec": {
   "display_name": "Python 3",
   "language": "python",
   "name": "python3"
  },
  "language_info": {
   "codemirror_mode": {
    "name": "ipython",
    "version": 3
   },
   "file_extension": ".py",
   "mimetype": "text/x-python",
   "name": "python",
   "nbconvert_exporter": "python",
   "pygments_lexer": "ipython3",
   "version": "3.6.3"
  }
 },
 "nbformat": 4,
 "nbformat_minor": 2
}

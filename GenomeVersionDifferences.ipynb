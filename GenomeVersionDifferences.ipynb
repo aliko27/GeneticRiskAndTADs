{
 "cells": [
  {
   "cell_type": "markdown",
   "metadata": {},
   "source": [
    "# Goal\n",
    "\n",
    "Investigate whether cancer associated TAD-Borders fall into genomic regions which \"strongly\" vary between hg19 and hg38."
   ]
  },
  {
   "cell_type": "code",
   "execution_count": null,
   "metadata": {},
   "outputs": [],
   "source": [
    "import os\n",
    "\n",
    "import numpy as np\n",
    "import pandas as pd\n",
    "\n",
    "import pyranges as pr\n",
    "\n",
    "import seaborn as sns\n",
    "import matplotlib.pyplot as plt\n",
    "\n",
    "from tqdm.auto import tqdm"
   ]
  },
  {
   "cell_type": "code",
   "execution_count": null,
   "metadata": {},
   "outputs": [],
   "source": [
    "sns.set_context('talk')"
   ]
  },
  {
   "cell_type": "markdown",
   "metadata": {},
   "source": [
    "# Load data"
   ]
  },
  {
   "cell_type": "markdown",
   "metadata": {},
   "source": [
    "## SNP data"
   ]
  },
  {
   "cell_type": "code",
   "execution_count": null,
   "metadata": {},
   "outputs": [],
   "source": [
    "source_dir = 'MY_RUN/agg_both/pipeline_run/results/'"
   ]
  },
  {
   "cell_type": "code",
   "execution_count": null,
   "metadata": {},
   "outputs": [],
   "source": [
    "df_final_hg38 = pd.read_csv(os.path.join(source_dir, 'final.do_further_investigations=False,input_files+tad_coordinates=data_newleopoldtads_dixon_ES_40k_hg38_10.csv.csv'))\n",
    "df_final_hg38.head()"
   ]
  },
  {
   "cell_type": "code",
   "execution_count": null,
   "metadata": {},
   "outputs": [],
   "source": [
    "sub = df_final_hg38.loc[\n",
    "    (df_final_hg38['TAD_type'] == '20in') & df_final_hg38['is_cancer'],\n",
    "    ['snpId', 'chromosome', 'position']\n",
    "].rename(columns={'chromosome': 'Chromosome', 'position': 'Start'})\n",
    "sub['End'] = sub['Start'] + 1\n",
    "\n",
    "sub.drop_duplicates('snpId', inplace=True)\n",
    "\n",
    "gr_snps = pr.PyRanges(sub)\n",
    "gr_snps"
   ]
  },
  {
   "cell_type": "markdown",
   "metadata": {},
   "source": [
    "## TADs"
   ]
  },
  {
   "cell_type": "code",
   "execution_count": null,
   "metadata": {},
   "outputs": [],
   "source": [
    "df_tads = pd.read_csv(os.path.join(source_dir, 'tads_hg38.do_further_investigations=False,input_files+tad_coordinates=data_newleopoldtads_dixon_ES_40k_hg38_10.csv.tsv'), sep='\\t')\n",
    "df_tads.head()"
   ]
  },
  {
   "cell_type": "code",
   "execution_count": null,
   "metadata": {},
   "outputs": [],
   "source": [
    "border_size = 20_000\n",
    "\n",
    "tmp = (df_tads.reset_index()\n",
    "              .rename(columns={'index': 'tad_idx'}))\n",
    "\n",
    "foo = []\n",
    "for row in tqdm(tmp.itertuples(), total=tmp.shape[0]):\n",
    "    foo.extend([\n",
    "        {\n",
    "            'Start': row.tad_start,\n",
    "            'End': row.tad_start + border_size,\n",
    "            'border_side': 'left',\n",
    "            **row._asdict()\n",
    "        },\n",
    "        {\n",
    "            'Start': row.tad_stop - border_size,\n",
    "            'End': row.tad_stop,\n",
    "            'border_side': 'right',\n",
    "            **row._asdict()\n",
    "        }\n",
    "    ])\n",
    "\n",
    "df_tad_borders = pd.DataFrame(foo).rename(columns={'chrname': 'Chromosome'})\n",
    "df_tad_borders['Chromosome'] = df_tad_borders['Chromosome'].str[3:]  # remove 'chr' prefix\n",
    "df_tad_borders['border_idx'] = df_tad_borders['tad_idx'].map(str) + '_' + df_tad_borders['border_side']\n",
    "df_tad_borders.head()"
   ]
  },
  {
   "cell_type": "code",
   "execution_count": null,
   "metadata": {},
   "outputs": [],
   "source": [
    "gr_borders = pr.PyRanges(df_tad_borders)\n",
    "gr_borders"
   ]
  },
  {
   "cell_type": "markdown",
   "metadata": {},
   "source": [
    "## Genome differences"
   ]
  },
  {
   "cell_type": "code",
   "execution_count": null,
   "metadata": {},
   "outputs": [],
   "source": [
    "df_contigs = pd.read_csv(\n",
    "    'data/hg38ContigDiff.txt', sep='\\t', \n",
    "    header=None, names=['bin', 'chrom', 'chromStart', 'chromEnd', 'name', 'score', 'strand', 'thickStart', 'thickEnd', 'itemRgb'])\n",
    "\n",
    "df_contigs.rename(columns={\n",
    "    'chrom': 'Chromosome',\n",
    "    'chromStart': 'Start', 'chromEnd': 'End',\n",
    "    'strand': 'Strand'\n",
    "}, inplace=True)\n",
    "\n",
    "df_contigs['Chromosome'] = df_contigs['Chromosome'].str[3:]  # remove 'chr' prefix\n",
    "\n",
    "df_contigs.head()"
   ]
  },
  {
   "cell_type": "code",
   "execution_count": null,
   "metadata": {},
   "outputs": [],
   "source": [
    "gr_contigs = pr.PyRanges(df_contigs)#.unstrand()\n",
    "#gr_contigs = gr_contigs.subset(lambda df: df['score'] == 0)\n",
    "gr_contigs"
   ]
  },
  {
   "cell_type": "markdown",
   "metadata": {},
   "source": [
    "# Find SNP/TAD-Border overlaps"
   ]
  },
  {
   "cell_type": "code",
   "execution_count": null,
   "metadata": {},
   "outputs": [],
   "source": [
    "overlap = gr_borders.join(gr_snps, strandedness=False, suffix='_snp')\n",
    "overlap.df.head()"
   ]
  },
  {
   "cell_type": "code",
   "execution_count": null,
   "metadata": {},
   "outputs": [],
   "source": [
    "overlap_counts = (overlap.df\n",
    "                         .groupby('border_idx')['snpId']\n",
    "                         .count()\n",
    "                         .sort_values(ascending=False))\n",
    "overlap_counts.head(10)"
   ]
  },
  {
   "cell_type": "code",
   "execution_count": null,
   "metadata": {},
   "outputs": [],
   "source": [
    "selected_tad_borders = overlap_counts.index  # overlap_counts.nlargest(5).index\n",
    "selected_tad_borders"
   ]
  },
  {
   "cell_type": "code",
   "execution_count": null,
   "metadata": {},
   "outputs": [],
   "source": [
    "gr_selected_borders = gr_borders.subset(lambda df: df.border_idx.isin(selected_tad_borders))\n",
    "gr_selected_borders"
   ]
  },
  {
   "cell_type": "markdown",
   "metadata": {},
   "source": [
    "# Find TAD-Border/hg38DiffContig overlaps"
   ]
  },
  {
   "cell_type": "markdown",
   "metadata": {},
   "source": [
    "## True"
   ]
  },
  {
   "cell_type": "code",
   "execution_count": null,
   "metadata": {},
   "outputs": [],
   "source": [
    "gr_overlap = gr_contigs.join(gr_selected_borders, strandedness=False, suffix='_tadborder')\n",
    "gr_overlap"
   ]
  },
  {
   "cell_type": "markdown",
   "metadata": {},
   "source": [
    "## Random"
   ]
  },
  {
   "cell_type": "code",
   "execution_count": null,
   "metadata": {},
   "outputs": [],
   "source": [
    "nonselected_borders = list(set(df_tad_borders['border_idx'].to_list()) - set(selected_tad_borders))\n",
    "len(nonselected_borders)"
   ]
  },
  {
   "cell_type": "code",
   "execution_count": null,
   "metadata": {},
   "outputs": [],
   "source": [
    "random_tad_borders = np.random.choice(nonselected_borders, size=len(selected_tad_borders))\n",
    "random_tad_borders"
   ]
  },
  {
   "cell_type": "code",
   "execution_count": null,
   "metadata": {},
   "outputs": [],
   "source": [
    "gr_random_borders = gr_borders.subset(lambda df: df.border_idx.isin(random_tad_borders))\n",
    "gr_random_borders"
   ]
  },
  {
   "cell_type": "code",
   "execution_count": null,
   "metadata": {},
   "outputs": [],
   "source": [
    "gr_overlap_random = gr_contigs.join(gr_random_borders, strandedness=False, suffix='_tadborder')\n",
    "gr_overlap_random"
   ]
  },
  {
   "cell_type": "markdown",
   "metadata": {},
   "source": [
    "# Merge counts"
   ]
  },
  {
   "cell_type": "code",
   "execution_count": null,
   "metadata": {},
   "outputs": [],
   "source": [
    "selected_counts = gr_overlap.df.groupby('border_idx')['name'].count()\n",
    "selected_counts = selected_counts.reindex(selected_tad_borders).fillna(0)"
   ]
  },
  {
   "cell_type": "code",
   "execution_count": null,
   "metadata": {},
   "outputs": [],
   "source": [
    "random_counts = gr_overlap_random.df.groupby('border_idx')['name'].count()\n",
    "random_counts = random_counts.reindex(random_tad_borders).fillna(0)"
   ]
  },
  {
   "cell_type": "code",
   "execution_count": null,
   "metadata": {},
   "outputs": [],
   "source": [
    "df_data = pd.DataFrame({\n",
    "    'cancer': selected_counts.reset_index(drop=True),\n",
    "    'random': random_counts.reset_index(drop=True)\n",
    "})\n",
    "df_long = pd.melt(df_data)\n",
    "df_long.sample(5)"
   ]
  },
  {
   "cell_type": "code",
   "execution_count": null,
   "metadata": {},
   "outputs": [],
   "source": [
    "df_data.head()"
   ]
  },
  {
   "cell_type": "markdown",
   "metadata": {},
   "source": [
    "# Plot comparison"
   ]
  },
  {
   "cell_type": "code",
   "execution_count": null,
   "metadata": {},
   "outputs": [],
   "source": [
    "plt.figure(figsize=(8, 6))\n",
    "sns.violinplot(x='variable', y='value', data=df_long)\n",
    "sns.swarmplot(x='variable', y='value', data=df_long, color='red')\n",
    "\n",
    "plt.xlabel('TAD-Border selection')\n",
    "plt.ylabel('hg38DiffContig overlap count')\n",
    "\n",
    "plt.tight_layout()\n",
    "plt.savefig('images/hg38DiffContig_overlap.pdf')"
   ]
  }
 ],
 "metadata": {
  "kernelspec": {
   "display_name": "Python 3",
   "language": "python",
   "name": "python3"
  },
  "language_info": {
   "codemirror_mode": {
    "name": "ipython",
    "version": 3
   },
   "file_extension": ".py",
   "mimetype": "text/x-python",
   "name": "python",
   "nbconvert_exporter": "python",
   "pygments_lexer": "ipython3",
   "version": "3.7.3"
  },
  "toc-autonumbering": true
 },
 "nbformat": 4,
 "nbformat_minor": 2
}

{
 "cells": [
  {
   "cell_type": "code",
   "execution_count": null,
   "metadata": {},
   "outputs": [],
   "source": [
    "%matplotlib inline\n",
    "\n",
    "%load_ext autoreload\n",
    "%autoreload 2"
   ]
  },
  {
   "cell_type": "code",
   "execution_count": null,
   "metadata": {},
   "outputs": [],
   "source": [
    "import pandas as pd\n",
    "import networkx as nx\n",
    "\n",
    "import seaborn as sns\n",
    "import matplotlib.pyplot as plt\n",
    "\n",
    "from tqdm import tqdm_notebook as tqdm\n",
    "\n",
    "from data_reader import *\n",
    "from measures import *"
   ]
  },
  {
   "cell_type": "code",
   "execution_count": null,
   "metadata": {},
   "outputs": [],
   "source": [
    "pd.set_option('display.max_columns', None)\n",
    "\n",
    "# fix lock.acquire() stalling of tqdm_notebook\n",
    "from tqdm import tqdm as tqdm_orig\n",
    "tqdm_orig.get_lock().locks = []"
   ]
  },
  {
   "cell_type": "markdown",
   "metadata": {},
   "source": [
    "## Load data"
   ]
  },
  {
   "cell_type": "code",
   "execution_count": null,
   "metadata": {},
   "outputs": [],
   "source": [
    "df_gwas = load_gwas()\n",
    "ppi_graph, df_ppi = load_biogrid()\n",
    "\n",
    "df_snps = load_snp_data()"
   ]
  },
  {
   "cell_type": "code",
   "execution_count": null,
   "metadata": {},
   "outputs": [],
   "source": [
    "# get SNP gene ENTRZ id map\n",
    "sub = df_gwas[['SNP_ID_CURRENT','SNP_GENE_IDS']].copy()\n",
    "sub['SNP_ID_CURRENT'] = 'rs' + sub['SNP_ID_CURRENT']\n",
    "sub['GENE_ENTREZ'] = sub['SNP_GENE_IDS'].str.split(',').str[0]\n",
    "\n",
    "snp_gene_map = sub.set_index('SNP_ID_CURRENT').dropna().to_dict()['GENE_ENTREZ']\n",
    "\n",
    "entrez = df_snps['SNP_name'].map(snp_gene_map)\n",
    "df_snps['Gene_entrez'] = pd.to_numeric(entrez, errors='coerce')"
   ]
  },
  {
   "cell_type": "markdown",
   "metadata": {},
   "source": [
    "## Check SNP data"
   ]
  },
  {
   "cell_type": "code",
   "execution_count": null,
   "metadata": {},
   "outputs": [],
   "source": [
    "df_snps.head()"
   ]
  },
  {
   "cell_type": "markdown",
   "metadata": {},
   "source": [
    "## Check network coherence"
   ]
  },
  {
   "cell_type": "code",
   "execution_count": null,
   "metadata": {},
   "outputs": [],
   "source": [
    "graph = nx.Graph()\n",
    "graph.add_edges_from([(1,2),(2,3),(3,4)])"
   ]
  },
  {
   "cell_type": "code",
   "execution_count": null,
   "metadata": {},
   "outputs": [],
   "source": [
    "for ns in [(1,2),(1,3), (1,2,4)]:\n",
    "    print(ns, get_fraction_of_nonisolated_nodes(ns, graph), compute_network_coherence(graph, ns))"
   ]
  },
  {
   "cell_type": "markdown",
   "metadata": {},
   "source": [
    "## Compute per-disease network coherences"
   ]
  },
  {
   "cell_type": "code",
   "execution_count": null,
   "metadata": {},
   "outputs": [],
   "source": [
    "ppi_genes = set(ppi_graph.nodes())\n",
    "snp_genes = set(df_snps['Gene_entrez'].unique())\n",
    "snps = set(df_snps['SNP_name'].unique())\n",
    "\n",
    "print('PPI genes:', len(ppi_genes))\n",
    "print('SNP genes:', len(snp_genes))\n",
    "print('SNPs:', len(snps))\n",
    "print('PPI/SNP gene overlap:', len(ppi_genes & snp_genes))"
   ]
  },
  {
   "cell_type": "code",
   "execution_count": null,
   "metadata": {},
   "outputs": [],
   "source": [
    "def compute_nc(sub_df):\n",
    "    nc_data = []\n",
    "\n",
    "    # must be (non)cancer/(non)tad only\n",
    "    assert len(sub_df.is_cancer.unique()) == 1\n",
    "    is_cancer = sub_df.is_cancer.iloc[0]\n",
    "    assert len(sub_df.is_tad.unique()) == 1\n",
    "    is_tad = sub_df.is_tad.iloc[0]\n",
    "    \n",
    "    # compute network coherences\n",
    "    ppi_nodes = ppi_graph.nodes()\n",
    "    for term, group in tqdm(sub_df.groupby('EFO_term')):\n",
    "        genes = set(group['Gene_entrez'].unique())\n",
    "        genes_in_ppi = genes & ppi_nodes\n",
    "\n",
    "        if len(genes_in_ppi) > 0:\n",
    "            nc = compute_network_coherence(ppi_graph, genes_in_ppi)\n",
    "        else:\n",
    "            nc = np.nan\n",
    "\n",
    "        nc_data.append((term, nc, len(genes_in_ppi), len(genes)))\n",
    "\n",
    "    df_nc = pd.DataFrame(nc_data, columns=['EFO_term', 'network_coherence', 'ppi_gene_num', 'total_gene_num'])\n",
    "    df_nc['is_cancer'] = is_cancer\n",
    "    df_nc['is_tad'] = is_tad\n",
    "    return df_nc"
   ]
  },
  {
   "cell_type": "code",
   "execution_count": null,
   "metadata": {},
   "outputs": [],
   "source": [
    "df_nc_cancer_tad = compute_nc(df_snps[df_snps.is_cancer & df_snps.is_tad])\n",
    "df_nc_cancer_notad = compute_nc(df_snps[df_snps.is_cancer & ~df_snps.is_tad])\n",
    "df_nc_nocancer_tad = compute_nc(df_snps[~df_snps.is_cancer & df_snps.is_tad])\n",
    "df_nc_nocancer_notad = compute_nc(df_snps[~df_snps.is_cancer & ~df_snps.is_tad])\n",
    "\n",
    "df_nc = pd.concat([df_nc_cancer_tad, df_nc_cancer_notad, df_nc_nocancer_tad, df_nc_nocancer_notad], axis=0)"
   ]
  },
  {
   "cell_type": "code",
   "execution_count": null,
   "metadata": {},
   "outputs": [],
   "source": [
    "df_nc.head()"
   ]
  },
  {
   "cell_type": "markdown",
   "metadata": {},
   "source": [
    "## Plot result"
   ]
  },
  {
   "cell_type": "code",
   "execution_count": null,
   "metadata": {},
   "outputs": [],
   "source": [
    "sns.boxplot(x='is_cancer', y='network_coherence', data=df_nc, hue='is_tad')\n",
    "plt.tight_layout()\n",
    "plt.savefig('images/nc_cancer_tad.pdf')"
   ]
  },
  {
   "cell_type": "code",
   "execution_count": null,
   "metadata": {},
   "outputs": [],
   "source": [
    "sns.boxplot(x='is_cancer', y='total_gene_num', data=df_nc, hue='is_tad')\n",
    "plt.tight_layout()\n",
    "plt.savefig('images/genenum_cancer_tad.pdf')"
   ]
  }
 ],
 "metadata": {
  "kernelspec": {
   "display_name": "Python 3",
   "language": "python",
   "name": "python3"
  },
  "language_info": {
   "codemirror_mode": {
    "name": "ipython",
    "version": 3
   },
   "file_extension": ".py",
   "mimetype": "text/x-python",
   "name": "python",
   "nbconvert_exporter": "python",
   "pygments_lexer": "ipython3",
   "version": "3.6.3"
  }
 },
 "nbformat": 4,
 "nbformat_minor": 2
}

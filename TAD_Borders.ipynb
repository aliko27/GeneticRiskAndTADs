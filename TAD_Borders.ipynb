{
 "cells": [
  {
   "cell_type": "code",
   "execution_count": 1,
   "metadata": {},
   "outputs": [],
   "source": [
    "%matplotlib inline\n",
    "\n",
    "%load_ext autoreload\n",
    "%autoreload 2"
   ]
  },
  {
   "cell_type": "code",
   "execution_count": 63,
   "metadata": {},
   "outputs": [],
   "source": [
    "import pandas as pd\n",
    "import networkx as nx\n",
    "\n",
    "import seaborn as sns\n",
    "import matplotlib.pyplot as plt\n",
    "\n",
    "from tqdm import tqdm_notebook as tqdm\n",
    "\n",
    "from data_reader import *\n",
    "from measures import *"
   ]
  },
  {
   "cell_type": "code",
   "execution_count": 3,
   "metadata": {},
   "outputs": [],
   "source": [
    "pd.set_option('display.max_columns', None)\n",
    "\n",
    "# fix lock.acquire() stalling of tqdm_notebook\n",
    "from tqdm import tqdm as tqdm_orig\n",
    "tqdm_orig.get_lock().locks = []"
   ]
  },
  {
   "cell_type": "markdown",
   "metadata": {},
   "source": [
    "## Load data"
   ]
  },
  {
   "cell_type": "code",
   "execution_count": 18,
   "metadata": {},
   "outputs": [],
   "source": [
    "df_gwas = load_gwas()\n",
    "ppi_graph, df_ppi = load_biogrid()\n",
    "\n",
    "df_snps = load_snp_data()"
   ]
  },
  {
   "cell_type": "code",
   "execution_count": 23,
   "metadata": {},
   "outputs": [],
   "source": [
    "# get SNP gene ENTRZ id map\n",
    "sub = df_gwas[['SNP_ID_CURRENT','SNP_GENE_IDS']].copy()\n",
    "sub['SNP_ID_CURRENT'] = 'rs' + sub['SNP_ID_CURRENT']\n",
    "sub['GENE_ENTREZ'] = sub['SNP_GENE_IDS'].str.split(',').str[0]\n",
    "\n",
    "snp_gene_map = sub.set_index('SNP_ID_CURRENT').dropna().to_dict()['GENE_ENTREZ']\n",
    "\n",
    "entrez = df_snps['SNP_name'].map(snp_gene_map)\n",
    "df_snps['Gene_entrez'] = pd.to_numeric(entrez, errors='coerce')"
   ]
  },
  {
   "cell_type": "markdown",
   "metadata": {},
   "source": [
    "## Check SNP data"
   ]
  },
  {
   "cell_type": "code",
   "execution_count": 61,
   "metadata": {
    "scrolled": true
   },
   "outputs": [
    {
     "data": {
      "text/html": [
       "<div>\n",
       "<style>\n",
       "    .dataframe thead tr:only-child th {\n",
       "        text-align: right;\n",
       "    }\n",
       "\n",
       "    .dataframe thead th {\n",
       "        text-align: left;\n",
       "    }\n",
       "\n",
       "    .dataframe tbody tr th {\n",
       "        vertical-align: top;\n",
       "    }\n",
       "</style>\n",
       "<table border=\"1\" class=\"dataframe\">\n",
       "  <thead>\n",
       "    <tr style=\"text-align: right;\">\n",
       "      <th></th>\n",
       "      <th>EFO_term</th>\n",
       "      <th>disease_name</th>\n",
       "      <th>SNP_name</th>\n",
       "      <th>chromosome</th>\n",
       "      <th>position</th>\n",
       "      <th>is_cancer</th>\n",
       "      <th>is_tad</th>\n",
       "      <th>Gene_entrez</th>\n",
       "    </tr>\n",
       "  </thead>\n",
       "  <tbody>\n",
       "    <tr>\n",
       "      <th>0</th>\n",
       "      <td>EFO_0000095</td>\n",
       "      <td>Chronic lymphocytic leukemia</td>\n",
       "      <td>rs11083846</td>\n",
       "      <td>chr19</td>\n",
       "      <td>47207654</td>\n",
       "      <td>True</td>\n",
       "      <td>True</td>\n",
       "      <td>25865.0</td>\n",
       "    </tr>\n",
       "    <tr>\n",
       "      <th>1</th>\n",
       "      <td>EFO_0000095</td>\n",
       "      <td>Chronic lymphocytic leukemia</td>\n",
       "      <td>rs10936599</td>\n",
       "      <td>chr3</td>\n",
       "      <td>169492101</td>\n",
       "      <td>True</td>\n",
       "      <td>True</td>\n",
       "      <td>55892.0</td>\n",
       "    </tr>\n",
       "    <tr>\n",
       "      <th>2</th>\n",
       "      <td>EFO_0000095</td>\n",
       "      <td>Chronic lymphocytic leukemia</td>\n",
       "      <td>rs31490</td>\n",
       "      <td>chr5</td>\n",
       "      <td>1344458</td>\n",
       "      <td>True</td>\n",
       "      <td>True</td>\n",
       "      <td>81037.0</td>\n",
       "    </tr>\n",
       "    <tr>\n",
       "      <th>3</th>\n",
       "      <td>EFO_0000095</td>\n",
       "      <td>Chronic lymphocytic leukemia</td>\n",
       "      <td>rs11636802</td>\n",
       "      <td>chr15</td>\n",
       "      <td>56775597</td>\n",
       "      <td>True</td>\n",
       "      <td>True</td>\n",
       "      <td>105370831.0</td>\n",
       "    </tr>\n",
       "    <tr>\n",
       "      <th>4</th>\n",
       "      <td>EFO_0000095</td>\n",
       "      <td>Chronic lymphocytic leukemia</td>\n",
       "      <td>rs2236256</td>\n",
       "      <td>chr6</td>\n",
       "      <td>154478440</td>\n",
       "      <td>True</td>\n",
       "      <td>True</td>\n",
       "      <td>26034.0</td>\n",
       "    </tr>\n",
       "  </tbody>\n",
       "</table>\n",
       "</div>"
      ],
      "text/plain": [
       "      EFO_term                  disease_name    SNP_name chromosome  \\\n",
       "0  EFO_0000095  Chronic lymphocytic leukemia  rs11083846      chr19   \n",
       "1  EFO_0000095  Chronic lymphocytic leukemia  rs10936599       chr3   \n",
       "2  EFO_0000095  Chronic lymphocytic leukemia     rs31490       chr5   \n",
       "3  EFO_0000095  Chronic lymphocytic leukemia  rs11636802      chr15   \n",
       "4  EFO_0000095  Chronic lymphocytic leukemia   rs2236256       chr6   \n",
       "\n",
       "    position  is_cancer  is_tad  Gene_entrez  \n",
       "0   47207654       True    True      25865.0  \n",
       "1  169492101       True    True      55892.0  \n",
       "2    1344458       True    True      81037.0  \n",
       "3   56775597       True    True  105370831.0  \n",
       "4  154478440       True    True      26034.0  "
      ]
     },
     "execution_count": 61,
     "metadata": {},
     "output_type": "execute_result"
    }
   ],
   "source": [
    "df_snps.head()"
   ]
  },
  {
   "cell_type": "markdown",
   "metadata": {},
   "source": [
    "## Check network coherence"
   ]
  },
  {
   "cell_type": "code",
   "execution_count": 8,
   "metadata": {},
   "outputs": [],
   "source": [
    "graph = nx.Graph()\n",
    "graph.add_edges_from([(1,2),(2,3),(3,4)])"
   ]
  },
  {
   "cell_type": "code",
   "execution_count": 9,
   "metadata": {},
   "outputs": [
    {
     "name": "stdout",
     "output_type": "stream",
     "text": [
      "(1, 2) 1.0 1.0304638131\n",
      "(1, 3) 0.0 -1.01005050379\n",
      "(1, 2, 4) 0.6666666666666666 -0.964625279838\n"
     ]
    }
   ],
   "source": [
    "for ns in [(1,2),(1,3), (1,2,4)]:\n",
    "    print(ns, get_fraction_of_nonisolated_nodes(ns, graph), compute_network_coherence(graph, ns))"
   ]
  },
  {
   "cell_type": "markdown",
   "metadata": {},
   "source": [
    "## Compute per-disease network coherences"
   ]
  },
  {
   "cell_type": "code",
   "execution_count": 29,
   "metadata": {},
   "outputs": [
    {
     "name": "stdout",
     "output_type": "stream",
     "text": [
      "PPI genes: 21065\n",
      "SNP genes: 1498\n",
      "SNPs: 3226\n",
      "PPI/SNP gene overlap: 1038\n"
     ]
    }
   ],
   "source": [
    "ppi_genes = set(ppi_graph.nodes())\n",
    "snp_genes = set(df_snps['Gene_entrez'].unique())\n",
    "snps = set(df_snps['SNP_name'].unique())\n",
    "\n",
    "print('PPI genes:', len(ppi_genes))\n",
    "print('SNP genes:', len(snp_genes))\n",
    "print('SNPs:', len(snps))\n",
    "print('PPI/SNP gene overlap:', len(ppi_genes & snp_genes))"
   ]
  },
  {
   "cell_type": "code",
   "execution_count": 46,
   "metadata": {
    "scrolled": true
   },
   "outputs": [],
   "source": [
    "def compute_nc(sub_df):\n",
    "    nc_data = []\n",
    "\n",
    "    # must be (non)cancer/(non)tad only\n",
    "    assert len(sub_df.is_cancer.unique()) == 1\n",
    "    is_cancer = sub_df.is_cancer.iloc[0]\n",
    "    assert len(sub_df.is_tad.unique()) == 1\n",
    "    is_tad = sub_df.is_tad.iloc[0]\n",
    "    \n",
    "    # compute network coherences\n",
    "    ppi_nodes = ppi_graph.nodes()\n",
    "    for term, group in tqdm(sub_df.groupby('EFO_term')):\n",
    "        genes = set(group['Gene_entrez'].unique())\n",
    "        genes_in_ppi = genes & ppi_nodes\n",
    "\n",
    "        if len(genes_in_ppi) > 0:\n",
    "            nc = compute_network_coherence(ppi_graph, genes_in_ppi)\n",
    "        else:\n",
    "            nc = np.nan\n",
    "\n",
    "        nc_data.append((term, nc, len(genes_in_ppi), len(genes)))\n",
    "\n",
    "    df_nc = pd.DataFrame(nc_data, columns=['EFO_term', 'network_coherence', 'ppi_gene_num', 'total_gene_num'])\n",
    "    df_nc['is_cancer'] = is_cancer\n",
    "    df_nc['is_tad'] = is_tad\n",
    "    return df_nc"
   ]
  },
  {
   "cell_type": "code",
   "execution_count": 59,
   "metadata": {},
   "outputs": [
    {
     "data": {
      "application/vnd.jupyter.widget-view+json": {
       "model_id": "0463cece91e849bb9769cd42a20a12ca",
       "version_major": 2,
       "version_minor": 0
      },
      "text/html": [
       "<p>Failed to display Jupyter Widget of type <code>HBox</code>.</p>\n",
       "<p>\n",
       "  If you're reading this message in Jupyter Notebook or JupyterLab, it may mean\n",
       "  that the widgets JavaScript is still loading. If this message persists, it\n",
       "  likely means that the widgets JavaScript library is either not installed or\n",
       "  not enabled. See the <a href=\"https://ipywidgets.readthedocs.io/en/stable/user_install.html\">Jupyter\n",
       "  Widgets Documentation</a> for setup instructions.\n",
       "</p>\n",
       "<p>\n",
       "  If you're reading this message in another notebook frontend (for example, a static\n",
       "  rendering on GitHub or <a href=\"https://nbviewer.jupyter.org/\">NBViewer</a>),\n",
       "  it may mean that your frontend doesn't currently support widgets.\n",
       "</p>\n"
      ],
      "text/plain": [
       "HBox(children=(IntProgress(value=0, max=12), HTML(value='')))"
      ]
     },
     "metadata": {},
     "output_type": "display_data"
    },
    {
     "name": "stderr",
     "output_type": "stream",
     "text": [
      "Uniform random results, retrying with more iterations (1000 -> 3000)\n"
     ]
    },
    {
     "name": "stdout",
     "output_type": "stream",
     "text": [
      "\n"
     ]
    },
    {
     "data": {
      "application/vnd.jupyter.widget-view+json": {
       "model_id": "20693b8d868c46839662efcc2e8b1792",
       "version_major": 2,
       "version_minor": 0
      },
      "text/html": [
       "<p>Failed to display Jupyter Widget of type <code>HBox</code>.</p>\n",
       "<p>\n",
       "  If you're reading this message in Jupyter Notebook or JupyterLab, it may mean\n",
       "  that the widgets JavaScript is still loading. If this message persists, it\n",
       "  likely means that the widgets JavaScript library is either not installed or\n",
       "  not enabled. See the <a href=\"https://ipywidgets.readthedocs.io/en/stable/user_install.html\">Jupyter\n",
       "  Widgets Documentation</a> for setup instructions.\n",
       "</p>\n",
       "<p>\n",
       "  If you're reading this message in another notebook frontend (for example, a static\n",
       "  rendering on GitHub or <a href=\"https://nbviewer.jupyter.org/\">NBViewer</a>),\n",
       "  it may mean that your frontend doesn't currently support widgets.\n",
       "</p>\n"
      ],
      "text/plain": [
       "HBox(children=(IntProgress(value=0, max=12), HTML(value='')))"
      ]
     },
     "metadata": {},
     "output_type": "display_data"
    },
    {
     "name": "stdout",
     "output_type": "stream",
     "text": [
      "\n"
     ]
    },
    {
     "data": {
      "application/vnd.jupyter.widget-view+json": {
       "model_id": "5fbba8f9a71f4992aaa33d8b03f805bd",
       "version_major": 2,
       "version_minor": 0
      },
      "text/html": [
       "<p>Failed to display Jupyter Widget of type <code>HBox</code>.</p>\n",
       "<p>\n",
       "  If you're reading this message in Jupyter Notebook or JupyterLab, it may mean\n",
       "  that the widgets JavaScript is still loading. If this message persists, it\n",
       "  likely means that the widgets JavaScript library is either not installed or\n",
       "  not enabled. See the <a href=\"https://ipywidgets.readthedocs.io/en/stable/user_install.html\">Jupyter\n",
       "  Widgets Documentation</a> for setup instructions.\n",
       "</p>\n",
       "<p>\n",
       "  If you're reading this message in another notebook frontend (for example, a static\n",
       "  rendering on GitHub or <a href=\"https://nbviewer.jupyter.org/\">NBViewer</a>),\n",
       "  it may mean that your frontend doesn't currently support widgets.\n",
       "</p>\n"
      ],
      "text/plain": [
       "HBox(children=(IntProgress(value=0, max=25), HTML(value='')))"
      ]
     },
     "metadata": {},
     "output_type": "display_data"
    },
    {
     "name": "stderr",
     "output_type": "stream",
     "text": [
      "Uniform random results, retrying with more iterations (1000 -> 3000)\n"
     ]
    },
    {
     "name": "stdout",
     "output_type": "stream",
     "text": [
      "\n"
     ]
    },
    {
     "data": {
      "application/vnd.jupyter.widget-view+json": {
       "model_id": "c120b53f8bfa42ce9d78b07f439d94c4",
       "version_major": 2,
       "version_minor": 0
      },
      "text/html": [
       "<p>Failed to display Jupyter Widget of type <code>HBox</code>.</p>\n",
       "<p>\n",
       "  If you're reading this message in Jupyter Notebook or JupyterLab, it may mean\n",
       "  that the widgets JavaScript is still loading. If this message persists, it\n",
       "  likely means that the widgets JavaScript library is either not installed or\n",
       "  not enabled. See the <a href=\"https://ipywidgets.readthedocs.io/en/stable/user_install.html\">Jupyter\n",
       "  Widgets Documentation</a> for setup instructions.\n",
       "</p>\n",
       "<p>\n",
       "  If you're reading this message in another notebook frontend (for example, a static\n",
       "  rendering on GitHub or <a href=\"https://nbviewer.jupyter.org/\">NBViewer</a>),\n",
       "  it may mean that your frontend doesn't currently support widgets.\n",
       "</p>\n"
      ],
      "text/plain": [
       "HBox(children=(IntProgress(value=0, max=30), HTML(value='')))"
      ]
     },
     "metadata": {},
     "output_type": "display_data"
    },
    {
     "name": "stdout",
     "output_type": "stream",
     "text": [
      "\n"
     ]
    }
   ],
   "source": [
    "df_nc_cancer_tad = compute_nc(df_snps[df_snps.is_cancer & df_snps.is_tad])\n",
    "df_nc_cancer_notad = compute_nc(df_snps[df_snps.is_cancer & ~df_snps.is_tad])\n",
    "df_nc_nocancer_tad = compute_nc(df_snps[~df_snps.is_cancer & df_snps.is_tad])\n",
    "df_nc_nocancer_notad = compute_nc(df_snps[~df_snps.is_cancer & ~df_snps.is_tad])\n",
    "\n",
    "df_nc = pd.concat([df_nc_cancer_tad, df_nc_cancer_notad, df_nc_nocancer_tad, df_nc_nocancer_notad], axis=0)"
   ]
  },
  {
   "cell_type": "code",
   "execution_count": 60,
   "metadata": {},
   "outputs": [
    {
     "data": {
      "text/html": [
       "<div>\n",
       "<style>\n",
       "    .dataframe thead tr:only-child th {\n",
       "        text-align: right;\n",
       "    }\n",
       "\n",
       "    .dataframe thead th {\n",
       "        text-align: left;\n",
       "    }\n",
       "\n",
       "    .dataframe tbody tr th {\n",
       "        vertical-align: top;\n",
       "    }\n",
       "</style>\n",
       "<table border=\"1\" class=\"dataframe\">\n",
       "  <thead>\n",
       "    <tr style=\"text-align: right;\">\n",
       "      <th></th>\n",
       "      <th>EFO_term</th>\n",
       "      <th>network_coherence</th>\n",
       "      <th>ppi_gene_num</th>\n",
       "      <th>total_gene_num</th>\n",
       "      <th>is_cancer</th>\n",
       "      <th>is_tad</th>\n",
       "    </tr>\n",
       "  </thead>\n",
       "  <tbody>\n",
       "    <tr>\n",
       "      <th>0</th>\n",
       "      <td>EFO_0000095</td>\n",
       "      <td>-0.119159</td>\n",
       "      <td>5</td>\n",
       "      <td>7</td>\n",
       "      <td>True</td>\n",
       "      <td>True</td>\n",
       "    </tr>\n",
       "    <tr>\n",
       "      <th>1</th>\n",
       "      <td>EFO_0000178</td>\n",
       "      <td>NaN</td>\n",
       "      <td>1</td>\n",
       "      <td>2</td>\n",
       "      <td>True</td>\n",
       "      <td>True</td>\n",
       "    </tr>\n",
       "    <tr>\n",
       "      <th>2</th>\n",
       "      <td>EFO_0000182</td>\n",
       "      <td>NaN</td>\n",
       "      <td>0</td>\n",
       "      <td>1</td>\n",
       "      <td>True</td>\n",
       "      <td>True</td>\n",
       "    </tr>\n",
       "    <tr>\n",
       "      <th>3</th>\n",
       "      <td>EFO_0000305</td>\n",
       "      <td>-0.105463</td>\n",
       "      <td>5</td>\n",
       "      <td>8</td>\n",
       "      <td>True</td>\n",
       "      <td>True</td>\n",
       "    </tr>\n",
       "    <tr>\n",
       "      <th>4</th>\n",
       "      <td>EFO_0000571</td>\n",
       "      <td>NaN</td>\n",
       "      <td>1</td>\n",
       "      <td>1</td>\n",
       "      <td>True</td>\n",
       "      <td>True</td>\n",
       "    </tr>\n",
       "  </tbody>\n",
       "</table>\n",
       "</div>"
      ],
      "text/plain": [
       "      EFO_term  network_coherence  ppi_gene_num  total_gene_num  is_cancer  \\\n",
       "0  EFO_0000095          -0.119159             5               7       True   \n",
       "1  EFO_0000178                NaN             1               2       True   \n",
       "2  EFO_0000182                NaN             0               1       True   \n",
       "3  EFO_0000305          -0.105463             5               8       True   \n",
       "4  EFO_0000571                NaN             1               1       True   \n",
       "\n",
       "   is_tad  \n",
       "0    True  \n",
       "1    True  \n",
       "2    True  \n",
       "3    True  \n",
       "4    True  "
      ]
     },
     "execution_count": 60,
     "metadata": {},
     "output_type": "execute_result"
    }
   ],
   "source": [
    "df_nc.head()"
   ]
  },
  {
   "cell_type": "markdown",
   "metadata": {},
   "source": [
    "## Plot result"
   ]
  },
  {
   "cell_type": "code",
   "execution_count": 67,
   "metadata": {},
   "outputs": [
    {
     "data": {
      "image/png": "[encoded data removed]",
      "text/plain": [
       "<matplotlib.figure.Figure at 0x109afe160>"
      ]
     },
     "metadata": {},
     "output_type": "display_data"
    }
   ],
   "source": [
    "sns.boxplot(x='is_cancer', y='network_coherence', data=df_nc, hue='is_tad');"
   ]
  }
 ],
 "metadata": {
  "kernelspec": {
   "display_name": "Python 3",
   "language": "python",
   "name": "python3"
  },
  "language_info": {
   "codemirror_mode": {
    "name": "ipython",
    "version": 3
   },
   "file_extension": ".py",
   "mimetype": "text/x-python",
   "name": "python",
   "nbconvert_exporter": "python",
   "pygments_lexer": "ipython3",
   "version": "3.6.3"
  }
 },
 "nbformat": 4,
 "nbformat_minor": 2
}

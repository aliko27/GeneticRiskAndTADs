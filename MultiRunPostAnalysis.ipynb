{
 "cells": [
  {
   "cell_type": "code",
   "execution_count": null,
   "metadata": {},
   "outputs": [],
   "source": [
    "import os\n",
    "\n",
    "import numpy as np\n",
    "import pandas as pd\n",
    "\n",
    "import seaborn as sns\n",
    "import matplotlib.pyplot as plt\n",
    "\n",
    "from natsort import natsorted\n",
    "\n",
    "from bioinf_common.plotting import annotated_barplot"
   ]
  },
  {
   "cell_type": "code",
   "execution_count": null,
   "metadata": {},
   "outputs": [],
   "source": [
    "sns.set_context('talk')"
   ]
  },
  {
   "cell_type": "markdown",
   "metadata": {},
   "source": [
    "# Load data"
   ]
  },
  {
   "cell_type": "code",
   "execution_count": null,
   "metadata": {},
   "outputs": [],
   "source": [
    "target_dir = 'aggregated_results/pipeline_run/results/'"
   ]
  },
  {
   "cell_type": "code",
   "execution_count": null,
   "metadata": {},
   "outputs": [],
   "source": [
    "df_list = []\n",
    "for entry in os.scandir(target_dir):\n",
    "    if not entry.name.startswith('final__'):\n",
    "        continue\n",
    "\n",
    "    inp, _ = entry.name.split('__')[-1].split(';')\n",
    "    info = dict(e.split(':') for e in '.'.join(inp.split('.')[:-1]).split(';'))\n",
    "\n",
    "    data_source = info['input_files+tad_coordinates']\n",
    "    data_source = data_source[len('data_'):]  # cut off common prefix\n",
    "\n",
    "    tmp = pd.read_csv(entry.path, low_memory=False)\n",
    "    tmp['data_source'] = data_source\n",
    "    df_list.append(tmp)\n",
    "    \n",
    "    print(data_source, tmp.shape)\n",
    "    \n",
    "df = pd.concat(df_list)"
   ]
  },
  {
   "cell_type": "markdown",
   "metadata": {},
   "source": [
    "## Data overview"
   ]
  },
  {
   "cell_type": "code",
   "execution_count": null,
   "metadata": {},
   "outputs": [],
   "source": [
    "df.head()"
   ]
  },
  {
   "cell_type": "markdown",
   "metadata": {},
   "source": [
    "# Define signal measures"
   ]
  },
  {
   "cell_type": "code",
   "execution_count": null,
   "metadata": {},
   "outputs": [],
   "source": [
    "def enrichment_quotient(df, p_thres=0.05):\n",
    "    tmp = df.copy()\n",
    "    tmp.loc[tmp['pval_boundary_neglog'] < -np.log10(p_thres), 'pval_boundary_neglog'] = 0\n",
    "\n",
    "    cancer_signal = tmp.loc[tmp['is_cancer'], 'pval_boundary_neglog'].mean()\n",
    "    noncancer_signal = tmp.loc[~tmp['is_cancer'], 'pval_boundary_neglog'].mean()\n",
    "\n",
    "    #print(df['data_source'].iloc[0], cancer_signal, noncancer_signal, cancer_signal / noncancer_signal)\n",
    "    return cancer_signal / noncancer_signal"
   ]
  },
  {
   "cell_type": "code",
   "execution_count": null,
   "metadata": {},
   "outputs": [],
   "source": [
    "def count_quotient(df, p_thres=0.05):\n",
    "    tmp = df.copy()\n",
    "\n",
    "    sig_cancer_num = tmp[tmp['is_cancer'] & (tmp['pval_boundary_neglog'] >= -np.log10(p_thres))].shape[0]\n",
    "    all_cancer_num = tmp[tmp['is_cancer']].shape[0]\n",
    "    \n",
    "    sig_noncancer_num = tmp[(~tmp['is_cancer']) & (tmp['pval_boundary_neglog'] >= -np.log10(p_thres))].shape[0]\n",
    "    all_noncancer_num = tmp[~tmp['is_cancer']].shape[0]\n",
    "    \n",
    "    #print(df['data_source'].iloc[0], sig_cancer_num, all_cancer_num, sig_noncancer_num / all_noncancer_num)\n",
    "    return (sig_cancer_num/all_cancer_num) / (sig_noncancer_num/all_noncancer_num)"
   ]
  },
  {
   "cell_type": "markdown",
   "metadata": {},
   "source": [
    "# Apply measure"
   ]
  },
  {
   "cell_type": "code",
   "execution_count": null,
   "metadata": {},
   "outputs": [],
   "source": [
    "border_type = '20in'\n",
    "pvalue_type = 'pval_boundary'"
   ]
  },
  {
   "cell_type": "code",
   "execution_count": null,
   "metadata": {},
   "outputs": [],
   "source": [
    "# pre-transform data\n",
    "df_trans = df.groupby(['data_source', 'diseaseId', 'TAD_type']).first().reset_index().copy()\n",
    "df_trans = df_trans[df_trans['TAD_type'] == border_type]\n",
    "df_trans.loc[df_trans[pvalue_type]==0, pvalue_type] = 1e-16\n",
    "\n",
    "df_trans['pval_boundary_neglog'] = df_trans[pvalue_type].apply(lambda x: -np.log10(x))"
   ]
  },
  {
   "cell_type": "code",
   "execution_count": null,
   "metadata": {},
   "outputs": [],
   "source": [
    "signal_data = []\n",
    "for data_source, group in df_trans.groupby('data_source'):\n",
    "    signal_data.extend([\n",
    "        {\n",
    "            'data_source': data_source,\n",
    "            'signal': enrichment_quotient(group),\n",
    "            'type': r'$\\frac{\\langle-\\log_{10}(p_{cancer,boundary_{20in}})\\rangle}{\\langle-\\log_{10}(p_{noncancer,boundary_{20in}})\\rangle}$'\n",
    "        },\n",
    "        {\n",
    "            'data_source': data_source,\n",
    "            'signal': count_quotient(group),\n",
    "            'type': r'$\\frac{|\\mathrm{cancer}_{sig}| / |\\mathrm{cancer}_{all}|}{|\\mathrm{noncancer}_{sig}| / |\\mathrm{noncancer}_{all}|}$'\n",
    "        }\n",
    "    ])\n",
    "df_signal = pd.DataFrame(signal_data)"
   ]
  },
  {
   "cell_type": "code",
   "execution_count": null,
   "metadata": {},
   "outputs": [],
   "source": [
    "df_signal.head()"
   ]
  },
  {
   "cell_type": "markdown",
   "metadata": {},
   "source": [
    "# Visualize result"
   ]
  },
  {
   "cell_type": "code",
   "execution_count": null,
   "metadata": {},
   "outputs": [],
   "source": [
    "plt.figure(figsize=(18,12))\n",
    "g = annotated_barplot(\n",
    "    x='data_source', y='signal', data=df_signal, hue='type',\n",
    "    order=natsorted(df_signal['data_source'].unique()),\n",
    "    anno_kws=dict(label_offset=10, label_size=13))\n",
    "\n",
    "plt.xticks(rotation=90)\n",
    "\n",
    "plt.tight_layout()\n",
    "plt.savefig('images/signal_vs_datasource.pdf')"
   ]
  }
 ],
 "metadata": {
  "kernelspec": {
   "display_name": "Python 3",
   "language": "python",
   "name": "python3"
  },
  "language_info": {
   "codemirror_mode": {
    "name": "ipython",
    "version": 3
   },
   "file_extension": ".py",
   "mimetype": "text/x-python",
   "name": "python",
   "nbconvert_exporter": "python",
   "pygments_lexer": "ipython3",
   "version": "3.7.2"
  }
 },
 "nbformat": 4,
 "nbformat_minor": 2
}

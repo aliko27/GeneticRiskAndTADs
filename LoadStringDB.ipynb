{
 "cells": [
  {
   "cell_type": "code",
   "execution_count": null,
   "metadata": {},
   "outputs": [],
   "source": [
    "import pandas as pd\n",
    "\n",
    "from tqdm import tqdm_notebook as tqdm"
   ]
  },
  {
   "cell_type": "markdown",
   "metadata": {},
   "source": [
    "## Read data"
   ]
  },
  {
   "cell_type": "code",
   "execution_count": null,
   "metadata": {},
   "outputs": [],
   "source": [
    "df_ppi = pd.read_table('data/9606.protein.links.v10.5.txt.gz', sep=' ')\n",
    "df_map = pd.read_table(\n",
    "    'data/9606.protein.aliases.v10.5.txt.gz', skiprows=1,\n",
    "    header=None, names=['string_protein_id', 'alias', 'source'])"
   ]
  },
  {
   "cell_type": "code",
   "execution_count": null,
   "metadata": {},
   "outputs": [],
   "source": [
    "df_ppi.head()"
   ]
  },
  {
   "cell_type": "code",
   "execution_count": null,
   "metadata": {},
   "outputs": [],
   "source": [
    "df_map.head()"
   ]
  },
  {
   "cell_type": "markdown",
   "metadata": {},
   "source": [
    "## ID mappings"
   ]
  },
  {
   "cell_type": "markdown",
   "metadata": {},
   "source": [
    "### Map StringDB to Ensemble"
   ]
  },
  {
   "cell_type": "code",
   "execution_count": null,
   "metadata": {},
   "outputs": [],
   "source": [
    "df_map_ens = df_map[df_map['source']=='Ensembl']\n",
    "string2ensemble = df_map_ens.set_index('string_protein_id').to_dict()['alias']"
   ]
  },
  {
   "cell_type": "code",
   "execution_count": null,
   "metadata": {},
   "outputs": [],
   "source": [
    "df_map_ens.head()"
   ]
  },
  {
   "cell_type": "markdown",
   "metadata": {},
   "source": [
    "### Map Ensembl to Entrez"
   ]
  },
  {
   "cell_type": "code",
   "execution_count": null,
   "metadata": {},
   "outputs": [],
   "source": [
    "def split_and_expand(df, id_col, val_col, sep='; '):\n",
    "    split_expanded = df[val_col].str.split(sep, expand=True)\n",
    "    df_expanded = df.join(split_expanded)\n",
    "    \n",
    "    expanded_column_names = range(len(df_expanded.columns)-2)\n",
    "    df_long = pd.melt(df_expanded, id_vars=id_col, value_vars=expanded_column_names).dropna()\n",
    "    return df_long"
   ]
  },
  {
   "cell_type": "code",
   "execution_count": null,
   "metadata": {},
   "outputs": [],
   "source": [
    "df_uni = pd.read_table('data/HUMAN_9606_idmapping_selected.tab.gz', header=None)"
   ]
  },
  {
   "cell_type": "code",
   "execution_count": null,
   "metadata": {},
   "outputs": [],
   "source": [
    "df_uni_sub = df_uni[[2,18]]\n",
    "df_uni_sub.columns = ['entrez', 'ensembl']\n",
    "display(df_uni_sub.head())\n",
    "\n",
    "df_uni_ens = split_and_expand(df_uni_sub, 'entrez', 'ensembl')\n",
    "df_uni_ens[df_uni_ens.entrez=='7529']"
   ]
  },
  {
   "cell_type": "code",
   "execution_count": null,
   "metadata": {},
   "outputs": [],
   "source": [
    "df_uni_sub = df_uni[[2,19]]\n",
    "df_uni_sub.columns = ['entrez', 'ensembl']\n",
    "display(df_uni_sub.head())\n",
    "\n",
    "df_uni_ens_trs = split_and_expand(df_uni_sub, 'entrez', 'ensembl')\n",
    "df_uni_ens_trs[df_uni_ens_trs.entrez=='7529']"
   ]
  },
  {
   "cell_type": "code",
   "execution_count": null,
   "metadata": {},
   "outputs": [],
   "source": [
    "df_uni_sub = df_uni[[2,20]]\n",
    "df_uni_sub.columns = ['entrez', 'ensembl']\n",
    "display(df_uni_sub.head())\n",
    "\n",
    "df_uni_ens_pro = split_and_expand(df_uni_sub, 'entrez', 'ensembl')\n",
    "df_uni_ens_pro[df_uni_ens_pro.entrez=='7529']"
   ]
  },
  {
   "cell_type": "code",
   "execution_count": null,
   "metadata": {},
   "outputs": [],
   "source": [
    "df_uni_long = pd.concat([df_uni_ens, df_uni_ens_trs, df_uni_ens_pro], axis=0)\n",
    "ensemble2entrez = df_uni_long.set_index('value').to_dict()['entrez']"
   ]
  },
  {
   "cell_type": "markdown",
   "metadata": {},
   "source": [
    "## Convert stringDB"
   ]
  },
  {
   "cell_type": "code",
   "execution_count": null,
   "metadata": {},
   "outputs": [],
   "source": [
    "def convert(stringdb_id):\n",
    "    ensembl_id = string2ensemble[stringdb_id]\n",
    "    entrez_id = ensemble2entrez[ensembl_id]\n",
    "    return entrez_id"
   ]
  },
  {
   "cell_type": "code",
   "execution_count": null,
   "metadata": {},
   "outputs": [],
   "source": [
    "converted_interactions = []\n",
    "for row in tqdm(df_ppi.itertuples(), total=df_ppi.shape[0]):\n",
    "    try:\n",
    "        e1 = convert(row.protein1)\n",
    "        e2 = convert(row.protein2)\n",
    "        \n",
    "        converted_interactions.append((e1, e2, row.combined_score))\n",
    "    except KeyError:\n",
    "        pass\n",
    "df_conv = pd.DataFrame(converted_interactions, columns=['protein1', 'protein2', 'combined_score'])"
   ]
  },
  {
   "cell_type": "code",
   "execution_count": null,
   "metadata": {},
   "outputs": [],
   "source": [
    "df_conv.head()"
   ]
  }
 ],
 "metadata": {
  "kernelspec": {
   "display_name": "Python 3",
   "language": "python",
   "name": "python3"
  },
  "language_info": {
   "codemirror_mode": {
    "name": "ipython",
    "version": 3
   },
   "file_extension": ".py",
   "mimetype": "text/x-python",
   "name": "python",
   "nbconvert_exporter": "python",
   "pygments_lexer": "ipython3",
   "version": "3.6.3"
  }
 },
 "nbformat": 4,
 "nbformat_minor": 2
}

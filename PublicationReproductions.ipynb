{
 "cells": [
  {
   "cell_type": "code",
   "execution_count": null,
   "metadata": {},
   "outputs": [],
   "source": [
    "%matplotlib inline"
   ]
  },
  {
   "cell_type": "code",
   "execution_count": null,
   "metadata": {},
   "outputs": [],
   "source": [
    "import os\n",
    "import collections\n",
    "\n",
    "import numpy as np\n",
    "import pandas as pd\n",
    "\n",
    "import seaborn as sns\n",
    "import matplotlib.pyplot as plt\n",
    "\n",
    "from bs4 import BeautifulSoup\n",
    "from tqdm import tqdm_notebook as tqdm\n",
    "\n",
    "from utils import load_config"
   ]
  },
  {
   "cell_type": "code",
   "execution_count": null,
   "metadata": {},
   "outputs": [],
   "source": [
    "sns.set_context('talk')\n",
    "pd.set_option('display.max_columns', 99)"
   ]
  },
  {
   "cell_type": "code",
   "execution_count": null,
   "metadata": {},
   "outputs": [],
   "source": [
    "config = load_config()"
   ]
  },
  {
   "cell_type": "markdown",
   "metadata": {},
   "source": [
    "# Load data"
   ]
  },
  {
   "cell_type": "code",
   "execution_count": null,
   "metadata": {},
   "outputs": [],
   "source": [
    "results_dir = config['output_dirs']['results']\n",
    "df = pd.read_table(f'{results_dir}/snpdb_enhanced.tsv')\n",
    "df.head()"
   ]
  },
  {
   "cell_type": "code",
   "execution_count": null,
   "metadata": {},
   "outputs": [],
   "source": [
    "results_dir = config['output_dirs']['results']\n",
    "df_enr = pd.read_csv(f'{results_dir}/TAD_enrichment.csv')\n",
    "\n",
    "# mark cancer diseases\n",
    "iscancer_map = df[['diseaseId', 'is_cancer']].set_index('diseaseId').to_dict()['is_cancer']\n",
    "df_enr['is_cancer'] = df_enr['disease'].map(iscancer_map)\n",
    "\n",
    "# add disease name\n",
    "disname_map = df[['diseaseId', 'diseaseName']].set_index('diseaseId').to_dict()['diseaseName']\n",
    "df_enr['disease_name'] = df_enr['disease'].map(disname_map)\n",
    "\n",
    "df_enr.sample(5)"
   ]
  },
  {
   "cell_type": "markdown",
   "metadata": {},
   "source": [
    "# Tables"
   ]
  },
  {
   "cell_type": "markdown",
   "metadata": {},
   "source": [
    "## Save general table containing all information"
   ]
  },
  {
   "cell_type": "code",
   "execution_count": null,
   "metadata": {},
   "outputs": [],
   "source": [
    "df_all = df.merge(df_enr.drop(columns='is_cancer'), left_on='diseaseId', right_on='disease')\n",
    "efo_lbl_map = pd.read_csv(f'{results_dir}/disease_efolabels.csv', index_col=0).to_dict()['label']\n",
    "df_all['diseaseEFOName'] = df_all['diseaseId'].apply(lambda x: efo_lbl_map[x])\n",
    "df_all.rename(columns={'#border_snp': 'num_bordersnp', '#snp': 'num_snp'}, inplace=True)"
   ]
  },
  {
   "cell_type": "code",
   "execution_count": null,
   "metadata": {},
   "outputs": [],
   "source": [
    "df_all.head(1)"
   ]
  },
  {
   "cell_type": "code",
   "execution_count": null,
   "metadata": {},
   "outputs": [],
   "source": [
    "tmp = []\n",
    "for row in tqdm(df_all.itertuples(), total=df_all.shape[0]):\n",
    "    tmp.append(collections.OrderedDict([\n",
    "        # disease properties\n",
    "        ('diseaseId', row.diseaseId),\n",
    "        ('diseaseEFOName', row.diseaseEFOName),\n",
    "        ('#border_snp', row.num_bordersnp),\n",
    "        ('#snp', row.num_snp),\n",
    "        ('is_cancer', row.is_cancer),\n",
    "        \n",
    "        # enrichment information\n",
    "        ('TAD_type', row.TAD_type),\n",
    "        ('pval_boundary', row.pval_boundary),\n",
    "        \n",
    "        # SNP properties\n",
    "        ('snpId', row.snpId),\n",
    "        ('chromosome', row.chromosome),\n",
    "        ('position', row.position),\n",
    "        ('TAD_relation', row._asdict()[f'TAD_{row.TAD_type}']),\n",
    "        ('variant_type', row.variant_type)\n",
    "    ]))\n",
    "\n",
    "df_agg = pd.DataFrame(tmp)\n",
    "df_agg.drop_duplicates(inplace=True)\n",
    "df_agg.set_index(['TAD_type', 'diseaseId'], inplace=True)\n",
    "df_agg.sort_index(inplace=True)"
   ]
  },
  {
   "cell_type": "code",
   "execution_count": null,
   "metadata": {},
   "outputs": [],
   "source": [
    "df_agg.to_csv(os.path.join(results_dir, 'final.csv'))\n",
    "\n",
    "print(df_agg.shape)\n",
    "df_agg.head(3)"
   ]
  },
  {
   "cell_type": "markdown",
   "metadata": {},
   "source": [
    "### Test special cases"
   ]
  },
  {
   "cell_type": "raw",
   "metadata": {},
   "source": [
    "df_agg.loc[('20in', 'EFO_0000094')]['TAD_relation'].value_counts()"
   ]
  },
  {
   "cell_type": "raw",
   "metadata": {},
   "source": [
    "# some SNPs appear more than once, because they were detected in multiple studies\n",
    "df_all[(df_all.snpId=='rs2239633') & (df_all.TAD_type=='20in') & (df_all.diseaseId=='EFO_0000094')]"
   ]
  },
  {
   "cell_type": "markdown",
   "metadata": {},
   "source": [
    "## SNP lists"
   ]
  },
  {
   "cell_type": "code",
   "execution_count": null,
   "metadata": {},
   "outputs": [],
   "source": [
    "TAD_boundary_types = [b.split('_')[-1] for b in df.filter(like='TAD_').columns.tolist()]\n",
    "TAD_boundary_types"
   ]
  },
  {
   "cell_type": "code",
   "execution_count": null,
   "metadata": {},
   "outputs": [],
   "source": [
    "for boundary_type in TAD_boundary_types:\n",
    "    # merge data sources\n",
    "    df_enr_tmp = df_enr[df_enr['TAD_type'] == boundary_type]\n",
    "    tmp = df.merge(df_enr_tmp, left_on='diseaseId', right_on='disease')\n",
    "\n",
    "    tmp_s = tmp[tmp['pval_boundary'] < .05]\n",
    "    tmp_b = tmp_s[tmp_s[f'TAD_{boundary_type}'] == 'boundary'].copy()\n",
    "    \n",
    "    # add EFO disease labels\n",
    "    efo_lbl_map = pd.read_csv(f'{results_dir}/disease_efolabels.csv', index_col=0).to_dict()['label']\n",
    "    tmp_b['diseaseEFOName'] = tmp_b['diseaseId'].apply(lambda x: efo_lbl_map[x])\n",
    "    \n",
    "    # generate tables\n",
    "    df_lists = {True: [], False: []}\n",
    "    for (is_cancer, dixd), group in tmp_b.groupby(['is_cancer_x', 'diseaseId']):\n",
    "        cur = group[\n",
    "            ['diseaseId', 'diseaseEFOName', 'snpId', 'chromosome', 'position', 'odds_ratio', 'variant_type']\n",
    "        ].drop_duplicates(subset='snpId')\n",
    "        #display(cur)\n",
    "\n",
    "        df_lists[is_cancer].append(cur.copy())\n",
    "            \n",
    "    # save result\n",
    "    print(boundary_type)\n",
    "    \n",
    "    if len(df_lists[True]) > 0:\n",
    "        df_cancer = pd.concat(df_lists[True])\n",
    "        display(df_cancer.head())\n",
    "        df_cancer.to_csv(f'{results_dir}/snplist_cancer_{boundary_type}.csv', index=False)\n",
    "    else:\n",
    "        print(' > No cancer boundary SNPs found')\n",
    "\n",
    "    if len(df_lists[False]) > 0:\n",
    "        df_noncancer = pd.concat(df_lists[False])\n",
    "        display(df_noncancer.head())\n",
    "        df_noncancer.to_csv(f'{results_dir}/snplist_noncancer_{boundary_type}.csv', index=False)\n",
    "    else:\n",
    "        print(' > No non-cancer boundary SNPs found')"
   ]
  },
  {
   "cell_type": "markdown",
   "metadata": {},
   "source": [
    "## Enriched cancers"
   ]
  },
  {
   "cell_type": "code",
   "execution_count": null,
   "metadata": {},
   "outputs": [],
   "source": [
    "for tad_type, group in df_enr.groupby('TAD_type'):\n",
    "    sub = group[group['is_cancer'] & (group['pval_boundary'] < .05)]\n",
    "    \n",
    "    sub = sub.sort_values('pval_boundary')\n",
    "    sub = sub[['disease', 'disease_name', 'pval_boundary', '#snp', '#border_snp']]\n",
    "    \n",
    "    display(tad_type, sub.head())"
   ]
  },
  {
   "cell_type": "markdown",
   "metadata": {},
   "source": [
    "# Plots"
   ]
  },
  {
   "cell_type": "code",
   "execution_count": null,
   "metadata": {},
   "outputs": [],
   "source": [
    "images_dir = config['output_dirs']['images']"
   ]
  },
  {
   "cell_type": "code",
   "execution_count": null,
   "metadata": {},
   "outputs": [],
   "source": [
    "# rescale p-values\n",
    "df_enr_log = df_enr.copy()\n",
    "df_enr_log.loc[df_enr_log.pval_boundary==0, 'pval_boundary'] = 1e-16\n",
    "\n",
    "df_enr_log['pval_boundary'] = df_enr_log['pval_boundary'].apply(lambda x: -np.log10(x))\n",
    "df_enr_log['pval_tad'] = df_enr_log['pval_tad'].apply(lambda x: -np.log10(x))\n",
    "df_enr_log['pval_none'] = df_enr_log['pval_none'].apply(lambda x: -np.log10(x))\n",
    "\n",
    "df_enr_log = df_enr_log.replace([np.inf, -np.inf], np.nan)"
   ]
  },
  {
   "cell_type": "markdown",
   "metadata": {},
   "source": [
    "## TAD border enrichment"
   ]
  },
  {
   "cell_type": "code",
   "execution_count": null,
   "metadata": {},
   "outputs": [],
   "source": [
    "# filter data\n",
    "max_x = 3  # df_enr_log['pval_boundary'].max()\n",
    "tmp = df_enr_log.copy()\n",
    "tmp.loc[tmp['pval_boundary'] > max_x, 'pval_boundary'] = max_x\n",
    "\n",
    "# plot\n",
    "g = sns.FacetGrid(\n",
    "    tmp, col='TAD_type', col_wrap=3, hue='is_cancer',\n",
    "    col_order=TAD_boundary_types,\n",
    "    height=5, aspect=1.2)\n",
    "\n",
    "bins = np.linspace(0, max_x, max_x * 10)\n",
    "\n",
    "g = g.map(sns.distplot, 'pval_boundary', hist_kws=dict(alpha=.5), bins=bins, kde=False, norm_hist=True)\n",
    "g = g.map(plt.axvline, x=-np.log10(.05), color='red', linestyle='dashed')\n",
    "\n",
    "g.set(xlim=(0, max_x))\n",
    "g.add_legend()\n",
    "\n",
    "plt.suptitle(rf'values $>{max_x}$ are set to ${max_x}$')\n",
    "\n",
    "#plt.tight_layout()\n",
    "plt.subplots_adjust(top=.92)\n",
    "plt.savefig(f'{images_dir}/tad_border_enrichment.pdf')"
   ]
  }
 ],
 "metadata": {
  "kernelspec": {
   "display_name": "Python 3",
   "language": "python",
   "name": "python3"
  },
  "language_info": {
   "codemirror_mode": {
    "name": "ipython",
    "version": 3
   },
   "file_extension": ".py",
   "mimetype": "text/x-python",
   "name": "python",
   "nbconvert_exporter": "python",
   "pygments_lexer": "ipython3",
   "version": "3.7.0"
  }
 },
 "nbformat": 4,
 "nbformat_minor": 2
}

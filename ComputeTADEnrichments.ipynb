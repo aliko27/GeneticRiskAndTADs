{
 "cells": [
  {
   "cell_type": "code",
   "execution_count": null,
   "metadata": {},
   "outputs": [],
   "source": [
    "import collections\n",
    "\n",
    "import pandas as pd\n",
    "from scipy.stats import binom\n",
    "from statsmodels.sandbox.stats.multicomp import multipletests\n",
    "\n",
    "from tqdm import tqdm_notebook as tqdm\n",
    "\n",
    "from utils import load_config\n",
    "from tad_helper_functions import get_tad_lengths, EmptyTAD, OverlappingTADS"
   ]
  },
  {
   "cell_type": "code",
   "execution_count": null,
   "metadata": {},
   "outputs": [],
   "source": [
    "config = load_config()"
   ]
  },
  {
   "cell_type": "markdown",
   "metadata": {},
   "source": [
    "# Load data"
   ]
  },
  {
   "cell_type": "code",
   "execution_count": null,
   "metadata": {},
   "outputs": [],
   "source": [
    "results_dir = config['output_dirs']['results']\n",
    "df = pd.read_table(f'{results_dir}/disgenet_enhanced.tsv')\n",
    "display(df.head())\n",
    "\n",
    "disease_cancer_map = df.set_index('diseaseId').to_dict()['is_cancer']"
   ]
  },
  {
   "cell_type": "code",
   "execution_count": null,
   "metadata": {},
   "outputs": [],
   "source": [
    "TAD_border_types = df.filter(like='TAD_').columns.tolist()\n",
    "TAD_border_types"
   ]
  },
  {
   "cell_type": "markdown",
   "metadata": {},
   "source": [
    "# Get TAD stats"
   ]
  },
  {
   "cell_type": "code",
   "execution_count": null,
   "metadata": {},
   "outputs": [],
   "source": [
    "hg38_genome_length = 3_099_734_149  # https://www.ncbi.nlm.nih.gov/grc/human/data?asm=GRCh38.p11\n",
    "\n",
    "results_dir = config['output_dirs']['results']\n",
    "df_tads = pd.read_table(f'{results_dir}/tads_hg38.tsv')\n",
    "df_tads.head()"
   ]
  },
  {
   "cell_type": "code",
   "execution_count": null,
   "metadata": {},
   "outputs": [],
   "source": [
    "df_tads['prev_tad_stop'] = df_tads.tad_stop.shift(1)\n",
    "df_tads['next_tad_start'] = df_tads.tad_start.shift(-1)\n",
    "df_tads['prev_tad_chr'] = df_tads.chrname.shift(1)\n",
    "df_tads['next_tad_chr'] = df_tads.chrname.shift(-1)"
   ]
  },
  {
   "cell_type": "code",
   "execution_count": null,
   "metadata": {},
   "outputs": [],
   "source": [
    "tad_statistics = collections.defaultdict(dict)\n",
    "for tad_type in tqdm(TAD_border_types):\n",
    "    type_ = tad_type[4:]  # remove TAD_\n",
    "\n",
    "    tad_len = 0\n",
    "    boundary_len = 0\n",
    "    chrom_lens = collections.defaultdict(list)\n",
    "    for row in df_tads.itertuples():\n",
    "        try:\n",
    "            b1_range, tad_range, b2_range = get_tad_lengths(row, type_)\n",
    "        except (EmptyTAD, OverlappingTADS):\n",
    "            continue\n",
    "\n",
    "        tad_len += tad_range.stop - tad_range.start\n",
    "        boundary_len += \\\n",
    "            (b1_range.stop - b1_range.start) \\\n",
    "            + (b2_range.stop - b2_range.start)\n",
    "\n",
    "        chrom_lens[row.chrname].append(row.tad_stop)\n",
    "\n",
    "    none_len = hg38_genome_length - tad_len - boundary_len\n",
    "\n",
    "    tad_statistics[type_]['chrom'] = hg38_genome_length\n",
    "    tad_statistics[type_]['tad'] = tad_len\n",
    "    tad_statistics[type_]['boundary'] = boundary_len\n",
    "    tad_statistics[type_]['none'] = none_len\n",
    "tad_statistics = dict(tad_statistics)\n",
    "    \n",
    "tad_statistics"
   ]
  },
  {
   "cell_type": "markdown",
   "metadata": {},
   "source": [
    "# Compute enrichments"
   ]
  },
  {
   "cell_type": "code",
   "execution_count": null,
   "metadata": {},
   "outputs": [],
   "source": [
    "enr_result = []\n",
    "for disease, group in tqdm(df.groupby('diseaseId'), total=df['diseaseId'].unique().size):\n",
    "    for tad_type in TAD_border_types:\n",
    "        # get TAD-related statistics\n",
    "        tads = group[tad_type].tolist()\n",
    "        \n",
    "        N = group.shape[0]\n",
    "        counts = collections.Counter(tads)\n",
    "        assert N == len(tads), (N, tads)\n",
    "        \n",
    "        if counts['boundary'] == 0:\n",
    "            continue\n",
    "        \n",
    "        # get overall lengths\n",
    "        type_ = tad_type[4:]  # remove TAD_\n",
    "        cur_cl = tad_statistics[type_]['chrom']\n",
    "        cur_tl = tad_statistics[type_]['tad']\n",
    "        cur_bl = tad_statistics[type_]['boundary']\n",
    "        cur_nl = tad_statistics[type_]['none']\n",
    "        \n",
    "        # compute enrichment\n",
    "        cdf_tad = binom.cdf(counts['tad'], N, cur_tl/cur_cl) #if counts['tad'] > 0 else 0\n",
    "        cdf_boundary = binom.cdf(counts['boundary'], N, cur_bl/cur_cl) #if counts['boundary'] > 0 else 0\n",
    "        cdf_none = binom.cdf(counts['nan'], N, cur_nl/cur_cl) #if counts['nan'] > 0 else 0\n",
    "        \n",
    "        enr_result.append({\n",
    "            'disease': disease,\n",
    "            '#snp': N,\n",
    "            '#border_snp': counts['boundary'],\n",
    "            'pval_tad': 1 - cdf_tad,\n",
    "            'pval_boundary': 1 - cdf_boundary,\n",
    "            'pval_none': 1 - cdf_none,\n",
    "            'TAD_type': type_\n",
    "        })\n",
    "df_enr = pd.DataFrame(enr_result)"
   ]
  },
  {
   "cell_type": "markdown",
   "metadata": {},
   "source": [
    "# Multiple-testing correction"
   ]
  },
  {
   "cell_type": "code",
   "execution_count": null,
   "metadata": {},
   "outputs": [],
   "source": [
    "def correct_pvalues(pval_list):\n",
    "    _, pval_corr, _, _ = multipletests(pval_list, method='fdr_bh')\n",
    "    return pval_corr"
   ]
  },
  {
   "cell_type": "code",
   "execution_count": null,
   "metadata": {},
   "outputs": [],
   "source": [
    "df_enr_tmp = df_enr.copy()\n",
    "df_enr_tmp['is_cancer'] = df_enr_tmp['disease'].apply(lambda x: disease_cancer_map[x])\n",
    "df_enr_corr = df_enr_tmp.groupby(['TAD_type', 'is_cancer']).transform(correct_pvalues)\n",
    "\n",
    "df_enr['pval_boundary'] = df_enr_corr['pval_boundary']\n",
    "df_enr['pval_none'] = df_enr_corr['pval_none']\n",
    "df_enr['pval_tad'] = df_enr_corr['pval_tad']"
   ]
  },
  {
   "cell_type": "markdown",
   "metadata": {},
   "source": [
    "# Save result"
   ]
  },
  {
   "cell_type": "code",
   "execution_count": null,
   "metadata": {},
   "outputs": [],
   "source": [
    "results_dir = config['output_dirs']['results']\n",
    "df_enr.to_csv(f'{results_dir}/TAD_enrichment.csv', index=False)\n",
    "df_enr.head()"
   ]
  }
 ],
 "metadata": {
  "kernelspec": {
   "display_name": "Python 3",
   "language": "python",
   "name": "python3"
  },
  "language_info": {
   "codemirror_mode": {
    "name": "ipython",
    "version": 3
   },
   "file_extension": ".py",
   "mimetype": "text/x-python",
   "name": "python",
   "nbconvert_exporter": "python",
   "pygments_lexer": "ipython3",
   "version": "3.7.0"
  }
 },
 "nbformat": 4,
 "nbformat_minor": 2
}

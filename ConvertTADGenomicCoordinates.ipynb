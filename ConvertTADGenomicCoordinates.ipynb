{
 "cells": [
  {
   "cell_type": "code",
   "execution_count": null,
   "metadata": {},
   "outputs": [],
   "source": [
    "import os\n",
    "\n",
    "import numpy as np\n",
    "import pandas as pd\n",
    "\n",
    "import seaborn as sns\n",
    "import matplotlib.pyplot as plt\n",
    "\n",
    "from pyliftover import LiftOver\n",
    "\n",
    "from utils import load_config"
   ]
  },
  {
   "cell_type": "code",
   "execution_count": null,
   "metadata": {},
   "outputs": [],
   "source": [
    "sns.set_context('talk')"
   ]
  },
  {
   "cell_type": "code",
   "execution_count": null,
   "metadata": {},
   "outputs": [],
   "source": [
    "config = load_config()\n",
    "\n",
    "results_dir = config['output_dirs']['results']\n",
    "images_dir = config['output_dirs']['images']"
   ]
  },
  {
   "cell_type": "markdown",
   "metadata": {},
   "source": [
    "# Load data"
   ]
  },
  {
   "cell_type": "code",
   "execution_count": null,
   "metadata": {},
   "outputs": [],
   "source": [
    "df = pd.read_csv(\n",
    "    config['input_files']['tad_coordinates'],\n",
    "    header=None, names=['chrname', 'tad_start', 'tad_stop'])\n",
    "df.head()"
   ]
  },
  {
   "cell_type": "markdown",
   "metadata": {},
   "source": [
    "# Convert hgXX->hg38"
   ]
  },
  {
   "cell_type": "code",
   "execution_count": null,
   "metadata": {},
   "outputs": [],
   "source": [
    "lo = LiftOver(config['parameters']['source_genomiccoordinates_version'], 'hg38')"
   ]
  },
  {
   "cell_type": "code",
   "execution_count": null,
   "metadata": {},
   "outputs": [],
   "source": [
    "def convert_pos(chr_, pos):\n",
    "    res = lo.convert_coordinate(chr_, pos)\n",
    "    \n",
    "    if len(res) == 0:\n",
    "        return np.nan\n",
    "    \n",
    "    assert len(res) == 1, res\n",
    "    r_chr, r_pos, r_strand, r_score = res[0]\n",
    "\n",
    "    if chr_ != r_chr:\n",
    "        return np.nan\n",
    "    \n",
    "    return r_pos"
   ]
  },
  {
   "cell_type": "code",
   "execution_count": null,
   "metadata": {},
   "outputs": [],
   "source": [
    "# case of no conversion\n",
    "df.loc[1226]\n",
    "convert_pos('chr6', 61880166)"
   ]
  },
  {
   "cell_type": "code",
   "execution_count": null,
   "metadata": {},
   "outputs": [],
   "source": [
    "def _conv(row):\n",
    "    tad_start_raw = convert_pos(row['chrname'], row['tad_start'])\n",
    "    tad_stop_raw = convert_pos(row['chrname'], row['tad_stop'])\n",
    "    \n",
    "    if pd.isnull(tad_start_raw) or pd.isnull(tad_stop_raw):\n",
    "        tad_start = np.nan\n",
    "        tad_stop = np.nan\n",
    "    else:\n",
    "        tad_start = min(tad_start_raw, tad_stop_raw)\n",
    "        tad_stop = max(tad_start_raw, tad_stop_raw)\n",
    "    \n",
    "    return pd.Series({\n",
    "        'chrname': row['chrname'],\n",
    "        'tad_start': tad_start,\n",
    "        'tad_stop': tad_stop\n",
    "    })\n",
    "\n",
    "df_conv = df.apply(_conv, axis=1).dropna()\n",
    "\n",
    "df_conv['tad_start'] = df_conv['tad_start'].astype(int)\n",
    "df_conv['tad_stop'] = df_conv['tad_stop'].astype(int)\n",
    "\n",
    "df_conv.head()"
   ]
  },
  {
   "cell_type": "markdown",
   "metadata": {},
   "source": [
    "## Check special cases"
   ]
  },
  {
   "cell_type": "code",
   "execution_count": null,
   "metadata": {},
   "outputs": [],
   "source": [
    "# coordinate order gets switched\n",
    "print(convert_pos('chr1', 144848643))\n",
    "print(convert_pos('chr1', 145048643))"
   ]
  },
  {
   "cell_type": "code",
   "execution_count": null,
   "metadata": {},
   "outputs": [],
   "source": [
    "# vanishing tads\n",
    "tad_len = df_conv['tad_stop'] - df_conv['tad_start']\n",
    "empty_tads = df_conv[tad_len==0]\n",
    "\n",
    "print(empty_tads.shape)\n",
    "empty_tads.head()"
   ]
  },
  {
   "cell_type": "markdown",
   "metadata": {},
   "source": [
    "# Save result"
   ]
  },
  {
   "cell_type": "code",
   "execution_count": null,
   "metadata": {},
   "outputs": [],
   "source": [
    "print(df.shape)\n",
    "print(df_conv.shape)\n",
    "df_conv.head()"
   ]
  },
  {
   "cell_type": "code",
   "execution_count": null,
   "metadata": {},
   "outputs": [],
   "source": [
    "df_conv.to_csv(f'{results_dir}/tads_hg38.tsv', sep='\\t', index=False)"
   ]
  },
  {
   "cell_type": "markdown",
   "metadata": {},
   "source": [
    "# Comparison statistics"
   ]
  },
  {
   "cell_type": "code",
   "execution_count": null,
   "metadata": {},
   "outputs": [],
   "source": [
    "df_comp = pd.concat([\n",
    "    df.describe()['tad_start'].to_frame().transpose().rename(index={'tad_start': 'before'}),\n",
    "    df_conv.describe()['tad_start'].to_frame().transpose().rename(index={'tad_start': 'after'})\n",
    "]).reset_index()\n",
    "df_comp"
   ]
  },
  {
   "cell_type": "code",
   "execution_count": null,
   "metadata": {},
   "outputs": [],
   "source": [
    "df_comp_long = pd.melt(df_comp, id_vars=['index'], value_vars=['count', 'mean', 'min', 'max'])\n",
    "df_comp_long.head()"
   ]
  },
  {
   "cell_type": "code",
   "execution_count": null,
   "metadata": {},
   "outputs": [],
   "source": [
    "def annotated_barplot(*args, **kwargs):\n",
    "    g = sns.barplot(*args, **kwargs)\n",
    "    for i, row in enumerate(kwargs['data'].itertuples()):\n",
    "        g.annotate(\n",
    "            f'{row.value:,.1f}', (i, row.value), xycoords='data', \n",
    "            ha='center', xytext=(0, 3), textcoords='offset pixels')\n",
    "\n",
    "g = sns.FacetGrid(df_comp_long, col='variable', sharex=False, sharey=False, height=7)\n",
    "g.map_dataframe(annotated_barplot, x='index', y='value')\n",
    "\n",
    "plt.suptitle('TAD-start coordinate statistics (before and after hg19$\\Rightarrow$hg38 liftover)')\n",
    "plt.subplots_adjust(top=.85)\n",
    "\n",
    "g.savefig(os.path.join(images_dir, 'tad_conversion_stats.pdf'))"
   ]
  }
 ],
 "metadata": {
  "kernelspec": {
   "display_name": "Python 3",
   "language": "python",
   "name": "python3"
  },
  "language_info": {
   "codemirror_mode": {
    "name": "ipython",
    "version": 3
   },
   "file_extension": ".py",
   "mimetype": "text/x-python",
   "name": "python",
   "nbconvert_exporter": "python",
   "pygments_lexer": "ipython3",
   "version": "3.7.0"
  }
 },
 "nbformat": 4,
 "nbformat_minor": 2
}

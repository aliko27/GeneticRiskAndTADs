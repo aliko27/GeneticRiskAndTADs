{
 "cells": [
  {
   "cell_type": "code",
   "execution_count": null,
   "metadata": {},
   "outputs": [],
   "source": [
    "import os\n",
    "import itertools\n",
    "from pathlib import Path\n",
    "\n",
    "import numpy as np\n",
    "import pandas as pd\n",
    "\n",
    "import seaborn as sns\n",
    "import matplotlib.pyplot as plt\n",
    "\n",
    "from natsort import natsorted\n",
    "from tqdm.auto import tqdm\n",
    "\n",
    "from bioinf_common.plotting import annotated_barplot, add_identity"
   ]
  },
  {
   "cell_type": "code",
   "execution_count": null,
   "metadata": {},
   "outputs": [],
   "source": [
    "sns.set_context('talk')\n",
    "pd.set_option('display.max_columns', None)"
   ]
  },
  {
   "cell_type": "markdown",
   "metadata": {},
   "source": [
    "# Parameters"
   ]
  },
  {
   "cell_type": "code",
   "execution_count": null,
   "metadata": {},
   "outputs": [],
   "source": [
    "db_fname = snakemake.input.db_fname\n",
    "\n",
    "outdir = Path(snakemake.output.outdir)"
   ]
  },
  {
   "cell_type": "markdown",
   "metadata": {},
   "source": [
    "# Load data"
   ]
  },
  {
   "cell_type": "code",
   "execution_count": null,
   "metadata": {},
   "outputs": [],
   "source": [
    "df = pd.read_csv(db_fname)\n",
    "df.head()"
   ]
  },
  {
   "cell_type": "raw",
   "metadata": {},
   "source": [
    "# remove common prefix/suffix\n",
    "source_prefix = os.path.commonprefix(df['tad_source'].unique().tolist())\n",
    "source_suffix = '.csv'\n",
    "\n",
    "print(f'Removing: \"{source_prefix}\"...\"{source_suffix}\"')\n",
    "\n",
    "df['tad_source'] = df['tad_source'].str[len(source_prefix):-len(source_suffix)]"
   ]
  },
  {
   "cell_type": "markdown",
   "metadata": {},
   "source": [
    "## Data overview"
   ]
  },
  {
   "cell_type": "code",
   "execution_count": null,
   "metadata": {},
   "outputs": [],
   "source": [
    "df.shape"
   ]
  },
  {
   "cell_type": "code",
   "execution_count": null,
   "metadata": {},
   "outputs": [],
   "source": [
    "df.describe()"
   ]
  },
  {
   "cell_type": "markdown",
   "metadata": {},
   "source": [
    "# Define signal measures"
   ]
  },
  {
   "cell_type": "code",
   "execution_count": null,
   "metadata": {},
   "outputs": [],
   "source": [
    "def enrichment_quotient(df, p_thres=0.05):\n",
    "    tmp = df.copy()\n",
    "    tmp.loc[tmp['pval_boundary_neglog'] < -np.log10(p_thres), 'pval_boundary_neglog'] = 0\n",
    "\n",
    "    cancer_signal = tmp.loc[tmp['is_cancer'], 'pval_boundary_neglog'].mean()\n",
    "    noncancer_signal = tmp.loc[~tmp['is_cancer'], 'pval_boundary_neglog'].mean()\n",
    "\n",
    "#     print(df['tad_source'].iloc[0], cancer_signal, noncancer_signal, cancer_signal / noncancer_signal)\n",
    "    return cancer_signal / noncancer_signal"
   ]
  },
  {
   "cell_type": "code",
   "execution_count": null,
   "metadata": {},
   "outputs": [],
   "source": [
    "def count_quotient(df, p_thres=0.05):\n",
    "    tmp = df.copy()\n",
    "\n",
    "    sig_cancer_num = tmp[tmp['is_cancer'] & (tmp['pval_boundary_neglog'] >= -np.log10(p_thres))].shape[0]\n",
    "    all_cancer_num = tmp[tmp['is_cancer']].shape[0]\n",
    "    \n",
    "    sig_noncancer_num = tmp[(~tmp['is_cancer']) & (tmp['pval_boundary_neglog'] >= -np.log10(p_thres))].shape[0]\n",
    "    all_noncancer_num = tmp[~tmp['is_cancer']].shape[0]\n",
    "    \n",
    "#     print(df['tad_source'].iloc[0], sig_cancer_num, all_cancer_num, sig_noncancer_num, all_noncancer_num)\n",
    "    return (sig_cancer_num/all_cancer_num) / (sig_noncancer_num/all_noncancer_num)"
   ]
  },
  {
   "cell_type": "markdown",
   "metadata": {},
   "source": [
    "# Apply measure"
   ]
  },
  {
   "cell_type": "code",
   "execution_count": null,
   "metadata": {},
   "outputs": [],
   "source": [
    "border_type = '20in'\n",
    "pvalue_type = 'pval_boundary'  # pval_boundary__notcorrected\n",
    "filter_type = 'nofilter'"
   ]
  },
  {
   "cell_type": "code",
   "execution_count": null,
   "metadata": {},
   "outputs": [],
   "source": [
    "# pre-transform data\n",
    "df_trans = df.groupby(['tad_source', 'window_size', 'filter', 'diseaseId', 'TAD_type']).first().reset_index().copy()\n",
    "\n",
    "df_trans = df_trans[df_trans['TAD_type'] == border_type]\n",
    "df_trans = df_trans[df_trans['filter'] == filter_type]\n",
    "\n",
    "df_trans.loc[df_trans[pvalue_type]==0, pvalue_type] = 1e-16\n",
    "\n",
    "df_trans['pval_boundary_neglog'] = df_trans[pvalue_type].apply(lambda x: -np.log10(x))"
   ]
  },
  {
   "cell_type": "code",
   "execution_count": null,
   "metadata": {},
   "outputs": [],
   "source": [
    "df_trans.head()"
   ]
  },
  {
   "cell_type": "code",
   "execution_count": null,
   "metadata": {},
   "outputs": [],
   "source": [
    "signal_data = []\n",
    "for (tad_source, window_size), group in df_trans.groupby(['tad_source', 'window_size']):\n",
    "    signal_data.extend([\n",
    "        {\n",
    "            'tad_source': tad_source,\n",
    "            'window_size': window_size,\n",
    "            'signal': enrichment_quotient(group),\n",
    "            'type': r'$\\frac{\\langle-\\log_{10}(p_{cancer,boundary_{20in}})\\rangle}{\\langle-\\log_{10}(p_{noncancer,boundary_{20in}})\\rangle}$'\n",
    "        },\n",
    "        {\n",
    "            'tad_source': tad_source,\n",
    "            'window_size': window_size,\n",
    "            'signal': count_quotient(group),\n",
    "            'type': r'$\\frac{|\\mathrm{cancer}_{sig}| / |\\mathrm{cancer}_{all}|}{|\\mathrm{noncancer}_{sig}| / |\\mathrm{noncancer}_{all}|}$'\n",
    "        }\n",
    "    ])\n",
    "df_signal = pd.DataFrame(signal_data)"
   ]
  },
  {
   "cell_type": "code",
   "execution_count": null,
   "metadata": {},
   "outputs": [],
   "source": [
    "df_signal.head()"
   ]
  },
  {
   "cell_type": "markdown",
   "metadata": {},
   "source": [
    "# Visualize result"
   ]
  },
  {
   "cell_type": "code",
   "execution_count": null,
   "metadata": {},
   "outputs": [],
   "source": [
    "def my_bar(*args, **kwargs):\n",
    "    # adjust baseline\n",
    "    baseline = 1\n",
    "    tmp = kwargs['data'].copy()\n",
    "    tmp[kwargs['y']] -= baseline\n",
    "    kwargs['data'] = tmp\n",
    "    \n",
    "    # plot\n",
    "    annotated_barplot(\n",
    "        *args, **kwargs,\n",
    "        order=natsorted(kwargs['data']['window_size'].unique()),\n",
    "        anno_kws=dict(label_offset=6, label_size=9),\n",
    "        palette=sns.color_palette(),\n",
    "        bottom=baseline)"
   ]
  },
  {
   "cell_type": "code",
   "execution_count": null,
   "metadata": {},
   "outputs": [],
   "source": [
    "g = sns.FacetGrid(\n",
    "    df_signal,\n",
    "    col='tad_source', col_wrap=2,\n",
    "    sharex=False, sharey=True,\n",
    "    height=7, aspect=2)\n",
    "\n",
    "g.map_dataframe(my_bar, x='window_size', y='signal', hue='type')\n",
    "\n",
    "plt.xlabel('Window size')\n",
    "for ax in g.axes.ravel():\n",
    "    ax.legend()\n",
    "    \n",
    "g.savefig(outdir / 'signal_vs_datasource.pdf')"
   ]
  },
  {
   "cell_type": "markdown",
   "metadata": {},
   "source": [
    "# SNP counts"
   ]
  },
  {
   "cell_type": "markdown",
   "metadata": {},
   "source": [
    "## Aggregate counts"
   ]
  },
  {
   "cell_type": "code",
   "execution_count": null,
   "metadata": {},
   "outputs": [],
   "source": [
    "sub = df[df['TAD_type'] == '20in'][['TAD_type', 'diseaseId', '#border_snp', '#snp', 'tad_source', 'window_size', 'is_cancer', 'filter']].drop_duplicates()\n",
    "sub['snp_fraction'] = sub['#border_snp'] / sub['#snp']\n",
    "\n",
    "sub = sub[sub['filter'] == 'nofilter']\n",
    "\n",
    "sub.head()"
   ]
  },
  {
   "cell_type": "markdown",
   "metadata": {},
   "source": [
    "## Plot count data"
   ]
  },
  {
   "cell_type": "code",
   "execution_count": null,
   "metadata": {},
   "outputs": [],
   "source": [
    "g = sns.FacetGrid(\n",
    "    sub,\n",
    "    col='tad_source', col_wrap=min(2, sub['tad_source'].unique().size),\n",
    "    col_order=natsorted(sub['tad_source'].unique()),\n",
    "    sharex=False, sharey=True,\n",
    "    height=7, aspect=2)\n",
    "\n",
    "g.map_dataframe(\n",
    "    sns.boxplot,\n",
    "    x='window_size', y='snp_fraction', hue='is_cancer',\n",
    "    order=natsorted(sub['window_size'].unique()))\n",
    "\n",
    "# g.set(yscale='log')\n",
    "g.set_axis_labels('Window size', r'$\\frac{|snp_{boundary}|}{|snp_{all}|}$ per disease')\n",
    "g.add_legend(title='is_cancer')\n",
    "\n",
    "g.savefig(outdir / 'snp_numbers.pdf')"
   ]
  },
  {
   "cell_type": "markdown",
   "metadata": {},
   "source": [
    "# Variant type effect"
   ]
  },
  {
   "cell_type": "markdown",
   "metadata": {},
   "source": [
    "## Prepare data"
   ]
  },
  {
   "cell_type": "code",
   "execution_count": null,
   "metadata": {},
   "outputs": [],
   "source": [
    "df_trans = df.groupby(['tad_source', 'window_size', 'filter', 'diseaseId', 'TAD_type']).first().reset_index().copy()\n",
    "df_trans = df_trans[df_trans['TAD_type'] == '20in']\n",
    "\n",
    "df_trans.head()"
   ]
  },
  {
   "cell_type": "code",
   "execution_count": null,
   "metadata": {},
   "outputs": [],
   "source": [
    "df_none = df_trans[df_trans['filter'] == 'nofilter']\n",
    "df_exonic = df_trans[df_trans['filter'] == 'variant_group=exonic']\n",
    "df_intronic = df_trans[df_trans['filter'] == 'variant_group=intronic']\n",
    "df_intergenic = df_trans[df_trans['filter'] == 'variant_group=intergenic']"
   ]
  },
  {
   "cell_type": "code",
   "execution_count": null,
   "metadata": {},
   "outputs": [],
   "source": [
    "for name, df_tmp in [\n",
    "    ('none', df_none), ('exonic', df_exonic), \n",
    "    ('intronic', df_intronic), ('intergenic', df_intergenic)\n",
    "]:\n",
    "    print(name)\n",
    "    print('#entries:', df_tmp.shape[0])\n",
    "    print('Unique variant types:', df_tmp['variant_type'].unique().tolist())\n",
    "    print()"
   ]
  },
  {
   "cell_type": "markdown",
   "metadata": {},
   "source": [
    "## Aggregate data"
   ]
  },
  {
   "cell_type": "code",
   "execution_count": null,
   "metadata": {},
   "outputs": [],
   "source": [
    "process = lambda x: x.drop_duplicates('diseaseId').set_index(['is_cancer', 'diseaseId'])['pval_boundary'].apply(lambda x: -np.log10(x)).replace([np.inf, -np.inf], np.nan)\n",
    "\n",
    "df_merged = pd.DataFrame({\n",
    "    'enrichment_none': process(df_none),\n",
    "    'enrichment_exonic': process(df_exonic),\n",
    "    'enrichment_intronic': process(df_intronic),\n",
    "    'enrichment_intergenic': process(df_intergenic)\n",
    "})"
   ]
  },
  {
   "cell_type": "code",
   "execution_count": null,
   "metadata": {},
   "outputs": [],
   "source": [
    "df_merged.head()"
   ]
  },
  {
   "cell_type": "markdown",
   "metadata": {},
   "source": [
    "## Visualize"
   ]
  },
  {
   "cell_type": "code",
   "execution_count": null,
   "metadata": {},
   "outputs": [],
   "source": [
    "def custom_scatter(x=None, y=None, data=None, color=None):\n",
    "    ax = sns.scatterplot(x=x, y=y, color=color, data=data)\n",
    "\n",
    "    ax.axhline(-np.log10(.05), color='red', ls='dashed')\n",
    "    ax.axvline(-np.log10(.05), color='red', ls='dashed')\n",
    "    add_identity(ax, color='grey', ls='dashed')\n",
    "\n",
    "    max_ = np.nanmax(df_merged[[x, y]].values)\n",
    "    \n",
    "    if not np.isnan(max_):\n",
    "        max_ *= 1.05\n",
    "        ax.set_xlim((0, max_))\n",
    "        ax.set_ylim((0, max_))\n",
    "    else:\n",
    "        print('Warning, `max_` is Nan')\n",
    "    \n",
    "    # annotate diseases\n",
    "    tmp = data.reset_index()\n",
    "\n",
    "    if not tmp[y].empty:\n",
    "        sel = tmp.loc[tmp[y].idxmax()]\n",
    "\n",
    "        ax.annotate(\n",
    "            sel.diseaseId,\n",
    "            xy=(sel[x], sel[y]), xytext=(50, 0),\n",
    "            xycoords='data', textcoords='offset points',\n",
    "            fontsize=10, ha='center', va='center',\n",
    "            arrowprops=dict(arrowstyle='->')\n",
    "        )\n",
    "    else:\n",
    "        print('Warning, no disease annotation possible')"
   ]
  },
  {
   "cell_type": "code",
   "execution_count": null,
   "metadata": {},
   "outputs": [],
   "source": [
    "for x_axis_data_source, y_axis_data_source in itertools.combinations(df_merged.columns, 2):\n",
    "    g = sns.FacetGrid(\n",
    "        df_merged.reset_index(level=0), col='is_cancer', \n",
    "        sharex=True, sharey=True,\n",
    "        height=5, aspect=1)\n",
    "\n",
    "    g.map_dataframe(custom_scatter, x=x_axis_data_source, y=y_axis_data_source)\n",
    "    g.set_axis_labels(x_axis_data_source, y_axis_data_source)\n",
    "\n",
    "    g.savefig(outdir / f'enrichment_variants__{x_axis_data_source}_{y_axis_data_source}.pdf')"
   ]
  }
 ],
 "metadata": {
  "kernelspec": {
   "display_name": "Python 3",
   "language": "python",
   "name": "python3"
  },
  "language_info": {
   "codemirror_mode": {
    "name": "ipython",
    "version": 3
   },
   "file_extension": ".py",
   "mimetype": "text/x-python",
   "name": "python",
   "nbconvert_exporter": "python",
   "pygments_lexer": "ipython3",
   "version": "3.7.5"
  },
  "toc-autonumbering": true
 },
 "nbformat": 4,
 "nbformat_minor": 4
}
